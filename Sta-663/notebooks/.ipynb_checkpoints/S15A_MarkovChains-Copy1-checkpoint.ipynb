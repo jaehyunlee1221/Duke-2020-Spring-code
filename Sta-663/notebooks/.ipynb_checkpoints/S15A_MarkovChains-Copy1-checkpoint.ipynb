{
 "cells": [
  {
   "cell_type": "code",
   "execution_count": null,
   "metadata": {},
   "outputs": [],
   "source": [
    "%matplotlib inline\n",
    "import matplotlib.pyplot as plt\n",
    "import numpy as np\n",
    "import scipy.stats as stats"
   ]
  },
  {
   "cell_type": "code",
   "execution_count": null,
   "metadata": {},
   "outputs": [],
   "source": [
    "!pip install git+https://github.com/sursingh/dotmagic.git"
   ]
  },
  {
   "cell_type": "code",
   "execution_count": null,
   "metadata": {},
   "outputs": [],
   "source": [
    "%load_ext dotmagic"
   ]
  },
  {
   "cell_type": "markdown",
   "metadata": {},
   "source": [
    "# Markov Chains\n",
    "\n",
    "A Markov chain is a sequence of events in which the probability of the next event depends only on the state of the current event. For example, we have previously encountered Markov chains in the random walk and Google Page Rank algorithm. "
   ]
  },
  {
   "cell_type": "markdown",
   "metadata": {},
   "source": [
    "### Example: Random walk and diffusion"
   ]
  },
  {
   "cell_type": "code",
   "execution_count": null,
   "metadata": {},
   "outputs": [],
   "source": [
    "n = 1000\n",
    "k = 100\n",
    "xs = np.c_[np.zeros(n), np.random.choice([-1,1], (n, k))]\n",
    "xs = np.cumsum(xs, axis=1)"
   ]
  },
  {
   "cell_type": "code",
   "execution_count": null,
   "metadata": {},
   "outputs": [],
   "source": [
    "for x in xs:\n",
    "    plt.plot(np.arange(k+1), x)"
   ]
  },
  {
   "cell_type": "markdown",
   "metadata": {},
   "source": [
    "#### Snapshots of displacement after $k$ steps follow normal distribution with $\\sigma = \\sqrt{k}$"
   ]
  },
  {
   "cell_type": "code",
   "execution_count": null,
   "metadata": {},
   "outputs": [],
   "source": [
    "fig, axes = plt.subplots(1, 5, figsize=(15, 3), sharex=True)\n",
    "for i, k in enumerate(range(20, 101, 20)):\n",
    "    axes[i].hist(xs[:, k], alpha=0.3, density=True)\n",
    "    axes[i].set_title('t = %d' % k)\n",
    "    xp = np.linspace(-25, 25, 100)\n",
    "    axes[i].plot(xp, stats.norm(loc=0, scale=np.sqrt(k)).pdf(xp))\n",
    "plt.tight_layout()"
   ]
  },
  {
   "cell_type": "markdown",
   "metadata": {},
   "source": [
    "## Properties of states and Markov chains"
   ]
  },
  {
   "cell_type": "markdown",
   "metadata": {},
   "source": [
    "\n",
    "A Markov chain is irreducible if it is possible to get from any state to any state. Otherwise it is reducible. \n",
    "\n",
    "A state has period $k$ if it must return to that state in multiples of $k$ moves. If $k=1$, the state is aperiodic. If all states are aperiodic, then the Markov chain is aperiodic. \n",
    "\n",
    "If any state in an irreducible Markov chain is aperiodic, then all states are aperiodic. "
   ]
  },
  {
   "cell_type": "markdown",
   "metadata": {},
   "source": [
    "#### Reducible and aperiodic\n",
    "\n",
    "A is a transient state. B and C are recurrent states. "
   ]
  },
  {
   "cell_type": "code",
   "execution_count": null,
   "metadata": {},
   "outputs": [],
   "source": [
    "%%dot -p\n",
    "\n",
    "digraph g {\n",
    "    node [shape=circle]\n",
    "    A -> B\n",
    "    B -> C\n",
    "    C -> B\n",
    "    C -> C\n",
    "}"
   ]
  },
  {
   "cell_type": "markdown",
   "metadata": {},
   "source": [
    "#### Irreducible and periodic\n",
    "\n",
    "A, B, and C are recurrent states."
   ]
  },
  {
   "cell_type": "code",
   "execution_count": null,
   "metadata": {},
   "outputs": [],
   "source": [
    "%%dot -p\n",
    "\n",
    "digraph g {\n",
    "    layout=\"circo\";\n",
    "    node [shape=circle]\n",
    "    A -> B\n",
    "    B -> C\n",
    "    C -> A\n",
    "}"
   ]
  },
  {
   "cell_type": "markdown",
   "metadata": {},
   "source": [
    "#### Absorbing Markov chain\n",
    "\n",
    "D is an absorbing state. A, B and C are transient states. Since every state can reach an absorbing state, this is an absorbing Markov chain"
   ]
  },
  {
   "cell_type": "code",
   "execution_count": null,
   "metadata": {},
   "outputs": [],
   "source": [
    "%%dot -p\n",
    "\n",
    "digraph g {\n",
    "    node [shape=circle]\n",
    "    A -> B\n",
    "    B -> C\n",
    "    C -> B\n",
    "    C -> C\n",
    "    B -> D\n",
    "}"
   ]
  },
  {
   "cell_type": "markdown",
   "metadata": {},
   "source": [
    "#### Ergodic\n",
    "\n",
    "An ergodic state is aperiodic and positive recurrent. If all states are ergodic, then we have an ergodic Markov chain. A finite chain that is aperiodic and irreducible is ergodic."
   ]
  },
  {
   "cell_type": "code",
   "execution_count": null,
   "metadata": {},
   "outputs": [],
   "source": [
    "%%dot -p \n",
    "\n",
    "digraph g {\n",
    "    layout=\"circo\";\n",
    "    node [shape=circle]\n",
    "    A -> B\n",
    "    B -> C\n",
    "    C -> A\n",
    "    C -> C\n",
    "}"
   ]
  },
  {
   "cell_type": "markdown",
   "metadata": {},
   "source": [
    "### Markov Chain\n",
    "\n",
    "Suppose we have the following transition table:\n",
    "\n",
    "| Location    | Raleigh | Chapel Hill | Durham |\n",
    "|:------------|:--------|:------------|:-------|\n",
    "| Raleigh     | 0.9     | 0.05        | 0.05   |\n",
    "| Chapel Hill | 0.1     | 0.8         | 0.1    |\n",
    "| Durham      | 0.04    | 0.01        | 0.95   |\n",
    "\n",
    "This says that a resident of Raleigh this year has a 90% chance of stying in Raleigh and a 5% chance of relocating to Chapel Hill or Durham the following year. Note that the probabilities only depend on the current year. The transitions between states (Raleigh, Chapel Hill and Durham) are then said to be modeled by a Markov chain. \n",
    "\n",
    "If Raleigh, Chapel Hill and Durham each started with 300,000 residents, what is the long run distribution assuming no immigration or emigration?"
   ]
  },
  {
   "cell_type": "code",
   "execution_count": null,
   "metadata": {},
   "outputs": [],
   "source": [
    "%%dot -p\n",
    "\n",
    "digraph g {\n",
    "    node [shape=box]\n",
    "    R [label=\"Raleigh\"]\n",
    "    C [label=\"Chapel Hill\"]\n",
    "    D [label=\"Duham\"]\n",
    "    R -> R [label=0.9]\n",
    "    R -> C [label=0.05]\n",
    "    R -> D [label=0.05]\n",
    "    C -> R [label=0.1]\n",
    "    C -> C [label=0.8]\n",
    "    C -> D [label=0.1]\n",
    "    D -> R [label=0.04]\n",
    "    D -> C [label=0.01]\n",
    "    D -> D [label=0.95]\n",
    "}"
   ]
  },
  {
   "cell_type": "code",
   "execution_count": null,
   "metadata": {},
   "outputs": [],
   "source": [
    "A = np.array([\n",
    "    [0.9, 0.05, 0.05],\n",
    "    [0.1, 0.8, 0.1],\n",
    "    [0.04, 0.01, 0.95]\n",
    "])"
   ]
  },
  {
   "cell_type": "code",
   "execution_count": null,
   "metadata": {},
   "outputs": [],
   "source": [
    "x = np.array([300000, 300000, 300000]).reshape(-1,1)"
   ]
  },
  {
   "cell_type": "markdown",
   "metadata": {},
   "source": [
    "#### After one year"
   ]
  },
  {
   "cell_type": "code",
   "execution_count": null,
   "metadata": {},
   "outputs": [],
   "source": [
    "x.T @ A"
   ]
  },
  {
   "cell_type": "markdown",
   "metadata": {},
   "source": [
    "#### After 2 years"
   ]
  },
  {
   "cell_type": "code",
   "execution_count": null,
   "metadata": {},
   "outputs": [],
   "source": [
    "x.T @ A @ A"
   ]
  },
  {
   "cell_type": "markdown",
   "metadata": {},
   "source": [
    "#### Brute force solution"
   ]
  },
  {
   "cell_type": "code",
   "execution_count": null,
   "metadata": {},
   "outputs": [],
   "source": [
    "n = 100\n",
    "x.T @ np.linalg.matrix_power(A, n)"
   ]
  },
  {
   "cell_type": "markdown",
   "metadata": {},
   "source": [
    "#### Eigenvector solution\n",
    "\n",
    "At steady state, we have\n",
    "\n",
    "$$\n",
    "p^T A = p^T\n",
    "$$\n",
    "\n",
    "Taking the transpose on both sides, we see that\n",
    "\n",
    "$$\n",
    "A^Tp = p\n",
    "$$\n",
    "\n",
    "suggesting that the steady state probability vector is the normalized eigenvector of $A^T$ with $\\lambda = 1$."
   ]
  },
  {
   "cell_type": "code",
   "execution_count": null,
   "metadata": {},
   "outputs": [],
   "source": [
    "E, V = np.linalg.eig(A.T)"
   ]
  },
  {
   "cell_type": "code",
   "execution_count": null,
   "metadata": {},
   "outputs": [],
   "source": [
    "E"
   ]
  },
  {
   "cell_type": "code",
   "execution_count": null,
   "metadata": {},
   "outputs": [],
   "source": [
    "p = V[:, 2:] / V[:, 2:].sum()\n",
    "p"
   ]
  },
  {
   "cell_type": "code",
   "execution_count": null,
   "metadata": {},
   "outputs": [],
   "source": [
    "p * x.sum()"
   ]
  },
  {
   "cell_type": "markdown",
   "metadata": {},
   "source": [
    "#### Linear system solution\n",
    "\n",
    "We cannot solve $A^Tp - p= \\mathbb{0}$ directly because $A^T - I$ does not have full rank (since the last column of $A$ is fixed given the other columns).\n",
    "\n",
    "We need to add the constraint $\\sum{p} = 1$ and then we can solve the linear system to find $p$. \n",
    "\n",
    "$$\n",
    "\\begin{bmatrix}\n",
    "(A^T - I) \\\\\n",
    "\\mathbb{1}^T \n",
    "\\end{bmatrix} p = \\begin{bmatrix}\n",
    "\\mathbb{0} \\\\\n",
    "1 \\end{bmatrix}\n",
    "$$"
   ]
  },
  {
   "cell_type": "code",
   "execution_count": null,
   "metadata": {},
   "outputs": [],
   "source": [
    "np.linalg.matrix_rank(A.T - np.eye(3))"
   ]
  },
  {
   "cell_type": "code",
   "execution_count": null,
   "metadata": {},
   "outputs": [],
   "source": [
    "M = np.r_[A.T - np.eye(3), [np.ones(3)]]\n",
    "b = np.r_[np.zeros(3), 1].reshape(-1,1)"
   ]
  },
  {
   "cell_type": "code",
   "execution_count": null,
   "metadata": {},
   "outputs": [],
   "source": [
    "M"
   ]
  },
  {
   "cell_type": "code",
   "execution_count": null,
   "metadata": {},
   "outputs": [],
   "source": [
    "b"
   ]
  },
  {
   "cell_type": "code",
   "execution_count": null,
   "metadata": {},
   "outputs": [],
   "source": [
    "x, res, rank, s = np.linalg.lstsq(M, b, rcond=None)"
   ]
  },
  {
   "cell_type": "code",
   "execution_count": null,
   "metadata": {},
   "outputs": [],
   "source": [
    "x"
   ]
  },
  {
   "cell_type": "markdown",
   "metadata": {},
   "source": [
    "### Markov chain averages\n",
    "\n",
    "We can also consider the perspective of a single individual in terms of the frequencies of places visited.\n",
    "\n",
    "The individual starts from one of the 3 places (Raleigh, Chapel Hill or Durham) and moves from place to place according to the probabilities in $A$ over a long time. In the long run, the average frequency of visits to a place is the steady state probability of visiting that place.\n",
    "\n",
    "This suggests that we can estimate the equilibrium or steady state distribution by using the long-run averages, which we'll revisit when we look at Markov chain Monte Carlo (MCMC). Note that the initial averages depend on the starting conditions, so it is common practice to discard some number of the initial iterations (burn-in)."
   ]
  },
  {
   "cell_type": "code",
   "execution_count": null,
   "metadata": {},
   "outputs": [],
   "source": [
    "P = np.cumsum(A).reshape(A.shape) - np.array([0,1,2]).reshape(-1,1)\n",
    "P"
   ]
  },
  {
   "cell_type": "code",
   "execution_count": null,
   "metadata": {},
   "outputs": [],
   "source": [
    "n = int(1e6)\n",
    "xs = np.zeros(n+1).astype('int')\n",
    "xs[0] = np.random.choice([0,1,2])\n",
    "\n",
    "for t in range(n):\n",
    "    r = np.random.rand()\n",
    "    xs[t+1] = np.argmax(r < P[xs[t]])"
   ]
  },
  {
   "cell_type": "code",
   "execution_count": null,
   "metadata": {},
   "outputs": [],
   "source": [
    "np.mean(xs==0), np.mean(xs==1), np.mean(xs==2)"
   ]
  },
  {
   "cell_type": "code",
   "execution_count": null,
   "metadata": {},
   "outputs": [],
   "source": []
  }
 ],
 "metadata": {
  "kernelspec": {
   "display_name": "Python 3",
   "language": "python",
   "name": "python3"
  },
  "language_info": {
   "codemirror_mode": {
    "name": "ipython",
    "version": 3
   },
   "file_extension": ".py",
   "mimetype": "text/x-python",
   "name": "python",
   "nbconvert_exporter": "python",
   "pygments_lexer": "ipython3",
   "version": "3.6.10"
  }
 },
 "nbformat": 4,
 "nbformat_minor": 2
}
