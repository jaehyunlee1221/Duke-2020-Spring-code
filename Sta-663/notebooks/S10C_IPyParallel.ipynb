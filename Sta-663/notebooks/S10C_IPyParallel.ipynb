{
 "cells": [
  {
   "cell_type": "markdown",
   "metadata": {},
   "source": [
    "# Using `ipyparallel`\n",
    "\n",
    "Parallel execution is tightly integrated with Jupyter in the `ipyparallel` package. Install with\n",
    "\n",
    "```bash\n",
    "pip install ipyparallel\n",
    "```"
   ]
  },
  {
   "cell_type": "markdown",
   "metadata": {},
   "source": [
    "This is a rich framework. For more on how to use `ipyparallel`, see\n",
    "\n",
    "[Official documentation](https://ipyparallel.readthedocs.org/en/latest/)"
   ]
  },
  {
   "cell_type": "code",
   "execution_count": 1,
   "metadata": {},
   "outputs": [],
   "source": [
    "%matplotlib inline\n",
    "import numpy as np\n",
    "import matplotlib.pyplot as plt"
   ]
  },
  {
   "cell_type": "markdown",
   "metadata": {},
   "source": [
    "## Starting engines"
   ]
  },
  {
   "cell_type": "markdown",
   "metadata": {},
   "source": [
    "We will only use engines on local cores which does not require any setup - see [docs](https://ipyparallel.readthedocs.org/en/latest/process.html) for detailed instructions on how to set up a remote cluster, including setting up to use Amazon EC2 clusters.\n",
    "\n",
    "You can start a cluster on the `IPython Clusters` tab in the main Jupyter browser window "
   ]
  },
  {
   "cell_type": "markdown",
   "metadata": {},
   "source": [
    "The main advantage of developing parallel applications using `ipyparallel` is that it can be done interactively within Jupyter."
   ]
  },
  {
   "cell_type": "markdown",
   "metadata": {},
   "source": [
    "## Basic concepts of `ipyparallel`"
   ]
  },
  {
   "cell_type": "code",
   "execution_count": 2,
   "metadata": {},
   "outputs": [],
   "source": [
    "from ipyparallel import Client"
   ]
  },
  {
   "cell_type": "markdown",
   "metadata": {},
   "source": [
    "The client connects to the cluster of \"remote\" engines that perfrom the actual computation. These engines may be on the same machine or on a cluster. "
   ]
  },
  {
   "cell_type": "code",
   "execution_count": 3,
   "metadata": {},
   "outputs": [],
   "source": [
    "rc = Client()"
   ]
  },
  {
   "cell_type": "code",
   "execution_count": 4,
   "metadata": {},
   "outputs": [
    {
     "data": {
      "text/plain": [
       "[0, 1, 2, 3, 4, 5, 6, 7]"
      ]
     },
     "execution_count": 4,
     "metadata": {},
     "output_type": "execute_result"
    }
   ],
   "source": [
    "rc.ids"
   ]
  },
  {
   "cell_type": "markdown",
   "metadata": {},
   "source": [
    "A view provides access to a subset of the engines available to the client. Jobs are submitted to the engines via the view. A direct view allows the user to explicitly send work specific engines. The load balanced view is like the `Pool` object in `multiprocessing`, and manages the scheduling and distribution of jobs for you."
   ]
  },
  {
   "cell_type": "markdown",
   "metadata": {},
   "source": [
    "**Direct view**"
   ]
  },
  {
   "cell_type": "code",
   "execution_count": 5,
   "metadata": {},
   "outputs": [],
   "source": [
    "dv = rc[:]"
   ]
  },
  {
   "cell_type": "markdown",
   "metadata": {},
   "source": [
    "Add 10 sets of 3 numbers in parallel using all engines."
   ]
  },
  {
   "cell_type": "code",
   "execution_count": 6,
   "metadata": {},
   "outputs": [
    {
     "data": {
      "text/plain": [
       "[0, 3, 6, 9, 12, 15, 18, 21, 24, 27]"
      ]
     },
     "execution_count": 6,
     "metadata": {},
     "output_type": "execute_result"
    }
   ],
   "source": [
    "dv.map_sync(lambda x, y, z: x + y + z, range(10), range(10), range(10))"
   ]
  },
  {
   "cell_type": "markdown",
   "metadata": {},
   "source": [
    "Add 10 sets of 3 numbers in parallel using only alternate engines."
   ]
  },
  {
   "cell_type": "code",
   "execution_count": 7,
   "metadata": {},
   "outputs": [
    {
     "data": {
      "text/plain": [
       "[0, 3, 6, 9, 12, 15, 18, 21, 24, 27]"
      ]
     },
     "execution_count": 7,
     "metadata": {},
     "output_type": "execute_result"
    }
   ],
   "source": [
    "rc[::2].map_sync(lambda x, y, z: x + y + z, range(10), range(10), range(10))"
   ]
  },
  {
   "cell_type": "markdown",
   "metadata": {},
   "source": [
    "Add 10 sets of 3 numbers using a specific engine."
   ]
  },
  {
   "cell_type": "code",
   "execution_count": 8,
   "metadata": {},
   "outputs": [
    {
     "data": {
      "text/plain": [
       "[0, 3, 6, 9, 12, 15, 18, 21, 24, 27]"
      ]
     },
     "execution_count": 8,
     "metadata": {},
     "output_type": "execute_result"
    }
   ],
   "source": [
    "rc[2].map_sync(lambda x, y, z: x + y + z, range(10), range(10), range(10))"
   ]
  },
  {
   "cell_type": "markdown",
   "metadata": {},
   "source": [
    "**Load balanced view**\n",
    "\n",
    "Use this when you have many jobs that take different amounts of time to complete."
   ]
  },
  {
   "cell_type": "code",
   "execution_count": 9,
   "metadata": {},
   "outputs": [],
   "source": [
    "lv = rc.load_balanced_view()"
   ]
  },
  {
   "cell_type": "code",
   "execution_count": 10,
   "metadata": {},
   "outputs": [
    {
     "data": {
      "text/plain": [
       "[49981.15094681111,\n",
       " 49960.0120441638,\n",
       " 49890.77961950656,\n",
       " 49918.427545315106,\n",
       " 50009.64737591964,\n",
       " 49959.012023061194,\n",
       " 50060.41833565818,\n",
       " 49891.862160926394,\n",
       " 49932.78181816447,\n",
       " 50113.55074503267]"
      ]
     },
     "execution_count": 10,
     "metadata": {},
     "output_type": "execute_result"
    }
   ],
   "source": [
    "lv.map_sync(lambda x: sum(x), np.random.random((10, 100000)))"
   ]
  },
  {
   "cell_type": "markdown",
   "metadata": {},
   "source": [
    "#### Calling functions with apply"
   ]
  },
  {
   "cell_type": "markdown",
   "metadata": {},
   "source": [
    "In contrast to `map`, `apply` is just a simple function call run on all remote engines, and has the usual function signature `apply(f, *args, **kwargs)`. It is a primitive on which other more useful functions (such as `map`) are built upon."
   ]
  },
  {
   "cell_type": "code",
   "execution_count": 11,
   "metadata": {},
   "outputs": [
    {
     "data": {
      "text/plain": [
       "[25, 25]"
      ]
     },
     "execution_count": 11,
     "metadata": {},
     "output_type": "execute_result"
    }
   ],
   "source": [
    "rc[1:3].apply_sync(lambda x, y: x**2 + y**2, 3, 4)"
   ]
  },
  {
   "cell_type": "code",
   "execution_count": 12,
   "metadata": {},
   "outputs": [
    {
     "data": {
      "text/plain": [
       "[25, 25]"
      ]
     },
     "execution_count": 12,
     "metadata": {},
     "output_type": "execute_result"
    }
   ],
   "source": [
    "rc[1:3].apply_sync(lambda x, y: x**2 + y**2, x=3, y=4)"
   ]
  },
  {
   "cell_type": "markdown",
   "metadata": {},
   "source": [
    "### Synchronous and asynchronous jobs"
   ]
  },
  {
   "cell_type": "markdown",
   "metadata": {},
   "source": [
    "We have used the `map_sync` and `apply_sync` methods. The `sync` suffix indicate that we want to run a synchronous job. Synchronous jobs `block` until all the computation is done and return the result."
   ]
  },
  {
   "cell_type": "code",
   "execution_count": 13,
   "metadata": {},
   "outputs": [],
   "source": [
    "res = dv.map_sync(lambda x, y, z: x + y + z, range(10), range(10), range(10))"
   ]
  },
  {
   "cell_type": "code",
   "execution_count": 14,
   "metadata": {},
   "outputs": [
    {
     "data": {
      "text/plain": [
       "[0, 3, 6, 9, 12, 15, 18, 21, 24, 27]"
      ]
     },
     "execution_count": 14,
     "metadata": {},
     "output_type": "execute_result"
    }
   ],
   "source": [
    "res"
   ]
  },
  {
   "cell_type": "markdown",
   "metadata": {},
   "source": [
    "In contrast, asynchronous jobs return immediately so that you can do other work, but returns a `AsyncMapResult` object, similar to the `future` object returned by the `concurrent.futures` package. You can query its status, cancel running jobs and retrieve results once they have been computed."
   ]
  },
  {
   "cell_type": "code",
   "execution_count": 15,
   "metadata": {},
   "outputs": [],
   "source": [
    "res = dv.map_async(lambda x, y, z: x + y + z, range(10), range(10), range(10))"
   ]
  },
  {
   "cell_type": "code",
   "execution_count": 16,
   "metadata": {},
   "outputs": [
    {
     "data": {
      "text/plain": [
       "<AsyncMapResult: <lambda>>"
      ]
     },
     "execution_count": 16,
     "metadata": {},
     "output_type": "execute_result"
    }
   ],
   "source": [
    "res"
   ]
  },
  {
   "cell_type": "code",
   "execution_count": 17,
   "metadata": {},
   "outputs": [
    {
     "data": {
      "text/plain": [
       "True"
      ]
     },
     "execution_count": 17,
     "metadata": {},
     "output_type": "execute_result"
    }
   ],
   "source": [
    "res.done()"
   ]
  },
  {
   "cell_type": "code",
   "execution_count": 18,
   "metadata": {},
   "outputs": [
    {
     "data": {
      "text/plain": [
       "[0, 3, 6, 9, 12, 15, 18, 21, 24, 27]"
      ]
     },
     "execution_count": 18,
     "metadata": {},
     "output_type": "execute_result"
    }
   ],
   "source": [
    "res.get()"
   ]
  },
  {
   "cell_type": "markdown",
   "metadata": {},
   "source": [
    "There is also a `map` method that by default uses asynchronous mode, but you can change this by setting the `block` attribute or function argument."
   ]
  },
  {
   "cell_type": "code",
   "execution_count": 19,
   "metadata": {},
   "outputs": [],
   "source": [
    "res = dv.map(lambda x, y, z: x + y + z, range(10), range(10), range(10))"
   ]
  },
  {
   "cell_type": "code",
   "execution_count": 20,
   "metadata": {},
   "outputs": [
    {
     "data": {
      "text/plain": [
       "[0, 3, 6, 9, 12, 15, 18, 21, 24, 27]"
      ]
     },
     "execution_count": 20,
     "metadata": {},
     "output_type": "execute_result"
    }
   ],
   "source": [
    "res.get()"
   ]
  },
  {
   "cell_type": "markdown",
   "metadata": {},
   "source": [
    "Change blocking mode for just one job."
   ]
  },
  {
   "cell_type": "code",
   "execution_count": 21,
   "metadata": {},
   "outputs": [],
   "source": [
    "res = dv.map(lambda x, y, z: x + y + z, range(10), range(10), range(10), block=True)"
   ]
  },
  {
   "cell_type": "code",
   "execution_count": 22,
   "metadata": {},
   "outputs": [
    {
     "data": {
      "text/plain": [
       "[0, 3, 6, 9, 12, 15, 18, 21, 24, 27]"
      ]
     },
     "execution_count": 22,
     "metadata": {},
     "output_type": "execute_result"
    }
   ],
   "source": [
    "res"
   ]
  },
  {
   "cell_type": "markdown",
   "metadata": {},
   "source": [
    "Change blocking mode for this view so that all jobs are synchronous."
   ]
  },
  {
   "cell_type": "code",
   "execution_count": 23,
   "metadata": {},
   "outputs": [],
   "source": [
    "dv.block = True"
   ]
  },
  {
   "cell_type": "code",
   "execution_count": 24,
   "metadata": {},
   "outputs": [],
   "source": [
    "res = dv.map(lambda x, y, z: x + y + z, range(10), range(10), range(10))"
   ]
  },
  {
   "cell_type": "code",
   "execution_count": 25,
   "metadata": {},
   "outputs": [
    {
     "data": {
      "text/plain": [
       "[0, 3, 6, 9, 12, 15, 18, 21, 24, 27]"
      ]
     },
     "execution_count": 25,
     "metadata": {},
     "output_type": "execute_result"
    }
   ],
   "source": [
    "res"
   ]
  },
  {
   "cell_type": "markdown",
   "metadata": {},
   "source": [
    "\n",
    "### Remote function decorators "
   ]
  },
  {
   "cell_type": "markdown",
   "metadata": {},
   "source": [
    "The `@remote` decorator results in functions that will execute simultaneously on all engines in a view. For example, you can use this decorator if you always want to run $n$ independent parallel MCMC chains."
   ]
  },
  {
   "cell_type": "code",
   "execution_count": 26,
   "metadata": {},
   "outputs": [
    {
     "name": "stdout",
     "output_type": "stream",
     "text": [
      "importing numpy on engine(s)\n"
     ]
    }
   ],
   "source": [
    "with dv.sync_imports():\n",
    "    import numpy"
   ]
  },
  {
   "cell_type": "code",
   "execution_count": 27,
   "metadata": {},
   "outputs": [],
   "source": [
    "@dv.remote(block = True)\n",
    "def f1(n):\n",
    "    return numpy.random.rand(n)"
   ]
  },
  {
   "cell_type": "code",
   "execution_count": 28,
   "metadata": {},
   "outputs": [
    {
     "data": {
      "text/plain": [
       "[array([0.18472276, 0.58311062, 0.00970686, 0.82963292]),\n",
       " array([0.3707495 , 0.55731368, 0.28422286, 0.11945056]),\n",
       " array([0.76889473, 0.16928617, 0.87105353, 0.69520204]),\n",
       " array([0.77968322, 0.09836705, 0.29899082, 0.43869955]),\n",
       " array([0.44118982, 0.22560375, 0.79489356, 0.78417991]),\n",
       " array([0.40955816, 0.31819581, 0.45670871, 0.54122942]),\n",
       " array([0.55517265, 0.52965973, 0.12639326, 0.61261257]),\n",
       " array([0.07980547, 0.47902453, 0.42447179, 0.41533817])]"
      ]
     },
     "execution_count": 28,
     "metadata": {},
     "output_type": "execute_result"
    }
   ],
   "source": [
    "f1(4)"
   ]
  },
  {
   "cell_type": "markdown",
   "metadata": {},
   "source": [
    "The @parallel decorator breaks up elementwise operations and distributes them."
   ]
  },
  {
   "cell_type": "code",
   "execution_count": 29,
   "metadata": {},
   "outputs": [],
   "source": [
    "@dv.parallel(block = True)\n",
    "def f2(x):\n",
    "    return x"
   ]
  },
  {
   "cell_type": "code",
   "execution_count": 30,
   "metadata": {},
   "outputs": [
    {
     "data": {
      "text/plain": [
       "[range(0, 2),\n",
       " range(2, 4),\n",
       " range(4, 6),\n",
       " range(6, 8),\n",
       " range(8, 10),\n",
       " range(10, 12),\n",
       " range(12, 14),\n",
       " range(14, 15)]"
      ]
     },
     "execution_count": 30,
     "metadata": {},
     "output_type": "execute_result"
    }
   ],
   "source": [
    "f2(range(15))"
   ]
  },
  {
   "cell_type": "code",
   "execution_count": 31,
   "metadata": {},
   "outputs": [],
   "source": [
    "@dv.parallel(block = True)\n",
    "def f3(x):\n",
    "    return sum(x)"
   ]
  },
  {
   "cell_type": "code",
   "execution_count": 32,
   "metadata": {},
   "outputs": [
    {
     "data": {
      "text/plain": [
       "[1, 5, 9, 13, 17, 21, 25, 14]"
      ]
     },
     "execution_count": 32,
     "metadata": {},
     "output_type": "execute_result"
    }
   ],
   "source": [
    "f3(range(15))"
   ]
  },
  {
   "cell_type": "code",
   "execution_count": 33,
   "metadata": {},
   "outputs": [],
   "source": [
    "@dv.parallel(block = True)\n",
    "def f4(x, y):\n",
    "    return x + y"
   ]
  },
  {
   "cell_type": "code",
   "execution_count": 34,
   "metadata": {},
   "outputs": [
    {
     "data": {
      "text/plain": [
       "array([ 0,  2,  4,  6,  8, 10, 12, 14, 16, 18])"
      ]
     },
     "execution_count": 34,
     "metadata": {},
     "output_type": "execute_result"
    }
   ],
   "source": [
    "f4(np.arange(10), np.arange(10))"
   ]
  },
  {
   "cell_type": "markdown",
   "metadata": {},
   "source": [
    "####  Example: Use the `@parallel` decorator to speed up Mandelbrot calculations"
   ]
  },
  {
   "cell_type": "code",
   "execution_count": 35,
   "metadata": {},
   "outputs": [],
   "source": [
    "def mandel1(x, y, max_iters=80):\n",
    "    c = complex(x, y)\n",
    "    z = 0.0j\n",
    "    for i in range(max_iters):\n",
    "        z = z*z + c\n",
    "        if z.real*z.real + z.imag*z.imag >= 4:\n",
    "            return i\n",
    "    return max_iters"
   ]
  },
  {
   "cell_type": "code",
   "execution_count": 36,
   "metadata": {},
   "outputs": [],
   "source": [
    "@dv.parallel(block = True)\n",
    "def mandel2(x, y, max_iters=80):\n",
    "    c = complex(x, y)\n",
    "    z = 0.0j\n",
    "    for i in range(max_iters):\n",
    "        z = z*z + c\n",
    "        if z.real*z.real + z.imag*z.imag >= 4:\n",
    "            return i\n",
    "    return max_iters"
   ]
  },
  {
   "cell_type": "code",
   "execution_count": 37,
   "metadata": {},
   "outputs": [],
   "source": [
    "x = np.arange(-2, 1, 0.01)\n",
    "y = np.arange(-1, 1, 0.01)\n",
    "X, Y = np.meshgrid(x, y)"
   ]
  },
  {
   "cell_type": "code",
   "execution_count": 38,
   "metadata": {},
   "outputs": [
    {
     "name": "stdout",
     "output_type": "stream",
     "text": [
      "CPU times: user 500 ms, sys: 0 ns, total: 500 ms\n",
      "Wall time: 500 ms\n"
     ]
    }
   ],
   "source": [
    "%%time\n",
    "im1 = np.reshape(list(map(mandel1, X.ravel(), Y.ravel())), (len(y), len(x)))"
   ]
  },
  {
   "cell_type": "code",
   "execution_count": 39,
   "metadata": {},
   "outputs": [
    {
     "name": "stdout",
     "output_type": "stream",
     "text": [
      "CPU times: user 32 ms, sys: 8 ms, total: 40 ms\n",
      "Wall time: 142 ms\n"
     ]
    }
   ],
   "source": [
    "%%time\n",
    "im2 = np.reshape(mandel2.map(X.ravel(), Y.ravel()),  (len(y), len(x)))"
   ]
  },
  {
   "cell_type": "code",
   "execution_count": 40,
   "metadata": {},
   "outputs": [
    {
     "data": {
      "image/png": "[encoded data removed]",
      "text/plain": [
       "<Figure size 864x288 with 2 Axes>"
      ]
     },
     "metadata": {},
     "output_type": "display_data"
    }
   ],
   "source": [
    "fig, axes = plt.subplots(1, 2, figsize=(12, 4))\n",
    "axes[0].grid(False)\n",
    "axes[0].imshow(im1, cmap='jet')\n",
    "axes[1].grid(False)\n",
    "axes[1].imshow(im2, cmap='jet')\n",
    "pass"
   ]
  },
  {
   "cell_type": "markdown",
   "metadata": {},
   "source": [
    "### Functions with dependencies"
   ]
  },
  {
   "cell_type": "markdown",
   "metadata": {},
   "source": [
    "Modules imported locally are NOT available in the remote engines."
   ]
  },
  {
   "cell_type": "code",
   "execution_count": 41,
   "metadata": {},
   "outputs": [],
   "source": [
    "import time\n",
    "import datetime"
   ]
  },
  {
   "cell_type": "code",
   "execution_count": 42,
   "metadata": {},
   "outputs": [],
   "source": [
    "def g1(x):\n",
    "    time.sleep(0.1)\n",
    "    now = datetime.datetime.now()\n",
    "    return (now, x)"
   ]
  },
  {
   "cell_type": "markdown",
   "metadata": {},
   "source": [
    "This fails with an Exception because the `time` and `datetime` modules are not imported in the remote engines.\n",
    "\n",
    "```python\n",
    "dv.map_sync(g1, range(10))\n",
    "```"
   ]
  },
  {
   "cell_type": "markdown",
   "metadata": {},
   "source": [
    "The simplest fix is to import the module(s) *within* the function"
   ]
  },
  {
   "cell_type": "code",
   "execution_count": 43,
   "metadata": {},
   "outputs": [],
   "source": [
    "def g2(x):\n",
    "    import time, datetime\n",
    "    time.sleep(0.1)\n",
    "    now = datetime.datetime.now()\n",
    "    return (now, x)"
   ]
  },
  {
   "cell_type": "code",
   "execution_count": 44,
   "metadata": {},
   "outputs": [
    {
     "data": {
      "text/plain": [
       "[(datetime.datetime(2020, 4, 16, 18, 59, 0, 905717), 0),\n",
       " (datetime.datetime(2020, 4, 16, 18, 59, 0, 905823), 1),\n",
       " (datetime.datetime(2020, 4, 16, 18, 59, 0, 905938), 2),\n",
       " (datetime.datetime(2020, 4, 16, 18, 59, 0, 905981), 3),\n",
       " (datetime.datetime(2020, 4, 16, 18, 59, 0, 905971), 4)]"
      ]
     },
     "execution_count": 44,
     "metadata": {},
     "output_type": "execute_result"
    }
   ],
   "source": [
    "dv.map_sync(g2, range(5))"
   ]
  },
  {
   "cell_type": "markdown",
   "metadata": {},
   "source": [
    "Alternatively, you can simultaneously import both locally and in the remote engines with the `sync_import` context manager."
   ]
  },
  {
   "cell_type": "code",
   "execution_count": 45,
   "metadata": {},
   "outputs": [
    {
     "name": "stdout",
     "output_type": "stream",
     "text": [
      "importing time on engine(s)\n",
      "importing datetime on engine(s)\n"
     ]
    }
   ],
   "source": [
    "with dv.sync_imports():\n",
    "    import time\n",
    "    import datetime"
   ]
  },
  {
   "cell_type": "markdown",
   "metadata": {},
   "source": [
    "Now the `g1` function will work."
   ]
  },
  {
   "cell_type": "code",
   "execution_count": 46,
   "metadata": {},
   "outputs": [
    {
     "data": {
      "text/plain": [
       "[(datetime.datetime(2020, 4, 16, 18, 59, 1, 76582), 0),\n",
       " (datetime.datetime(2020, 4, 16, 18, 59, 1, 76747), 1),\n",
       " (datetime.datetime(2020, 4, 16, 18, 59, 1, 76795), 2),\n",
       " (datetime.datetime(2020, 4, 16, 18, 59, 1, 77072), 3),\n",
       " (datetime.datetime(2020, 4, 16, 18, 59, 1, 77054), 4)]"
      ]
     },
     "execution_count": 46,
     "metadata": {},
     "output_type": "execute_result"
    }
   ],
   "source": [
    "dv.map_sync(g1, range(5))"
   ]
  },
  {
   "cell_type": "markdown",
   "metadata": {},
   "source": [
    "Finally, there is also a `require` decorator that can be used. This will force the remote engine to import all packages given."
   ]
  },
  {
   "cell_type": "code",
   "execution_count": 47,
   "metadata": {},
   "outputs": [],
   "source": [
    "from ipyparallel import require"
   ]
  },
  {
   "cell_type": "code",
   "execution_count": 48,
   "metadata": {},
   "outputs": [],
   "source": [
    "@require('scipy.stats')\n",
    "def g3(x):\n",
    "    return scipy.stats.norm(0,1).pdf(x)"
   ]
  },
  {
   "cell_type": "code",
   "execution_count": 49,
   "metadata": {},
   "outputs": [
    {
     "data": {
      "text/plain": [
       "[0.0044318484119380075,\n",
       " 0.05399096651318806,\n",
       " 0.24197072451914337,\n",
       " 0.3989422804014327,\n",
       " 0.24197072451914337,\n",
       " 0.05399096651318806,\n",
       " 0.0044318484119380075]"
      ]
     },
     "execution_count": 49,
     "metadata": {},
     "output_type": "execute_result"
    }
   ],
   "source": [
    "dv.map(g3, np.arange(-3, 4))"
   ]
  },
  {
   "cell_type": "markdown",
   "metadata": {},
   "source": [
    "### Moving data around"
   ]
  },
  {
   "cell_type": "markdown",
   "metadata": {},
   "source": [
    "We can send data to remote engines with `push` and retrieve them with `pull`, or using the dictionary interface. For example, you can use this to distribute a large lookup table to all engines once instead of repeatedly as a function argument."
   ]
  },
  {
   "cell_type": "code",
   "execution_count": 50,
   "metadata": {},
   "outputs": [
    {
     "data": {
      "text/plain": [
       "[None, None, None, None, None, None, None, None]"
      ]
     },
     "execution_count": 50,
     "metadata": {},
     "output_type": "execute_result"
    }
   ],
   "source": [
    "dv.push(dict(a=3, b=2))"
   ]
  },
  {
   "cell_type": "code",
   "execution_count": 51,
   "metadata": {},
   "outputs": [],
   "source": [
    "def f(x):\n",
    "    global a, b\n",
    "    return a*x + b"
   ]
  },
  {
   "cell_type": "code",
   "execution_count": 52,
   "metadata": {},
   "outputs": [
    {
     "data": {
      "text/plain": [
       "[2, 5, 8, 11, 14]"
      ]
     },
     "execution_count": 52,
     "metadata": {},
     "output_type": "execute_result"
    }
   ],
   "source": [
    "dv.map_sync(f, range(5))"
   ]
  },
  {
   "cell_type": "code",
   "execution_count": 53,
   "metadata": {},
   "outputs": [
    {
     "data": {
      "text/plain": [
       "[[3, 2], [3, 2], [3, 2], [3, 2], [3, 2], [3, 2], [3, 2], [3, 2]]"
      ]
     },
     "execution_count": 53,
     "metadata": {},
     "output_type": "execute_result"
    }
   ],
   "source": [
    "dv.pull(('a', 'b'))"
   ]
  },
  {
   "cell_type": "markdown",
   "metadata": {},
   "source": [
    "#### You can also use the dictionary interface as an alternative to push and pull"
   ]
  },
  {
   "cell_type": "code",
   "execution_count": 54,
   "metadata": {},
   "outputs": [],
   "source": [
    "dv['c'] = 5"
   ]
  },
  {
   "cell_type": "code",
   "execution_count": 55,
   "metadata": {},
   "outputs": [
    {
     "data": {
      "text/plain": [
       "[3, 3, 3, 3, 3, 3, 3, 3]"
      ]
     },
     "execution_count": 55,
     "metadata": {},
     "output_type": "execute_result"
    }
   ],
   "source": [
    "dv['a']"
   ]
  },
  {
   "cell_type": "code",
   "execution_count": 56,
   "metadata": {},
   "outputs": [
    {
     "data": {
      "text/plain": [
       "[5, 5, 5, 5, 5, 5, 5, 5]"
      ]
     },
     "execution_count": 56,
     "metadata": {},
     "output_type": "execute_result"
    }
   ],
   "source": [
    "dv['c']"
   ]
  },
  {
   "cell_type": "markdown",
   "metadata": {},
   "source": [
    "Using parallel magic commands\n",
    "----\n",
    "\n",
    "In practice, most users will simply use the `%px` magic to execute code in parallel from within the notebook. This is the simplest way to use `ipyparallel`."
   ]
  },
  {
   "cell_type": "code",
   "execution_count": 57,
   "metadata": {},
   "outputs": [],
   "source": [
    "def f(xs):\n",
    "    s = 0\n",
    "    for x in xs:\n",
    "        s += x\n",
    "    return s"
   ]
  },
  {
   "cell_type": "code",
   "execution_count": 58,
   "metadata": {},
   "outputs": [
    {
     "data": {
      "text/plain": [
       "[1.455821873914668,\n",
       " 2.5548527878771496,\n",
       " 1.943134943296887,\n",
       " 3.5219170200603296,\n",
       " 3.5108098284842204,\n",
       " 1.8450153390831912]"
      ]
     },
     "execution_count": 58,
     "metadata": {},
     "output_type": "execute_result"
    }
   ],
   "source": [
    "dv.map(f, np.random.random((6, 4)))"
   ]
  },
  {
   "cell_type": "markdown",
   "metadata": {
    "collapsed": true
   },
   "source": [
    "### %px"
   ]
  },
  {
   "cell_type": "markdown",
   "metadata": {},
   "source": [
    "This sends the command to all targeted engines."
   ]
  },
  {
   "cell_type": "code",
   "execution_count": 59,
   "metadata": {},
   "outputs": [
    {
     "data": {
      "text/plain": [
       "\u001b[0;31mOut[0:3]: \u001b[0m1.231755492630267"
      ]
     },
     "metadata": {
      "after": [],
      "completed": "2020-04-16T18:59:01.778304",
      "data": {},
      "engine_id": 0,
      "engine_uuid": "013d1d3d-1ad777eb67581ccd7b3ec221",
      "error": null,
      "execute_input": "a.sum()",
      "execute_result": {
       "data": {
        "text/plain": "1.231755492630267"
       },
       "execution_count": 3,
       "metadata": {}
      },
      "follow": [],
      "msg_id": "6d9fe921-4afd1b30a7a80adc2fd8889e",
      "outputs": [],
      "received": "2020-04-16T18:59:01.783449",
      "started": "2020-04-16T18:59:01.768209",
      "status": "ok",
      "stderr": "",
      "stdout": "",
      "submitted": "2020-04-16T18:59:01.764555"
     },
     "output_type": "display_data"
    },
    {
     "data": {
      "text/plain": [
       "\u001b[0;31mOut[1:3]: \u001b[0m2.6964804654703194"
      ]
     },
     "metadata": {
      "after": [],
      "completed": "2020-04-16T18:59:01.777960",
      "data": {},
      "engine_id": 1,
      "engine_uuid": "ddfd1b63-f5cc8215df6170351816f934",
      "error": null,
      "execute_input": "a.sum()",
      "execute_result": {
       "data": {
        "text/plain": "2.6964804654703194"
       },
       "execution_count": 3,
       "metadata": {}
      },
      "follow": [],
      "msg_id": "3eca4599-b7e182cf7f238a4ca3d9d453",
      "outputs": [],
      "received": "2020-04-16T18:59:01.782306",
      "started": "2020-04-16T18:59:01.768294",
      "status": "ok",
      "stderr": "",
      "stdout": "",
      "submitted": "2020-04-16T18:59:01.764774"
     },
     "output_type": "display_data"
    },
    {
     "data": {
      "text/plain": [
       "\u001b[0;31mOut[2:3]: \u001b[0m2.7872819711433436"
      ]
     },
     "metadata": {
      "after": [],
      "completed": "2020-04-16T18:59:01.778343",
      "data": {},
      "engine_id": 2,
      "engine_uuid": "056fdc7c-ba4fe2c1d20b4df038dc6b74",
      "error": null,
      "execute_input": "a.sum()",
      "execute_result": {
       "data": {
        "text/plain": "2.7872819711433436"
       },
       "execution_count": 3,
       "metadata": {}
      },
      "follow": [],
      "msg_id": "f98dfae4-c70f95dc97dcfec171dd061b",
      "outputs": [],
      "received": "2020-04-16T18:59:01.781197",
      "started": "2020-04-16T18:59:01.768368",
      "status": "ok",
      "stderr": "",
      "stdout": "",
      "submitted": "2020-04-16T18:59:01.764937"
     },
     "output_type": "display_data"
    },
    {
     "data": {
      "text/plain": [
       "\u001b[0;31mOut[3:3]: \u001b[0m2.2651690765222607"
      ]
     },
     "metadata": {
      "after": [],
      "completed": "2020-04-16T18:59:01.778332",
      "data": {},
      "engine_id": 3,
      "engine_uuid": "9a777a22-9cd3dcaebf35ce197ee651dd",
      "error": null,
      "execute_input": "a.sum()",
      "execute_result": {
       "data": {
        "text/plain": "2.2651690765222607"
       },
       "execution_count": 3,
       "metadata": {}
      },
      "follow": [],
      "msg_id": "e15db316-d8838705375ab3863cedff0b",
      "outputs": [],
      "received": "2020-04-16T18:59:01.784556",
      "started": "2020-04-16T18:59:01.768397",
      "status": "ok",
      "stderr": "",
      "stdout": "",
      "submitted": "2020-04-16T18:59:01.765090"
     },
     "output_type": "display_data"
    },
    {
     "data": {
      "text/plain": [
       "\u001b[0;31mOut[4:3]: \u001b[0m2.538202038021672"
      ]
     },
     "metadata": {
      "after": [],
      "completed": "2020-04-16T18:59:01.778097",
      "data": {},
      "engine_id": 4,
      "engine_uuid": "ea55e8d2-1a516a3091e1db8f30eb1932",
      "error": null,
      "execute_input": "a.sum()",
      "execute_result": {
       "data": {
        "text/plain": "2.538202038021672"
       },
       "execution_count": 3,
       "metadata": {}
      },
      "follow": [],
      "msg_id": "7418f122-44ac53a020c4bfc1e8803b26",
      "outputs": [],
      "received": "2020-04-16T18:59:01.780088",
      "started": "2020-04-16T18:59:01.768497",
      "status": "ok",
      "stderr": "",
      "stdout": "",
      "submitted": "2020-04-16T18:59:01.765328"
     },
     "output_type": "display_data"
    },
    {
     "data": {
      "text/plain": [
       "\u001b[0;31mOut[5:3]: \u001b[0m2.342684993836116"
      ]
     },
     "metadata": {
      "after": [],
      "completed": "2020-04-16T18:59:01.778254",
      "data": {},
      "engine_id": 5,
      "engine_uuid": "a2fbd601-6c1be2f10cc8ce6bf25a2495",
      "error": null,
      "execute_input": "a.sum()",
      "execute_result": {
       "data": {
        "text/plain": "2.342684993836116"
       },
       "execution_count": 3,
       "metadata": {}
      },
      "follow": [],
      "msg_id": "0093daea-6996b72b1d531cf260a9c1ea",
      "outputs": [],
      "received": "2020-04-16T18:59:01.787712",
      "started": "2020-04-16T18:59:01.768523",
      "status": "ok",
      "stderr": "",
      "stdout": "",
      "submitted": "2020-04-16T18:59:01.765486"
     },
     "output_type": "display_data"
    },
    {
     "data": {
      "text/plain": [
       "\u001b[0;31mOut[6:3]: \u001b[0m1.2899226452213557"
      ]
     },
     "metadata": {
      "after": [],
      "completed": "2020-04-16T18:59:01.779001",
      "data": {},
      "engine_id": 6,
      "engine_uuid": "a8e9d4cd-74f7808b7d327e00c70eca2d",
      "error": null,
      "execute_input": "a.sum()",
      "execute_result": {
       "data": {
        "text/plain": "1.2899226452213557"
       },
       "execution_count": 3,
       "metadata": {}
      },
      "follow": [],
      "msg_id": "74a650b4-e346573aca36356d5d2158c7",
      "outputs": [],
      "received": "2020-04-16T18:59:01.788898",
      "started": "2020-04-16T18:59:01.768655",
      "status": "ok",
      "stderr": "",
      "stdout": "",
      "submitted": "2020-04-16T18:59:01.765639"
     },
     "output_type": "display_data"
    },
    {
     "data": {
      "text/plain": [
       "\u001b[0;31mOut[7:3]: \u001b[0m1.402290461197728"
      ]
     },
     "metadata": {
      "after": [],
      "completed": "2020-04-16T18:59:01.778812",
      "data": {},
      "engine_id": 7,
      "engine_uuid": "685b3a39-b9c9d9398be0a3fa18fefa38",
      "error": null,
      "execute_input": "a.sum()",
      "execute_result": {
       "data": {
        "text/plain": "1.402290461197728"
       },
       "execution_count": 3,
       "metadata": {}
      },
      "follow": [],
      "msg_id": "fc6e1a44-1915309c1e5942ca1edc4564",
      "outputs": [],
      "received": "2020-04-16T18:59:01.785659",
      "started": "2020-04-16T18:59:01.768581",
      "status": "ok",
      "stderr": "",
      "stdout": "",
      "submitted": "2020-04-16T18:59:01.765802"
     },
     "output_type": "display_data"
    }
   ],
   "source": [
    "%px import numpy as np\n",
    "%px a = np.random.random(4)\n",
    "%px a.sum()"
   ]
  },
  {
   "cell_type": "markdown",
   "metadata": {},
   "source": [
    "#### List comprehensions in parallel"
   ]
  },
  {
   "cell_type": "markdown",
   "metadata": {},
   "source": [
    "The `scatter` method partitions and distributes data to all engines. The `gather` method does the reverse. Together with `%px`, we can simulate parallel list comprehensions."
   ]
  },
  {
   "cell_type": "code",
   "execution_count": 60,
   "metadata": {},
   "outputs": [
    {
     "name": "stdout",
     "output_type": "stream",
     "text": [
      "[stdout:0] [9 7]\n",
      "[stdout:1] [0 9]\n",
      "[stdout:2] [3]\n",
      "[stdout:3] [2]\n",
      "[stdout:4] [9]\n",
      "[stdout:5] [9]\n",
      "[stdout:6] [8]\n",
      "[stdout:7] [5]\n"
     ]
    }
   ],
   "source": [
    "dv.scatter('a', np.random.randint(0, 10, 10))\n",
    "%px print(a)"
   ]
  },
  {
   "cell_type": "code",
   "execution_count": 61,
   "metadata": {},
   "outputs": [
    {
     "data": {
      "text/plain": [
       "array([9, 7, 0, 9, 3, 2, 9, 9, 8, 5])"
      ]
     },
     "execution_count": 61,
     "metadata": {},
     "output_type": "execute_result"
    }
   ],
   "source": [
    "dv.gather('a')"
   ]
  },
  {
   "cell_type": "code",
   "execution_count": 62,
   "metadata": {},
   "outputs": [
    {
     "data": {
      "text/plain": [
       "array([  0,   1,   4,   9,  16,  25,  36,  49,  64,  81, 100, 121, 144,\n",
       "       169, 196, 225, 256, 289, 324, 361, 400, 441, 484, 529])"
      ]
     },
     "execution_count": 62,
     "metadata": {},
     "output_type": "execute_result"
    }
   ],
   "source": [
    "dv.scatter('xs', range(24))\n",
    "%px y = [x**2 for x in xs]\n",
    "np.array(dv.gather('y'))"
   ]
  },
  {
   "cell_type": "markdown",
   "metadata": {},
   "source": [
    "#### Running magic functions in parallel"
   ]
  },
  {
   "cell_type": "code",
   "execution_count": 63,
   "metadata": {},
   "outputs": [
    {
     "data": {
      "text/plain": [
       "[output:1]"
      ]
     },
     "metadata": {},
     "output_type": "display_data"
    },
    {
     "data": {
      "image/png": "[encoded data removed]",
      "text/plain": [
       "<Figure size 432x288 with 1 Axes>"
      ]
     },
     "metadata": {
      "engine": 1
     },
     "output_type": "display_data"
    },
    {
     "data": {
      "text/plain": [
       "[output:3]"
      ]
     },
     "metadata": {},
     "output_type": "display_data"
    },
    {
     "data": {
      "image/png": "[encoded data removed]",
      "text/plain": [
       "<Figure size 432x288 with 1 Axes>"
      ]
     },
     "metadata": {
      "engine": 3
     },
     "output_type": "display_data"
    }
   ],
   "source": [
    "%%px --target [1,3]\n",
    "%matplotlib inline\n",
    "import seaborn as sns\n",
    "x = np.random.normal(np.random.randint(-10, 10), 1, 100)\n",
    "sns.kdeplot(x);"
   ]
  },
  {
   "cell_type": "markdown",
   "metadata": {},
   "source": [
    "### Running in non-blocking mode"
   ]
  },
  {
   "cell_type": "code",
   "execution_count": 64,
   "metadata": {},
   "outputs": [
    {
     "data": {
      "text/plain": [
       "<AsyncResult: execute>"
      ]
     },
     "execution_count": 64,
     "metadata": {},
     "output_type": "execute_result"
    }
   ],
   "source": [
    "%%px --target [1,3] --noblock\n",
    "%matplotlib inline\n",
    "import seaborn as sns\n",
    "x = np.random.normal(np.random.randint(-10, 10), 1, 100)\n",
    "sns.kdeplot(x);"
   ]
  },
  {
   "cell_type": "code",
   "execution_count": 65,
   "metadata": {},
   "outputs": [
    {
     "data": {
      "text/plain": [
       "[output:1]"
      ]
     },
     "metadata": {},
     "output_type": "display_data"
    },
    {
     "data": {
      "image/png": "[encoded data removed]",
      "text/plain": [
       "<Figure size 432x288 with 1 Axes>"
      ]
     },
     "metadata": {
      "engine": 1
     },
     "output_type": "display_data"
    },
    {
     "data": {
      "text/plain": [
       "[output:3]"
      ]
     },
     "metadata": {},
     "output_type": "display_data"
    },
    {
     "data": {
      "image/png": "[encoded data removed]",
      "text/plain": [
       "<Figure size 432x288 with 1 Axes>"
      ]
     },
     "metadata": {
      "engine": 3
     },
     "output_type": "display_data"
    }
   ],
   "source": [
    "%pxresult"
   ]
  },
  {
   "cell_type": "code",
   "execution_count": null,
   "metadata": {},
   "outputs": [],
   "source": []
  }
 ],
 "metadata": {
  "kernelspec": {
   "display_name": "Python 3",
   "language": "python",
   "name": "python3"
  },
  "language_info": {
   "codemirror_mode": {
    "name": "ipython",
    "version": 3
   },
   "file_extension": ".py",
   "mimetype": "text/x-python",
   "name": "python",
   "nbconvert_exporter": "python",
   "pygments_lexer": "ipython3",
   "version": "3.6.10"
  }
 },
 "nbformat": 4,
 "nbformat_minor": 1
}
