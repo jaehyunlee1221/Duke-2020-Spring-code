{
 "cells": [
  {
   "cell_type": "markdown",
   "metadata": {},
   "source": [
    "# Homework03:  Topic Modeling with Latent Semantic Analysis"
   ]
  },
  {
   "cell_type": "markdown",
   "metadata": {},
   "source": [
    "Latent Semantic Analysis (LSA) is a method for finding latent similarities between documents treated as a bag of words by using a low rank approximation. It is used for document classification, clustering and retrieval. For example, LSA can be used to search for prior art given a new patent application. In this homework, we will implement a small library for simple latent semantic analysis as a practical example of the application of SVD. The ideas are very similar to PCA. SVD is also used in recommender systems in an similar fashion (for an SVD-based recommender system library, see [Surpise](http://surpriselib.com). \n",
    "\n",
    "We will implement a toy example of LSA to get familiar with the ideas. If you want to use LSA or similar methods for statistical language analysis, the most efficient Python libraries are probably [gensim](https://radimrehurek.com/gensim/) and [spaCy](https://spacy.io) - these also provide an online algorithm - i.e. the training information can be continuously updated. Other useful functions for processing natural language can be found in the [Natural Language Toolkit](http://www.nltk.org/)."
   ]
  },
  {
   "cell_type": "markdown",
   "metadata": {},
   "source": [
    "**Note**: The SVD from scipy.linalg performs a full decomposition, which is inefficient since we only need to decompose until we get the first k singluar values. If the SVD from `scipy.linalg` is too slow, please use the `sparsesvd` function from the [sparsesvd](https://pypi.python.org/pypi/sparsesvd/) package to perform SVD instead.  You can install in the usual way with \n",
    "```\n",
    "!pip install sparsesvd\n",
    "```\n",
    "\n",
    "Then import the following\n",
    "```python\n",
    "from sparsesvd import sparsesvd \n",
    "from scipy.sparse import csc_matrix \n",
    "```\n",
    "\n",
    "and use as follows\n",
    "```python\n",
    "sparsesvd(csc_matrix(M), k=10)\n",
    "```"
   ]
  },
  {
   "cell_type": "code",
   "execution_count": 17,
   "metadata": {},
   "outputs": [],
   "source": [
    "import numpy as np\n",
    "import pandas as pd"
   ]
  },
  {
   "cell_type": "markdown",
   "metadata": {},
   "source": [
    "**Exercise 1 (20 points)**.  Calculating pairwise distance matrices.\n",
    "\n",
    "Suppose we want to construct a distance matrix between the rows of a matrix. For example, given the matrix \n",
    "\n",
    "```python\n",
    "M = np.array([[1,2,3],[4,5,6]])\n",
    "```\n",
    "\n",
    "the distance matrix using Euclidean distance as the measure would be\n",
    "```python\n",
    "[[ 0.000  1.414  2.828]\n",
    " [ 1.414  0.000  1.414]\n",
    " [ 2.828  1.414  0.000]] \n",
    "```\n",
    "if $M$ was a collection of column vectors.\n",
    "\n",
    "Write a function to calculate the pairwise-distance matrix given the matrix $M$ and some arbitrary distance function. Your functions should have the following signature:\n",
    "```\n",
    "def func_name(M, distance_func):\n",
    "    pass\n",
    "```\n",
    "\n",
    "0. Write a distance function for the Euclidean, squared Euclidean and cosine measures.\n",
    "1. Write the function using looping for M as a collection of row vectors.\n",
    "2. Write the function using looping for M as a collection of column vectors.\n",
    "3. Wrtie the function using broadcasting for M as a collection of row vectors.\n",
    "4. Write the function using broadcasting for M as a collection of column vectors. \n",
    "\n",
    "For 3 and 4, try to avoid using transposition (but if you get stuck, there will be no penalty for using transposition). Check that all four functions give the same result when applied to the given matrix $M$."
   ]
  },
  {
   "cell_type": "code",
   "execution_count": 18,
   "metadata": {},
   "outputs": [],
   "source": [
    "#1. distance functions\n",
    "def Euc(v1,v2, axis = None):\n",
    "    return np.sqrt(np.sum((v1-v2)**2,axis = axis))\n",
    "def sEuc(v1,v2, axis = None):\n",
    "    return np.sum((v1-v2)**2, axis = axis)\n",
    "def cosdis(v1,v2, axis = None):\n",
    "    result = np.dot(v1.squeeze(),v2.T)/(np.linalg.norm(v1, axis = axis).T * np.linalg.norm(v2[:,np.newaxis],axis = axis)) \n",
    "    return  result"
   ]
  },
  {
   "cell_type": "code",
   "execution_count": 19,
   "metadata": {},
   "outputs": [],
   "source": [
    "#2. row dist\n",
    "def dist1(M, distance_func):\n",
    "    result = np.zeros(shape = (M.shape[0],M.shape[0]))\n",
    "    for i in range(M.shape[0]):\n",
    "        for j in range(M.shape[0]):\n",
    "            result[i,j] = distance_func(M[i,:],M[j,:])\n",
    "    return result"
   ]
  },
  {
   "cell_type": "code",
   "execution_count": 20,
   "metadata": {},
   "outputs": [],
   "source": [
    "#3. col dist\n",
    "def dist2(M, distance_func):\n",
    "    result = np.zeros(shape = (M.shape[1],M.shape[1]))\n",
    "    for i in range(M.shape[1]):\n",
    "        for j in range(M.shape[1]):\n",
    "            result[i,j] = distance_func(M[:,i],M[:,j])\n",
    "    return result"
   ]
  },
  {
   "cell_type": "code",
   "execution_count": 21,
   "metadata": {},
   "outputs": [],
   "source": [
    "#4. row dist2\n",
    "def dist3(M, distance_func):\n",
    "    result = distance_func(M[:,np.newaxis], M, axis = 2)\n",
    "    return result"
   ]
  },
  {
   "cell_type": "code",
   "execution_count": 22,
   "metadata": {},
   "outputs": [],
   "source": [
    "#5. col dist2\n",
    "def dist4(M, distance_func):\n",
    "    M = M.T\n",
    "    result = distance_func(M[:,np.newaxis], M, axis = 2)\n",
    "    return result"
   ]
  },
  {
   "cell_type": "code",
   "execution_count": 23,
   "metadata": {},
   "outputs": [],
   "source": [
    "M = np.arange(20).reshape(4,5)"
   ]
  },
  {
   "cell_type": "code",
   "execution_count": 24,
   "metadata": {},
   "outputs": [],
   "source": [
    "rowEuc = np.allclose(dist1(M,Euc),dist3(M,Euc)) \n",
    "rowsEuc = np.allclose(dist1(M,sEuc),dist3(M,sEuc))\n",
    "rowcos = np.allclose(dist1(M,cosdis),dist3(M,cosdis))\n",
    "colEuc = np.allclose(dist2(M,Euc),dist4(M,Euc))\n",
    "colsEuc = np.allclose(dist2(M,sEuc),dist4(M,sEuc))\n",
    "colcos = np.allclose(dist2(M,cosdis),dist4(M,cosdis))"
   ]
  },
  {
   "cell_type": "code",
   "execution_count": 25,
   "metadata": {},
   "outputs": [
    {
     "data": {
      "text/plain": [
       "(True, True, True, True, True, True)"
      ]
     },
     "execution_count": 25,
     "metadata": {},
     "output_type": "execute_result"
    }
   ],
   "source": [
    "rowEuc, rowsEuc, rowcos, colEuc, colsEuc, colcos"
   ]
  },
  {
   "cell_type": "markdown",
   "metadata": {},
   "source": [
    "**Exercise 2 (20 points)**. "
   ]
  },
  {
   "cell_type": "markdown",
   "metadata": {},
   "source": [
    "**Exercise 2 (20 points)**. Write 3 functions to calculate the term frequency (tf), the inverse document frequency (idf) and the product (tf-idf). Each function should take a single argument `docs`, which is a dictionary of (key=identifier, value=document text) pairs, and return an appropriately sized array. Convert '-' to ' ' (space), remove punctuation, convert text to lowercase and split on whitespace to generate a collection of terms from the document text.\n",
    "\n",
    "- tf = the number of occurrences of term $i$ in document $j$\n",
    "- idf = $\\log \\frac{n}{1 + \\text{df}_i}$ where $n$ is the total number of documents and $\\text{df}_i$ is the number of documents in which term $i$ occurs.\n",
    "\n",
    "Print the table of tf-idf values for the following document collection\n",
    "\n",
    "```\n",
    "s1 = \"The quick brown fox\"\n",
    "s2 = \"Brown fox jumps over the jumps jumps jumps\"\n",
    "s3 = \"The the the lazy dog elephant.\"\n",
    "s4 = \"The the the the the dog peacock lion tiger elephant\"\n",
    "\n",
    "docs = {'s1': s1, 's2': s2, 's3': s3, 's4': s4}\n",
    "```"
   ]
  },
  {
   "cell_type": "code",
   "execution_count": 26,
   "metadata": {},
   "outputs": [],
   "source": [
    "import string"
   ]
  },
  {
   "cell_type": "code",
   "execution_count": 27,
   "metadata": {},
   "outputs": [],
   "source": [
    "s1 = \"The quick brown fox\"\n",
    "s2 = \"Brown fox jumps over the jumps jumps jumps\"\n",
    "s3 = \"The the the lazy dog elephant.\"\n",
    "s4 = \"The the the the the dog peacock lion tiger elephant\"\n",
    "\n",
    "docs = {'s1': s1, 's2': s2, 's3': s3, 's4': s4}"
   ]
  },
  {
   "cell_type": "code",
   "execution_count": 28,
   "metadata": {},
   "outputs": [],
   "source": [
    "def tf(docs):\n",
    "    words = [doc.lower().translate(str.maketrans(\"\",\"\",string.punctuation)).split() for i,doc in docs.items()]\n",
    "    dic = {i for word in words for i in word}\n",
    "    table = np.zeros(shape = (len(dic),len(words)),dtype = int)\n",
    "    for i, word in enumerate(dic):\n",
    "        for j, doc in enumerate(words):\n",
    "            table[i,j] = doc.count(word)\n",
    "    result = pd.DataFrame(table, columns = docs, index = dic)\n",
    "    return(result)"
   ]
  },
  {
   "cell_type": "code",
   "execution_count": 29,
   "metadata": {},
   "outputs": [],
   "source": [
    "def idf(docs):\n",
    "    words = [doc.lower().translate(str.maketrans(\"\",\"\",string.punctuation)).split() for i,doc in docs.items()]\n",
    "    dic = {i for word in words for i in word}\n",
    "    table = np.zeros(shape = (len(dic),len(words)),dtype = int)\n",
    "    for i, word in enumerate(dic):\n",
    "        for j, doc in enumerate(words):\n",
    "            table[i,j] = doc.count(word)\n",
    "    n = len(docs)\n",
    "    df = np.where(table ==0,0,1).sum(axis=1)\n",
    "    result = pd.DataFrame(np.log(n/(1+df)), index = dic)\n",
    "    return(result)"
   ]
  },
  {
   "cell_type": "code",
   "execution_count": 30,
   "metadata": {},
   "outputs": [],
   "source": [
    "def tf_idf(docs):\n",
    "    words = [doc.lower().translate(str.maketrans(\"\",\"\",string.punctuation)).split() for i,doc in docs.items()]\n",
    "    dic = {i for word in words for i in word}\n",
    "    table1 = np.zeros(shape = (len(dic),len(words)),dtype = int)\n",
    "    for i, word in enumerate(dic):\n",
    "        for j, doc in enumerate(words):\n",
    "            table1[i,j] = doc.count(word)\n",
    "    n = len(docs)\n",
    "    df = np.where(table1 == 0 ,0, 1).sum(axis = 1)\n",
    "    table2 = np.log(n/(df+1))\n",
    "    result = pd.DataFrame(table1*table2[:,np.newaxis], columns = docs, index = dic)\n",
    "    return result"
   ]
  },
  {
   "cell_type": "code",
   "execution_count": 31,
   "metadata": {},
   "outputs": [
    {
     "data": {
      "text/html": [
       "<div>\n",
       "<style scoped>\n",
       "    .dataframe tbody tr th:only-of-type {\n",
       "        vertical-align: middle;\n",
       "    }\n",
       "\n",
       "    .dataframe tbody tr th {\n",
       "        vertical-align: top;\n",
       "    }\n",
       "\n",
       "    .dataframe thead th {\n",
       "        text-align: right;\n",
       "    }\n",
       "</style>\n",
       "<table border=\"1\" class=\"dataframe\">\n",
       "  <thead>\n",
       "    <tr style=\"text-align: right;\">\n",
       "      <th></th>\n",
       "      <th>s1</th>\n",
       "      <th>s2</th>\n",
       "      <th>s3</th>\n",
       "      <th>s4</th>\n",
       "    </tr>\n",
       "  </thead>\n",
       "  <tbody>\n",
       "    <tr>\n",
       "      <th>peacock</th>\n",
       "      <td>0</td>\n",
       "      <td>0</td>\n",
       "      <td>0</td>\n",
       "      <td>1</td>\n",
       "    </tr>\n",
       "    <tr>\n",
       "      <th>brown</th>\n",
       "      <td>1</td>\n",
       "      <td>1</td>\n",
       "      <td>0</td>\n",
       "      <td>0</td>\n",
       "    </tr>\n",
       "    <tr>\n",
       "      <th>dog</th>\n",
       "      <td>0</td>\n",
       "      <td>0</td>\n",
       "      <td>1</td>\n",
       "      <td>1</td>\n",
       "    </tr>\n",
       "    <tr>\n",
       "      <th>tiger</th>\n",
       "      <td>0</td>\n",
       "      <td>0</td>\n",
       "      <td>0</td>\n",
       "      <td>1</td>\n",
       "    </tr>\n",
       "    <tr>\n",
       "      <th>jumps</th>\n",
       "      <td>0</td>\n",
       "      <td>4</td>\n",
       "      <td>0</td>\n",
       "      <td>0</td>\n",
       "    </tr>\n",
       "    <tr>\n",
       "      <th>over</th>\n",
       "      <td>0</td>\n",
       "      <td>1</td>\n",
       "      <td>0</td>\n",
       "      <td>0</td>\n",
       "    </tr>\n",
       "    <tr>\n",
       "      <th>elephant</th>\n",
       "      <td>0</td>\n",
       "      <td>0</td>\n",
       "      <td>1</td>\n",
       "      <td>1</td>\n",
       "    </tr>\n",
       "    <tr>\n",
       "      <th>lion</th>\n",
       "      <td>0</td>\n",
       "      <td>0</td>\n",
       "      <td>0</td>\n",
       "      <td>1</td>\n",
       "    </tr>\n",
       "    <tr>\n",
       "      <th>quick</th>\n",
       "      <td>1</td>\n",
       "      <td>0</td>\n",
       "      <td>0</td>\n",
       "      <td>0</td>\n",
       "    </tr>\n",
       "    <tr>\n",
       "      <th>fox</th>\n",
       "      <td>1</td>\n",
       "      <td>1</td>\n",
       "      <td>0</td>\n",
       "      <td>0</td>\n",
       "    </tr>\n",
       "    <tr>\n",
       "      <th>the</th>\n",
       "      <td>1</td>\n",
       "      <td>1</td>\n",
       "      <td>3</td>\n",
       "      <td>5</td>\n",
       "    </tr>\n",
       "    <tr>\n",
       "      <th>lazy</th>\n",
       "      <td>0</td>\n",
       "      <td>0</td>\n",
       "      <td>1</td>\n",
       "      <td>0</td>\n",
       "    </tr>\n",
       "  </tbody>\n",
       "</table>\n",
       "</div>"
      ],
      "text/plain": [
       "          s1  s2  s3  s4\n",
       "peacock    0   0   0   1\n",
       "brown      1   1   0   0\n",
       "dog        0   0   1   1\n",
       "tiger      0   0   0   1\n",
       "jumps      0   4   0   0\n",
       "over       0   1   0   0\n",
       "elephant   0   0   1   1\n",
       "lion       0   0   0   1\n",
       "quick      1   0   0   0\n",
       "fox        1   1   0   0\n",
       "the        1   1   3   5\n",
       "lazy       0   0   1   0"
      ]
     },
     "execution_count": 31,
     "metadata": {},
     "output_type": "execute_result"
    }
   ],
   "source": [
    "tf(docs)"
   ]
  },
  {
   "cell_type": "code",
   "execution_count": 32,
   "metadata": {},
   "outputs": [
    {
     "data": {
      "text/html": [
       "<div>\n",
       "<style scoped>\n",
       "    .dataframe tbody tr th:only-of-type {\n",
       "        vertical-align: middle;\n",
       "    }\n",
       "\n",
       "    .dataframe tbody tr th {\n",
       "        vertical-align: top;\n",
       "    }\n",
       "\n",
       "    .dataframe thead th {\n",
       "        text-align: right;\n",
       "    }\n",
       "</style>\n",
       "<table border=\"1\" class=\"dataframe\">\n",
       "  <thead>\n",
       "    <tr style=\"text-align: right;\">\n",
       "      <th></th>\n",
       "      <th>0</th>\n",
       "    </tr>\n",
       "  </thead>\n",
       "  <tbody>\n",
       "    <tr>\n",
       "      <th>peacock</th>\n",
       "      <td>0.693147</td>\n",
       "    </tr>\n",
       "    <tr>\n",
       "      <th>brown</th>\n",
       "      <td>0.287682</td>\n",
       "    </tr>\n",
       "    <tr>\n",
       "      <th>dog</th>\n",
       "      <td>0.287682</td>\n",
       "    </tr>\n",
       "    <tr>\n",
       "      <th>tiger</th>\n",
       "      <td>0.693147</td>\n",
       "    </tr>\n",
       "    <tr>\n",
       "      <th>jumps</th>\n",
       "      <td>0.693147</td>\n",
       "    </tr>\n",
       "    <tr>\n",
       "      <th>over</th>\n",
       "      <td>0.693147</td>\n",
       "    </tr>\n",
       "    <tr>\n",
       "      <th>elephant</th>\n",
       "      <td>0.287682</td>\n",
       "    </tr>\n",
       "    <tr>\n",
       "      <th>lion</th>\n",
       "      <td>0.693147</td>\n",
       "    </tr>\n",
       "    <tr>\n",
       "      <th>quick</th>\n",
       "      <td>0.693147</td>\n",
       "    </tr>\n",
       "    <tr>\n",
       "      <th>fox</th>\n",
       "      <td>0.287682</td>\n",
       "    </tr>\n",
       "    <tr>\n",
       "      <th>the</th>\n",
       "      <td>-0.223144</td>\n",
       "    </tr>\n",
       "    <tr>\n",
       "      <th>lazy</th>\n",
       "      <td>0.693147</td>\n",
       "    </tr>\n",
       "  </tbody>\n",
       "</table>\n",
       "</div>"
      ],
      "text/plain": [
       "                 0\n",
       "peacock   0.693147\n",
       "brown     0.287682\n",
       "dog       0.287682\n",
       "tiger     0.693147\n",
       "jumps     0.693147\n",
       "over      0.693147\n",
       "elephant  0.287682\n",
       "lion      0.693147\n",
       "quick     0.693147\n",
       "fox       0.287682\n",
       "the      -0.223144\n",
       "lazy      0.693147"
      ]
     },
     "execution_count": 32,
     "metadata": {},
     "output_type": "execute_result"
    }
   ],
   "source": [
    "idf(docs)"
   ]
  },
  {
   "cell_type": "code",
   "execution_count": 33,
   "metadata": {},
   "outputs": [
    {
     "data": {
      "text/html": [
       "<div>\n",
       "<style scoped>\n",
       "    .dataframe tbody tr th:only-of-type {\n",
       "        vertical-align: middle;\n",
       "    }\n",
       "\n",
       "    .dataframe tbody tr th {\n",
       "        vertical-align: top;\n",
       "    }\n",
       "\n",
       "    .dataframe thead th {\n",
       "        text-align: right;\n",
       "    }\n",
       "</style>\n",
       "<table border=\"1\" class=\"dataframe\">\n",
       "  <thead>\n",
       "    <tr style=\"text-align: right;\">\n",
       "      <th></th>\n",
       "      <th>s1</th>\n",
       "      <th>s2</th>\n",
       "      <th>s3</th>\n",
       "      <th>s4</th>\n",
       "    </tr>\n",
       "  </thead>\n",
       "  <tbody>\n",
       "    <tr>\n",
       "      <th>peacock</th>\n",
       "      <td>0.000000</td>\n",
       "      <td>0.000000</td>\n",
       "      <td>0.000000</td>\n",
       "      <td>0.693147</td>\n",
       "    </tr>\n",
       "    <tr>\n",
       "      <th>brown</th>\n",
       "      <td>0.287682</td>\n",
       "      <td>0.287682</td>\n",
       "      <td>0.000000</td>\n",
       "      <td>0.000000</td>\n",
       "    </tr>\n",
       "    <tr>\n",
       "      <th>dog</th>\n",
       "      <td>0.000000</td>\n",
       "      <td>0.000000</td>\n",
       "      <td>0.287682</td>\n",
       "      <td>0.287682</td>\n",
       "    </tr>\n",
       "    <tr>\n",
       "      <th>tiger</th>\n",
       "      <td>0.000000</td>\n",
       "      <td>0.000000</td>\n",
       "      <td>0.000000</td>\n",
       "      <td>0.693147</td>\n",
       "    </tr>\n",
       "    <tr>\n",
       "      <th>jumps</th>\n",
       "      <td>0.000000</td>\n",
       "      <td>2.772589</td>\n",
       "      <td>0.000000</td>\n",
       "      <td>0.000000</td>\n",
       "    </tr>\n",
       "    <tr>\n",
       "      <th>over</th>\n",
       "      <td>0.000000</td>\n",
       "      <td>0.693147</td>\n",
       "      <td>0.000000</td>\n",
       "      <td>0.000000</td>\n",
       "    </tr>\n",
       "    <tr>\n",
       "      <th>elephant</th>\n",
       "      <td>0.000000</td>\n",
       "      <td>0.000000</td>\n",
       "      <td>0.287682</td>\n",
       "      <td>0.287682</td>\n",
       "    </tr>\n",
       "    <tr>\n",
       "      <th>lion</th>\n",
       "      <td>0.000000</td>\n",
       "      <td>0.000000</td>\n",
       "      <td>0.000000</td>\n",
       "      <td>0.693147</td>\n",
       "    </tr>\n",
       "    <tr>\n",
       "      <th>quick</th>\n",
       "      <td>0.693147</td>\n",
       "      <td>0.000000</td>\n",
       "      <td>0.000000</td>\n",
       "      <td>0.000000</td>\n",
       "    </tr>\n",
       "    <tr>\n",
       "      <th>fox</th>\n",
       "      <td>0.287682</td>\n",
       "      <td>0.287682</td>\n",
       "      <td>0.000000</td>\n",
       "      <td>0.000000</td>\n",
       "    </tr>\n",
       "    <tr>\n",
       "      <th>the</th>\n",
       "      <td>-0.223144</td>\n",
       "      <td>-0.223144</td>\n",
       "      <td>-0.669431</td>\n",
       "      <td>-1.115718</td>\n",
       "    </tr>\n",
       "    <tr>\n",
       "      <th>lazy</th>\n",
       "      <td>0.000000</td>\n",
       "      <td>0.000000</td>\n",
       "      <td>0.693147</td>\n",
       "      <td>0.000000</td>\n",
       "    </tr>\n",
       "  </tbody>\n",
       "</table>\n",
       "</div>"
      ],
      "text/plain": [
       "                s1        s2        s3        s4\n",
       "peacock   0.000000  0.000000  0.000000  0.693147\n",
       "brown     0.287682  0.287682  0.000000  0.000000\n",
       "dog       0.000000  0.000000  0.287682  0.287682\n",
       "tiger     0.000000  0.000000  0.000000  0.693147\n",
       "jumps     0.000000  2.772589  0.000000  0.000000\n",
       "over      0.000000  0.693147  0.000000  0.000000\n",
       "elephant  0.000000  0.000000  0.287682  0.287682\n",
       "lion      0.000000  0.000000  0.000000  0.693147\n",
       "quick     0.693147  0.000000  0.000000  0.000000\n",
       "fox       0.287682  0.287682  0.000000  0.000000\n",
       "the      -0.223144 -0.223144 -0.669431 -1.115718\n",
       "lazy      0.000000  0.000000  0.693147  0.000000"
      ]
     },
     "execution_count": 33,
     "metadata": {},
     "output_type": "execute_result"
    }
   ],
   "source": [
    "tf_idf(docs)"
   ]
  },
  {
   "cell_type": "markdown",
   "metadata": {},
   "source": [
    "**Exercise 3 (20 points)**. \n",
    "\n",
    "1. Write a function that takes a matrix $M$ and an integer $k$ as arguments, and reconstructs a reduced matrix using only the $k$ largest singular values. Use the `scipy.linagl.svd` function to perform the decomposition. This is the least squares approximation to the matrix $M$ in $k$ dimensions.\n",
    "\n",
    "2. Apply the function you just wrote to the following term-frequency matrix for a set of $9$ documents using $k=2$ and print the reconstructed matrix $M'$.\n",
    "```\n",
    "M = np.array([[1, 0, 0, 1, 0, 0, 0, 0, 0],\n",
    "       [1, 0, 1, 0, 0, 0, 0, 0, 0],\n",
    "       [1, 1, 0, 0, 0, 0, 0, 0, 0],\n",
    "       [0, 1, 1, 0, 1, 0, 0, 0, 0],\n",
    "       [0, 1, 1, 2, 0, 0, 0, 0, 0],\n",
    "       [0, 1, 0, 0, 1, 0, 0, 0, 0],\n",
    "       [0, 1, 0, 0, 1, 0, 0, 0, 0],\n",
    "       [0, 0, 1, 1, 0, 0, 0, 0, 0],\n",
    "       [0, 1, 0, 0, 0, 0, 0, 0, 1],\n",
    "       [0, 0, 0, 0, 0, 1, 1, 1, 0],\n",
    "       [0, 0, 0, 0, 0, 0, 1, 1, 1],\n",
    "       [0, 0, 0, 0, 0, 0, 0, 1, 1]])\n",
    "```\n",
    "\n",
    "3. Calculate the pairwise correlation matrix for the original matrix M and the reconstructed matrix using $k=2$ singular values (you may use [scipy.stats.spearmanr](http://docs.scipy.org/doc/scipy/reference/generated/scipy.stats.spearmanr.html) to do the calculations). Consider the fist 5 sets of documents as one group $G1$ and the last 4 as another group $G2$ (i.e. first 5 and last 4 columns). What is the average within group correlation for $G1$, $G2$ and the average cross-group correlation for G1-G2 using either $M$ or $M'$. (Do not include self-correlation in the within-group calculations.)."
   ]
  },
  {
   "cell_type": "code",
   "execution_count": 34,
   "metadata": {},
   "outputs": [],
   "source": [
    "import scipy.linalg as la\n",
    "import scipy.stats as st"
   ]
  },
  {
   "cell_type": "code",
   "execution_count": 35,
   "metadata": {},
   "outputs": [],
   "source": [
    "# 1.\n",
    "def approx_svd(M,k):\n",
    "    U,s,V = la.svd(M)\n",
    "    Uk = U[:,:k]; sk = s[:k]; Vk = V[:k,:]\n",
    "    approx = Uk @ np.diag(sk) @ Vk\n",
    "    return approx"
   ]
  },
  {
   "cell_type": "code",
   "execution_count": 36,
   "metadata": {},
   "outputs": [
    {
     "data": {
      "text/plain": [
       "array([[ 0.16205797,  0.40049828,  0.37895454,  0.46756626,  0.17595367,\n",
       "        -0.05265495, -0.11514284, -0.15910198, -0.09183827],\n",
       "       [ 0.14058529,  0.36980077,  0.32899603,  0.40042722,  0.16497247,\n",
       "        -0.03281545, -0.07056857, -0.09676827, -0.04298073],\n",
       "       [ 0.15244948,  0.50500444,  0.35793658,  0.41010678,  0.23623173,\n",
       "         0.02421652,  0.05978051,  0.0868573 ,  0.12396632],\n",
       "       [ 0.25804933,  0.84112343,  0.60571995,  0.69735717,  0.39231795,\n",
       "         0.03311801,  0.08324491,  0.12177239,  0.18737973],\n",
       "       [ 0.44878975,  1.23436483,  1.0508615 ,  1.26579559,  0.55633139,\n",
       "        -0.07378998, -0.15469383, -0.20959816, -0.04887954],\n",
       "       [ 0.15955428,  0.5816819 ,  0.37521897,  0.41689768,  0.27654052,\n",
       "         0.05590374,  0.1322185 ,  0.18891146,  0.21690761],\n",
       "       [ 0.15955428,  0.5816819 ,  0.37521897,  0.41689768,  0.27654052,\n",
       "         0.05590374,  0.1322185 ,  0.18891146,  0.21690761],\n",
       "       [ 0.21846278,  0.54958058,  0.51096047,  0.62805802,  0.24253607,\n",
       "        -0.06541098, -0.14252146, -0.19661186, -0.1079133 ],\n",
       "       [ 0.09690639,  0.53206438,  0.22991365,  0.21175363,  0.26652513,\n",
       "         0.13675618,  0.31462078,  0.44444058,  0.42496948],\n",
       "       [-0.06125388,  0.23210821, -0.1388984 , -0.26564589,  0.14492549,\n",
       "         0.24042105,  0.54614717,  0.7673742 ,  0.66370933],\n",
       "       [-0.06467702,  0.33528115, -0.14564055, -0.30140607,  0.20275641,\n",
       "         0.30572612,  0.69489337,  0.97661121,  0.84874969],\n",
       "       [-0.04308204,  0.25390566, -0.09666695, -0.20785821,  0.1519134 ,\n",
       "         0.22122703,  0.50294488,  0.70691163,  0.6155044 ]])"
      ]
     },
     "execution_count": 36,
     "metadata": {},
     "output_type": "execute_result"
    }
   ],
   "source": [
    "# 2.\n",
    "M = np.array([[1, 0, 0, 1, 0, 0, 0, 0, 0],\n",
    "       [1, 0, 1, 0, 0, 0, 0, 0, 0],\n",
    "       [1, 1, 0, 0, 0, 0, 0, 0, 0],\n",
    "       [0, 1, 1, 0, 1, 0, 0, 0, 0],\n",
    "       [0, 1, 1, 2, 0, 0, 0, 0, 0],\n",
    "       [0, 1, 0, 0, 1, 0, 0, 0, 0],\n",
    "       [0, 1, 0, 0, 1, 0, 0, 0, 0],\n",
    "       [0, 0, 1, 1, 0, 0, 0, 0, 0],\n",
    "       [0, 1, 0, 0, 0, 0, 0, 0, 1],\n",
    "       [0, 0, 0, 0, 0, 1, 1, 1, 0],\n",
    "       [0, 0, 0, 0, 0, 0, 1, 1, 1],\n",
    "       [0, 0, 0, 0, 0, 0, 0, 1, 1]])\n",
    "M_2 = approx_svd(M,2)\n",
    "M_2"
   ]
  },
  {
   "cell_type": "code",
   "execution_count": 21,
   "metadata": {
    "scrolled": true
   },
   "outputs": [
    {
     "data": {
      "text/plain": [
       "array([[ 1.        , -0.19245009,  0.        ,  0.07339758, -0.33333333,\n",
       "        -0.17407766, -0.25819889, -0.33333333, -0.33333333,  0.02792359,\n",
       "        -0.2508726 ,  0.02792359,  0.02787473, -0.36300672, -0.41812101,\n",
       "        -0.41812101, -0.41812101, -0.47387047],\n",
       "       [-0.19245009,  1.        ,  0.        , -0.12712835,  0.57735027,\n",
       "        -0.30151134, -0.4472136 , -0.57735027, -0.19245009,  0.43528575,\n",
       "         0.77248728,  0.43528575,  0.43452409,  0.82220642, -0.14484136,\n",
       "        -0.14484136, -0.14484136, -0.04828045],\n",
       "       [ 0.        ,  0.        ,  1.        ,  0.43822991,  0.        ,\n",
       "        -0.21320072, -0.31622777, -0.40824829, -0.40824829,  0.61558701,\n",
       "         0.4608824 ,  0.61558701,  0.61450987,  0.35909242, -0.66571902,\n",
       "        -0.66571902, -0.66571902, -0.61450987],\n",
       "       [ 0.07339758, -0.12712835,  0.43822991,  1.        , -0.33028913,\n",
       "        -0.17248787, -0.25584086, -0.33028913, -0.33028913,  0.65943446,\n",
       "         0.35445878,  0.65943446,  0.65828059,  0.25362864, -0.75955453,\n",
       "        -0.75955453, -0.75955453, -0.73193436],\n",
       "       [-0.33333333,  0.57735027,  0.        , -0.33028913,  1.        ,\n",
       "        -0.17407766, -0.25819889, -0.33333333, -0.33333333,  0.36300672,\n",
       "         0.58536941,  0.36300672,  0.36237154,  0.58639547,  0.0836242 ,\n",
       "         0.0836242 ,  0.0836242 ,  0.0836242 ],\n",
       "       [-0.17407766, -0.30151134, -0.21320072, -0.17248787, -0.17407766,\n",
       "         1.        ,  0.67419986,  0.52223297, -0.17407766, -0.39373078,\n",
       "        -0.48038446, -0.39373078, -0.39304183, -0.4812265 ,  0.39304183,\n",
       "         0.39304183,  0.39304183,  0.39304183],\n",
       "       [-0.25819889, -0.4472136 , -0.31622777, -0.25584086, -0.25819889,\n",
       "         0.67419986,  1.        ,  0.77459667,  0.25819889, -0.64888568,\n",
       "        -0.58297525, -0.64888568, -0.64775028, -0.45421998,  0.64775028,\n",
       "         0.64775028,  0.64775028,  0.64775028],\n",
       "       [-0.33333333, -0.57735027, -0.40824829, -0.33028913, -0.33333333,\n",
       "         0.52223297,  0.77459667,  1.        ,  0.55555556, -0.75393703,\n",
       "        -0.75261781, -0.75393703, -0.75261781, -0.64224266,  0.75261781,\n",
       "         0.75261781,  0.75261781,  0.75261781],\n",
       "       [-0.33333333, -0.19245009, -0.40824829, -0.33028913, -0.33333333,\n",
       "        -0.17407766,  0.25819889,  0.55555556,  1.        , -0.64224266,\n",
       "        -0.41812101, -0.64224266, -0.64111887, -0.25131234,  0.64111887,\n",
       "         0.64111887,  0.64111887,  0.64111887],\n",
       "       [ 0.02792359,  0.43528575,  0.61558701,  0.65943446,  0.36300672,\n",
       "        -0.39373078, -0.64888568, -0.75393703, -0.64224266,  1.        ,\n",
       "         0.84413439,  1.        ,  0.99825022,  0.71929825, -0.83712913,\n",
       "        -0.83712913, -0.83712913, -0.80210281],\n",
       "       [-0.2508726 ,  0.77248728,  0.4608824 ,  0.35445878,  0.58536941,\n",
       "        -0.48038446, -0.58297525, -0.75261781, -0.41812101,  0.84413439,\n",
       "         1.        ,  0.84413439,  0.83916084,  0.97022916, -0.55244755,\n",
       "        -0.55244755, -0.55244755, -0.47552448],\n",
       "       [ 0.02792359,  0.43528575,  0.61558701,  0.65943446,  0.36300672,\n",
       "        -0.39373078, -0.64888568, -0.75393703, -0.64224266,  1.        ,\n",
       "         0.84413439,  1.        ,  0.99825022,  0.71929825, -0.83712913,\n",
       "        -0.83712913, -0.83712913, -0.80210281],\n",
       "       [ 0.02787473,  0.43452409,  0.61450987,  0.65828059,  0.36237154,\n",
       "        -0.39304183, -0.64775028, -0.75261781, -0.64111887,  0.99825022,\n",
       "         0.83916084,  0.99825022,  1.        ,  0.71803963, -0.83916084,\n",
       "        -0.83916084, -0.83916084, -0.8041958 ],\n",
       "       [-0.36300672,  0.82220642,  0.35909242,  0.25362864,  0.58639547,\n",
       "        -0.4812265 , -0.45421998, -0.64224266, -0.25131234,  0.71929825,\n",
       "         0.97022916,  0.71929825,  0.71803963,  1.        , -0.38879219,\n",
       "        -0.38879219, -0.38879219, -0.29772375],\n",
       "       [-0.41812101, -0.14484136, -0.66571902, -0.75955453,  0.0836242 ,\n",
       "         0.39304183,  0.64775028,  0.75261781,  0.64111887, -0.83712913,\n",
       "        -0.55244755, -0.83712913, -0.83916084, -0.38879219,  1.        ,\n",
       "         1.        ,  1.        ,  0.97902098],\n",
       "       [-0.41812101, -0.14484136, -0.66571902, -0.75955453,  0.0836242 ,\n",
       "         0.39304183,  0.64775028,  0.75261781,  0.64111887, -0.83712913,\n",
       "        -0.55244755, -0.83712913, -0.83916084, -0.38879219,  1.        ,\n",
       "         1.        ,  1.        ,  0.97902098],\n",
       "       [-0.41812101, -0.14484136, -0.66571902, -0.75955453,  0.0836242 ,\n",
       "         0.39304183,  0.64775028,  0.75261781,  0.64111887, -0.83712913,\n",
       "        -0.55244755, -0.83712913, -0.83916084, -0.38879219,  1.        ,\n",
       "         1.        ,  1.        ,  0.97902098],\n",
       "       [-0.47387047, -0.04828045, -0.61450987, -0.73193436,  0.0836242 ,\n",
       "         0.39304183,  0.64775028,  0.75261781,  0.64111887, -0.80210281,\n",
       "        -0.47552448, -0.80210281, -0.8041958 , -0.29772375,  0.97902098,\n",
       "         0.97902098,  0.97902098,  1.        ]])"
      ]
     },
     "execution_count": 21,
     "metadata": {},
     "output_type": "execute_result"
    }
   ],
   "source": [
    "# 3.1\n",
    "st.spearmanr(M,M_2)[0]"
   ]
  },
  {
   "cell_type": "code",
   "execution_count": 43,
   "metadata": {},
   "outputs": [
    {
     "data": {
      "text/plain": [
       "array([[ 0.        , -0.19245009,  0.        ,  0.07339758, -0.33333333],\n",
       "       [ 0.        ,  0.        ,  0.        , -0.12712835,  0.57735027],\n",
       "       [ 0.        ,  0.        ,  0.        ,  0.43822991,  0.        ],\n",
       "       [ 0.        ,  0.        ,  0.        ,  0.        , -0.33028913],\n",
       "       [ 0.        ,  0.        ,  0.        ,  0.        ,  0.        ]])"
      ]
     },
     "execution_count": 43,
     "metadata": {},
     "output_type": "execute_result"
    }
   ],
   "source": [
    "np.triu(G1_cor, k=1)"
   ]
  },
  {
   "cell_type": "code",
   "execution_count": 48,
   "metadata": {},
   "outputs": [
    {
     "data": {
      "text/plain": [
       "array([[ 1.        , -0.19245009,  0.        ,  0.07339758, -0.33333333],\n",
       "       [-0.19245009,  1.        ,  0.        , -0.12712835,  0.57735027],\n",
       "       [ 0.        ,  0.        ,  1.        ,  0.43822991,  0.        ],\n",
       "       [ 0.07339758, -0.12712835,  0.43822991,  1.        , -0.33028913],\n",
       "       [-0.33333333,  0.57735027,  0.        , -0.33028913,  1.        ]])"
      ]
     },
     "execution_count": 48,
     "metadata": {},
     "output_type": "execute_result"
    }
   ],
   "source": [
    "G1_cor"
   ]
  },
  {
   "cell_type": "code",
   "execution_count": 47,
   "metadata": {},
   "outputs": [
    {
     "data": {
      "text/plain": [
       "0.20846214930389023"
      ]
     },
     "execution_count": 47,
     "metadata": {},
     "output_type": "execute_result"
    }
   ],
   "source": [
    "G1_cor.mean()"
   ]
  },
  {
   "cell_type": "code",
   "execution_count": 51,
   "metadata": {},
   "outputs": [
    {
     "data": {
      "text/plain": [
       "0.20846214930389023"
      ]
     },
     "execution_count": 51,
     "metadata": {},
     "output_type": "execute_result"
    }
   ],
   "source": [
    "G1_cor.sum()/np.prod(G1_cor.shape)"
   ]
  },
  {
   "cell_type": "code",
   "execution_count": 53,
   "metadata": {},
   "outputs": [
    {
     "data": {
      "text/plain": [
       "{'G1': 0.010577686629862804,\n",
       " 'G2': 0.38376477980342505,\n",
       " 'cross': -0.3075621889055909}"
      ]
     },
     "execution_count": 53,
     "metadata": {},
     "output_type": "execute_result"
    }
   ],
   "source": [
    "# 3.2\n",
    "G1 = M[:,:5]; G2 = M[:,-4:]\n",
    "cor = st.spearmanr(G1,G2)[0]\n",
    "G1_cor = cor[:5,:5]\n",
    "G2_cor = cor[-4:,-4:]\n",
    "cross_cor = cor[:5,-4:]\n",
    "G1_group_cor = (G1_cor.sum() - 5)/(np.prod(G1_cor.shape) - 5)\n",
    "G2_group_cor = (G2_cor.sum() - 5)/(np.prod(G2_cor.shape) - 5)\n",
    "{'G1': G1_group_cor, 'G2': G2_group_cor, \"cross\": cross_cor.mean()}"
   ]
  },
  {
   "cell_type": "markdown",
   "metadata": {},
   "source": [
    "**Exercise 4 (40 points)**. Clustering with LSA\n",
    "\n",
    "1. Begin by loading a PubMed database of selected article titles using 'pickle'. With the following:\n",
    "```import pickle\n",
    "docs = pickle.load(open('data/pubmed.pic', 'rb'))```\n",
    "\n",
    "    Create a tf-idf matrix for every term that appears at least once in any of the documents. What is the shape of the tf-idf matrix? \n",
    "\n",
    "2. Perform SVD on the tf-idf matrix to obtain $U \\Sigma V^T$ (often written as $T \\Sigma D^T$ in this context with $T$ representing the terms and $D$ representing the documents). If we set all but the top $k$ singular values to 0, the reconstructed matrix is essentially $U_k \\Sigma_k V_k^T$, where $U_k$ is $m \\times k$, $\\Sigma_k$ is $k \\times k$ and $V_k^T$ is $k \\times n$. Terms in this reduced space are represented by $U_k \\Sigma_k$ and documents by $\\Sigma_k V^T_k$. Reconstruct the matrix using the first $k=10$ singular values.\n",
    "\n",
    "3. Use agglomerative hierarchical clustering with complete linkage to plot a dendrogram and comment on the likely number of  document clusters with $k = 100$. Use the dendrogram function from [SciPy ](https://docs.scipy.org/doc/scipy-0.15.1/reference/generated/scipy.cluster.hierarchy.dendrogram.html).\n",
    "\n",
    "4. Determine how similar each of the original documents is to the new document `data/mystery.txt`. Since $A = U \\Sigma V^T$, we also have $V = A^T U S^{-1}$ using orthogonality and the rule for transposing matrix products. This suggests that in order to map the new document to the same concept space, first find the tf-idf vector $v$ for the new document - this must contain all (and only) the terms present in the existing tf-idx matrix. Then the query vector $q$ is given by $v^T U_k \\Sigma_k^{-1}$. Find the 10 documents most similar to the new document and the 10 most dissimilar. "
   ]
  },
  {
   "cell_type": "code",
   "execution_count": 60,
   "metadata": {},
   "outputs": [
    {
     "data": {
      "text/plain": [
       "'/home/jovyan/work/sta-663-2020'"
      ]
     },
     "execution_count": 60,
     "metadata": {},
     "output_type": "execute_result"
    }
   ],
   "source": [
    "import os\n",
    "if os.getcwd() == \"/home/jovyan/work/sta-663-2020/homework\" : os.chdir('../')\n",
    "os.getcwd()"
   ]
  },
  {
   "cell_type": "code",
   "execution_count": 61,
   "metadata": {},
   "outputs": [],
   "source": [
    "import pickle\n",
    "docs = pickle.load(open('data/pubmed.pic', 'rb'))"
   ]
  },
  {
   "cell_type": "code",
   "execution_count": 62,
   "metadata": {},
   "outputs": [],
   "source": [
    "result = tf_idf(docs)"
   ]
  },
  {
   "cell_type": "code",
   "execution_count": 63,
   "metadata": {},
   "outputs": [
    {
     "data": {
      "text/plain": [
       "(6906, 178)"
      ]
     },
     "execution_count": 63,
     "metadata": {},
     "output_type": "execute_result"
    }
   ],
   "source": [
    "# 1.\n",
    "result.shape"
   ]
  },
  {
   "cell_type": "code",
   "execution_count": 64,
   "metadata": {},
   "outputs": [
    {
     "data": {
      "text/plain": [
       "array([[-0.02471324,  0.04605859,  0.03102535, ...,  0.04642433,\n",
       "         0.02107521,  0.01671913],\n",
       "       [-0.00458   ,  0.01724327,  0.01815948, ...,  0.00433203,\n",
       "         0.00486686,  0.00846292],\n",
       "       [-0.01242284,  0.02359785,  0.014125  , ...,  0.0333916 ,\n",
       "         0.0114609 ,  0.0064425 ],\n",
       "       ...,\n",
       "       [ 0.03528954,  0.0210099 ,  0.04165214, ...,  0.05646047,\n",
       "         0.02319226,  0.01187062],\n",
       "       [-0.06399633,  0.1140044 ,  0.1300546 , ..., -0.00981625,\n",
       "         0.02653949,  0.06848838],\n",
       "       [ 0.00685851,  0.0722536 ,  0.03991828, ...,  0.10738222,\n",
       "         0.03823803,  0.01339978]])"
      ]
     },
     "execution_count": 64,
     "metadata": {},
     "output_type": "execute_result"
    }
   ],
   "source": [
    "# 2\n",
    "tfidf_approx = approx_svd(result,10)\n",
    "tfidf_approx"
   ]
  },
  {
   "cell_type": "code",
   "execution_count": 65,
   "metadata": {},
   "outputs": [],
   "source": [
    "import scipy.cluster as ct"
   ]
  },
  {
   "cell_type": "code",
   "execution_count": 66,
   "metadata": {},
   "outputs": [],
   "source": [
    "#3.\n",
    "tfidf_approx = approx_svd(result,k = 100)\n",
    "Z = ct.hierarchy.complete(tfidf_approx)"
   ]
  },
  {
   "cell_type": "code",
   "execution_count": 76,
   "metadata": {},
   "outputs": [
    {
     "data": {
      "text/plain": [
       "{'color_list': ['g', 'g', 'r', 'c', 'c', 'c', 'c', 'c', 'b', 'b'],\n",
       " 'dcoord': [[0.0, 0.0, 0.0, 0.0],\n",
       "  [0.0, 27.54442868312889, 27.54442868312889, 0.0],\n",
       "  [0.0, 35.66351898329464, 35.66351898329464, 0.0],\n",
       "  [0.0, 8.973752510649224, 8.973752510649224, 0.0],\n",
       "  [0.0, 81.3457645662384, 81.3457645662384, 0.0],\n",
       "  [0.0, 85.4721634507212, 85.4721634507212, 81.3457645662384],\n",
       "  [0.0, 88.57237263892421, 88.57237263892421, 85.4721634507212],\n",
       "  [8.973752510649224, 98.77127010489771, 98.77127010489771, 88.57237263892421],\n",
       "  [35.66351898329464,\n",
       "   116.12575739206329,\n",
       "   116.12575739206329,\n",
       "   98.77127010489771],\n",
       "  [27.54442868312889,\n",
       "   143.96340420103186,\n",
       "   143.96340420103186,\n",
       "   116.12575739206329]],\n",
       " 'icoord': [[15.0, 15.0, 25.0, 25.0],\n",
       "  [5.0, 5.0, 20.0, 20.0],\n",
       "  [35.0, 35.0, 45.0, 45.0],\n",
       "  [55.0, 55.0, 65.0, 65.0],\n",
       "  [95.0, 95.0, 105.0, 105.0],\n",
       "  [85.0, 85.0, 100.0, 100.0],\n",
       "  [75.0, 75.0, 92.5, 92.5],\n",
       "  [60.0, 60.0, 83.75, 83.75],\n",
       "  [40.0, 40.0, 71.875, 71.875],\n",
       "  [12.5, 12.5, 55.9375, 55.9375]],\n",
       " 'ivl': ['5072',\n",
       "  '1464',\n",
       "  '4658',\n",
       "  '3650',\n",
       "  '4544',\n",
       "  '2882',\n",
       "  '5717',\n",
       "  '2816',\n",
       "  '4562',\n",
       "  '(6)',\n",
       "  '(6891)'],\n",
       " 'leaves': [5072,\n",
       "  1464,\n",
       "  4658,\n",
       "  3650,\n",
       "  4544,\n",
       "  2882,\n",
       "  5717,\n",
       "  2816,\n",
       "  4562,\n",
       "  13791,\n",
       "  13804]}"
      ]
     },
     "execution_count": 76,
     "metadata": {},
     "output_type": "execute_result"
    },
    {
     "data": {
      "image/png": "[encoded data removed]",
      "text/plain": [
       "<Figure size 432x288 with 1 Axes>"
      ]
     },
     "metadata": {},
     "output_type": "display_data"
    }
   ],
   "source": [
    "ct.hierarchy.dendrogram(Z, p = 5, truncate_mode= \"level\")"
   ]
  },
  {
   "cell_type": "markdown",
   "metadata": {},
   "source": [
    "According to the number of colors in dendrogram, 3 clusters are likely to exist in these documents, because there are different main 3 components with colors. "
   ]
  },
  {
   "cell_type": "code",
   "execution_count": 68,
   "metadata": {},
   "outputs": [],
   "source": [
    "#4. \n",
    "with open(\"data/mystery.txt\") as f:\n",
    "    new = f.read()"
   ]
  },
  {
   "cell_type": "code",
   "execution_count": 69,
   "metadata": {},
   "outputs": [],
   "source": [
    "words = new.lower().translate(str.maketrans(\"\",\"\",string.punctuation)).split()\n",
    "tf_new = np.array([words.count(word) for word in result.index])\n",
    "idf_docs = idf(docs)\n",
    "tfidf_new = tf_new[:,np.newaxis] * idf_docs"
   ]
  },
  {
   "cell_type": "code",
   "execution_count": 70,
   "metadata": {},
   "outputs": [],
   "source": [
    "U,s,V = la.svd(result)\n",
    "q = tfidf_new.T @ U[:,:100] @ np.diag(1/s[:100])\n",
    "docs_V = approx_svd(result,100).T @ U[:,:100] @ np.diag(1/s[:100])"
   ]
  },
  {
   "cell_type": "code",
   "execution_count": 71,
   "metadata": {},
   "outputs": [],
   "source": [
    "similar = np.zeros(docs_V.shape[0])\n",
    "for i in range(docs_V.shape[0]):\n",
    "    similar[i] = cosdis(q,docs_V[i,:])"
   ]
  },
  {
   "cell_type": "code",
   "execution_count": 72,
   "metadata": {},
   "outputs": [],
   "source": [
    "similar = pd.DataFrame(similar, index=result.columns, columns= [\"similarity\"])"
   ]
  },
  {
   "cell_type": "code",
   "execution_count": 73,
   "metadata": {},
   "outputs": [],
   "source": [
    "top10 = similar.sort_values(by = \"similarity\",ascending=False).head(10)\n",
    "bottom10 = similar.sort_values(by = \"similarity\",ascending=False).tail(10)"
   ]
  },
  {
   "cell_type": "code",
   "execution_count": 74,
   "metadata": {},
   "outputs": [
    {
     "data": {
      "text/html": [
       "<div>\n",
       "<style scoped>\n",
       "    .dataframe tbody tr th:only-of-type {\n",
       "        vertical-align: middle;\n",
       "    }\n",
       "\n",
       "    .dataframe tbody tr th {\n",
       "        vertical-align: top;\n",
       "    }\n",
       "\n",
       "    .dataframe thead th {\n",
       "        text-align: right;\n",
       "    }\n",
       "</style>\n",
       "<table border=\"1\" class=\"dataframe\">\n",
       "  <thead>\n",
       "    <tr style=\"text-align: right;\">\n",
       "      <th></th>\n",
       "      <th>similarity</th>\n",
       "    </tr>\n",
       "  </thead>\n",
       "  <tbody>\n",
       "    <tr>\n",
       "      <th>Diabetes Numeracy and Blood Glucose Control: Association With Type of Diabetes and Source of Care.</th>\n",
       "      <td>0.639125</td>\n",
       "    </tr>\n",
       "    <tr>\n",
       "      <th>Disparities in Postpartum Follow-Up in Women With Gestational Diabetes Mellitus.</th>\n",
       "      <td>0.499503</td>\n",
       "    </tr>\n",
       "    <tr>\n",
       "      <th>Feasibility of the SMART Project: A Text Message Program for Adolescents With Type 1 Diabetes.</th>\n",
       "      <td>0.498692</td>\n",
       "    </tr>\n",
       "    <tr>\n",
       "      <th>Health Care Utilization Among U.S. Adults With Diagnosed Diabetes, 2013.</th>\n",
       "      <td>0.489068</td>\n",
       "    </tr>\n",
       "    <tr>\n",
       "      <th>Efficacy of a Transition Theory-Based Discharge Planning Program for Childhood Asthma Management.</th>\n",
       "      <td>0.458502</td>\n",
       "    </tr>\n",
       "    <tr>\n",
       "      <th>Outcomes of a Diabetes Education Program for Registered Nurses Caring for Individuals With Diabetes.</th>\n",
       "      <td>0.430134</td>\n",
       "    </tr>\n",
       "    <tr>\n",
       "      <th>Inducible laryngeal obstruction during exercise: moving beyond vocal cords with new insights.</th>\n",
       "      <td>0.417749</td>\n",
       "    </tr>\n",
       "    <tr>\n",
       "      <th>\"Living Well with Diabetes\": Evaluation of a Pilot Program to Promote Diabetes Prevention and Self-Management in a Medically Underserved Community.</th>\n",
       "      <td>0.397457</td>\n",
       "    </tr>\n",
       "    <tr>\n",
       "      <th>Demographic Disparities Among Medicare Beneficiaries with Type 2 Diabetes Mellitus in 2011: Diabetes Prevalence, Comorbidities, and Hypoglycemia Events.</th>\n",
       "      <td>0.384353</td>\n",
       "    </tr>\n",
       "    <tr>\n",
       "      <th>A Multicenter Outcomes Analysis of Children With Severe Rhino/Enteroviral Respiratory Infection*</th>\n",
       "      <td>0.383269</td>\n",
       "    </tr>\n",
       "  </tbody>\n",
       "</table>\n",
       "</div>"
      ],
      "text/plain": [
       "                                                    similarity\n",
       "Diabetes Numeracy and Blood Glucose Control: As...    0.639125\n",
       "Disparities in Postpartum Follow-Up in Women Wi...    0.499503\n",
       "Feasibility of the SMART Project: A Text Messag...    0.498692\n",
       "Health Care Utilization Among U.S. Adults With ...    0.489068\n",
       "Efficacy of a Transition Theory-Based Discharge...    0.458502\n",
       "Outcomes of a Diabetes Education Program for Re...    0.430134\n",
       "Inducible laryngeal obstruction during exercise...    0.417749\n",
       "\"Living Well with Diabetes\": Evaluation of a Pi...    0.397457\n",
       "Demographic Disparities Among Medicare Benefici...    0.384353\n",
       "A Multicenter Outcomes Analysis of Children Wit...    0.383269"
      ]
     },
     "execution_count": 74,
     "metadata": {},
     "output_type": "execute_result"
    }
   ],
   "source": [
    "top10"
   ]
  },
  {
   "cell_type": "code",
   "execution_count": 75,
   "metadata": {},
   "outputs": [
    {
     "data": {
      "text/html": [
       "<div>\n",
       "<style scoped>\n",
       "    .dataframe tbody tr th:only-of-type {\n",
       "        vertical-align: middle;\n",
       "    }\n",
       "\n",
       "    .dataframe tbody tr th {\n",
       "        vertical-align: top;\n",
       "    }\n",
       "\n",
       "    .dataframe thead th {\n",
       "        text-align: right;\n",
       "    }\n",
       "</style>\n",
       "<table border=\"1\" class=\"dataframe\">\n",
       "  <thead>\n",
       "    <tr style=\"text-align: right;\">\n",
       "      <th></th>\n",
       "      <th>similarity</th>\n",
       "    </tr>\n",
       "  </thead>\n",
       "  <tbody>\n",
       "    <tr>\n",
       "      <th>Boronate Probes for the Detection of Hydrogen Peroxide Release from Human Spermatozoa.</th>\n",
       "      <td>-0.041966</td>\n",
       "    </tr>\n",
       "    <tr>\n",
       "      <th>Antibodies to the Plasmodium falciparum proteins MSPDBL1 and MSPDBL2 opsonise merozoites, inhibit parasite growth and predict protection from clinical malaria.</th>\n",
       "      <td>-0.046423</td>\n",
       "    </tr>\n",
       "    <tr>\n",
       "      <th>CD4 T-cell subsets in malaria: TH1/TH2 revisited.</th>\n",
       "      <td>-0.056098</td>\n",
       "    </tr>\n",
       "    <tr>\n",
       "      <th>Adjuvant poly(N-isopropylacrylamide) generates more efficient monoclonal antibodies against truncated recombinant histidine-rich protein 2 of Plasmodium falciparum for malaria diagnosis.</th>\n",
       "      <td>-0.056822</td>\n",
       "    </tr>\n",
       "    <tr>\n",
       "      <th>Nerve Growth Factor Potentiates Nicotinic Synaptic Transmission in Mouse Airway Parasympathetic Neurons.</th>\n",
       "      <td>-0.086970</td>\n",
       "    </tr>\n",
       "    <tr>\n",
       "      <th>Time-to-infection by Plasmodium falciparum is largely determined by random factors.</th>\n",
       "      <td>-0.087473</td>\n",
       "    </tr>\n",
       "    <tr>\n",
       "      <th>IRGM3 contributes to immunopathology and is required for differentiation of antigen-specific effector CD8+ T cells in experimental cerebral malaria.</th>\n",
       "      <td>-0.100283</td>\n",
       "    </tr>\n",
       "    <tr>\n",
       "      <th>CD40 Is Required for Protective Immunity against Liver Stage Plasmodium Infection.</th>\n",
       "      <td>-0.103561</td>\n",
       "    </tr>\n",
       "    <tr>\n",
       "      <th>Pre- and Postnatal Risk Factors in Relation to Allergic Rhinitis in School-Aged Children in China.</th>\n",
       "      <td>-0.111873</td>\n",
       "    </tr>\n",
       "    <tr>\n",
       "      <th>NFATc1 deletion in T lymphocytes inhibits the allergic trait in a murine model of asthma.</th>\n",
       "      <td>-0.120838</td>\n",
       "    </tr>\n",
       "  </tbody>\n",
       "</table>\n",
       "</div>"
      ],
      "text/plain": [
       "                                                    similarity\n",
       "Boronate Probes for the Detection of Hydrogen P...   -0.041966\n",
       "Antibodies to the Plasmodium falciparum protein...   -0.046423\n",
       "CD4 T-cell subsets in malaria: TH1/TH2 revisited.    -0.056098\n",
       "Adjuvant poly(N-isopropylacrylamide) generates ...   -0.056822\n",
       "Nerve Growth Factor Potentiates Nicotinic Synap...   -0.086970\n",
       "Time-to-infection by Plasmodium falciparum is l...   -0.087473\n",
       "IRGM3 contributes to immunopathology and is req...   -0.100283\n",
       "CD40 Is Required for Protective Immunity agains...   -0.103561\n",
       "Pre- and Postnatal Risk Factors in Relation to ...   -0.111873\n",
       "NFATc1 deletion in T lymphocytes inhibits the a...   -0.120838"
      ]
     },
     "execution_count": 75,
     "metadata": {},
     "output_type": "execute_result"
    }
   ],
   "source": [
    "bottom10"
   ]
  },
  {
   "cell_type": "markdown",
   "metadata": {},
   "source": [
    "**Notes on the Pubmed articles**\n",
    "\n",
    "These were downloaded with the following script.\n",
    "\n",
    "```python\n",
    "from Bio import Entrez, Medline\n",
    "Entrez.email = \"YOUR EMAIL HERE\"\n",
    "import cPickle\n",
    "\n",
    "try:\n",
    "    docs = cPickle.load(open('pubmed.pic'))\n",
    "except Exception, e:\n",
    "    print e\n",
    "\n",
    "    docs = {}\n",
    "    for term in ['plasmodium', 'diabetes', 'asthma', 'cytometry']:\n",
    "        handle = Entrez.esearch(db=\"pubmed\", term=term, retmax=50)\n",
    "        result = Entrez.read(handle)\n",
    "        handle.close()\n",
    "        idlist = result[\"IdList\"]\n",
    "        handle2 = Entrez.efetch(db=\"pubmed\", id=idlist, rettype=\"medline\", retmode=\"text\")\n",
    "        result2 = Medline.parse(handle2)\n",
    "        for record in result2:\n",
    "            title = record.get(\"TI\", None)\n",
    "            abstract = record.get(\"AB\", None)\n",
    "            if title is None or abstract is None:\n",
    "                continue\n",
    "            docs[title] = '\\n'.join([title, abstract])\n",
    "            print title\n",
    "        handle2.close()\n",
    "    cPickle.dump(docs, open('pubmed.pic', 'w'))\n",
    "docs.values()\n",
    "```"
   ]
  }
 ],
 "metadata": {
  "kernelspec": {
   "display_name": "Python 3",
   "language": "python",
   "name": "python3"
  },
  "language_info": {
   "codemirror_mode": {
    "name": "ipython",
    "version": 3
   },
   "file_extension": ".py",
   "mimetype": "text/x-python",
   "name": "python",
   "nbconvert_exporter": "python",
   "pygments_lexer": "ipython3",
   "version": "3.6.10"
  }
 },
 "nbformat": 4,
 "nbformat_minor": 1
}
