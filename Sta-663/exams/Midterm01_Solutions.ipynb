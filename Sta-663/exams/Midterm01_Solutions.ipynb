{
 "cells": [
  {
   "cell_type": "markdown",
   "metadata": {},
   "source": [
    "Instructions\n",
    "\n",
    "**When taking this exam, you agree to follow the Duke Honor Code.**\n",
    "\n",
    "- This is a closed book exam. You can use the `help()` function, and the `?` prefix or suffix but are restricted to a SINGLE browser tab.\n",
    "- All necessary imports are provided. You should not need to import any other packages.\n",
    "- Answer all 5 questions."
   ]
  },
  {
   "cell_type": "code",
   "execution_count": 1,
   "metadata": {},
   "outputs": [],
   "source": [
    "%matplotlib inline\n",
    "import matplotlib.pyplot as plt\n",
    "import numpy as np\n",
    "import pandas as pd\n",
    "import string\n",
    "import collections\n",
    "import seaborn as sns\n",
    "from functools import reduce\n",
    "sns.set_context('notebook', font_scale=1.5)"
   ]
  },
  {
   "cell_type": "markdown",
   "metadata": {},
   "source": [
    "**1**. 20 points\n",
    "\n",
    "A palindromic number reads the same both ways. The largest palindrome made from the product of two 2-digit numbers is 9009 = 91 × 99.\n",
    "\n",
    "Find the largest palindrome made from the product of two 3-digit numbers.\n",
    "\n",
    "(Source: Project Euler Problem 4)"
   ]
  },
  {
   "cell_type": "code",
   "execution_count": 2,
   "metadata": {},
   "outputs": [
    {
     "data": {
      "text/plain": [
       "906609"
      ]
     },
     "execution_count": 2,
     "metadata": {},
     "output_type": "execute_result"
    }
   ],
   "source": [
    "res = []\n",
    "for i in range(999, 1, -1):\n",
    "    for j in range(999, 99, -1):\n",
    "        n = i*j\n",
    "        if str(i*j) == str(i*j)[::-1]:\n",
    "            res.append(n)\n",
    "max(res)"
   ]
  },
  {
   "cell_type": "markdown",
   "metadata": {},
   "source": [
    "**2**. 20 points\n",
    "\n",
    "Count the number of each unique word longer than 3 characters in the nursery rhyme given, ignoring case and removing punctuation.\n",
    "\n",
    "```text\n",
    "Humpty Dumpty sat on a wall,\n",
    "Humpty Dumpty had a great fall;\n",
    "All the king's horses and all the king's men\n",
    "Couldn't put Humpty together again.\n",
    "```"
   ]
  },
  {
   "cell_type": "code",
   "execution_count": 3,
   "metadata": {},
   "outputs": [],
   "source": [
    "s = '''Humpty Dumpty sat on a wall,\n",
    "Humpty Dumpty had a great fall;\n",
    "All the king's horses and all the king's men\n",
    "Couldn't put Humpty together again.'''"
   ]
  },
  {
   "cell_type": "code",
   "execution_count": 4,
   "metadata": {},
   "outputs": [
    {
     "data": {
      "text/plain": [
       "Counter({'humpty': 3,\n",
       "         'dumpty': 2,\n",
       "         'wall': 1,\n",
       "         'great': 1,\n",
       "         'fall': 1,\n",
       "         'kings': 2,\n",
       "         'horses': 1,\n",
       "         'couldnt': 1,\n",
       "         'together': 1,\n",
       "         'again': 1})"
      ]
     },
     "execution_count": 4,
     "metadata": {},
     "output_type": "execute_result"
    }
   ],
   "source": [
    "collections.Counter(_ for _ in s.lower().\n",
    "                    translate(str.maketrans('', '', string.punctuation)).\n",
    "                    split() if len(_) > 3)"
   ]
  },
  {
   "cell_type": "markdown",
   "metadata": {},
   "source": [
    "**3**. 20 points\n",
    "\n",
    "Create a DataFrame containing the standardized data for each row feature - that is, every row has mean 0 and standardized deviation 1. The DataFrame should have the same row and column names as the original."
   ]
  },
  {
   "cell_type": "code",
   "execution_count": 5,
   "metadata": {},
   "outputs": [],
   "source": [
    "df = pd.DataFrame(\n",
    "    dict(ann=(23,67,1.6), bob=(24,92,1.7), dan=(30,89,1.8)), \n",
    "    index=['age', 'wt', 'ht'])"
   ]
  },
  {
   "cell_type": "code",
   "execution_count": 6,
   "metadata": {},
   "outputs": [
    {
     "data": {
      "text/html": [
       "<div>\n",
       "<style scoped>\n",
       "    .dataframe tbody tr th:only-of-type {\n",
       "        vertical-align: middle;\n",
       "    }\n",
       "\n",
       "    .dataframe tbody tr th {\n",
       "        vertical-align: top;\n",
       "    }\n",
       "\n",
       "    .dataframe thead th {\n",
       "        text-align: right;\n",
       "    }\n",
       "</style>\n",
       "<table border=\"1\" class=\"dataframe\">\n",
       "  <thead>\n",
       "    <tr style=\"text-align: right;\">\n",
       "      <th></th>\n",
       "      <th>ann</th>\n",
       "      <th>bob</th>\n",
       "      <th>dan</th>\n",
       "    </tr>\n",
       "  </thead>\n",
       "  <tbody>\n",
       "    <tr>\n",
       "      <td>age</td>\n",
       "      <td>23.0</td>\n",
       "      <td>24.0</td>\n",
       "      <td>30.0</td>\n",
       "    </tr>\n",
       "    <tr>\n",
       "      <td>wt</td>\n",
       "      <td>67.0</td>\n",
       "      <td>92.0</td>\n",
       "      <td>89.0</td>\n",
       "    </tr>\n",
       "    <tr>\n",
       "      <td>ht</td>\n",
       "      <td>1.6</td>\n",
       "      <td>1.7</td>\n",
       "      <td>1.8</td>\n",
       "    </tr>\n",
       "  </tbody>\n",
       "</table>\n",
       "</div>"
      ],
      "text/plain": [
       "      ann   bob   dan\n",
       "age  23.0  24.0  30.0\n",
       "wt   67.0  92.0  89.0\n",
       "ht    1.6   1.7   1.8"
      ]
     },
     "execution_count": 6,
     "metadata": {},
     "output_type": "execute_result"
    }
   ],
   "source": [
    "df"
   ]
  },
  {
   "cell_type": "code",
   "execution_count": 7,
   "metadata": {},
   "outputs": [
    {
     "data": {
      "text/html": [
       "<div>\n",
       "<style scoped>\n",
       "    .dataframe tbody tr th:only-of-type {\n",
       "        vertical-align: middle;\n",
       "    }\n",
       "\n",
       "    .dataframe tbody tr th {\n",
       "        vertical-align: top;\n",
       "    }\n",
       "\n",
       "    .dataframe thead th {\n",
       "        text-align: right;\n",
       "    }\n",
       "</style>\n",
       "<table border=\"1\" class=\"dataframe\">\n",
       "  <thead>\n",
       "    <tr style=\"text-align: right;\">\n",
       "      <th></th>\n",
       "      <th>ann</th>\n",
       "      <th>bob</th>\n",
       "      <th>dan</th>\n",
       "    </tr>\n",
       "  </thead>\n",
       "  <tbody>\n",
       "    <tr>\n",
       "      <td>age</td>\n",
       "      <td>-0.704361</td>\n",
       "      <td>-0.440225</td>\n",
       "      <td>1.144586</td>\n",
       "    </tr>\n",
       "    <tr>\n",
       "      <td>wt</td>\n",
       "      <td>-1.147708</td>\n",
       "      <td>0.683741</td>\n",
       "      <td>0.463967</td>\n",
       "    </tr>\n",
       "    <tr>\n",
       "      <td>ht</td>\n",
       "      <td>-1.000000</td>\n",
       "      <td>0.000000</td>\n",
       "      <td>1.000000</td>\n",
       "    </tr>\n",
       "  </tbody>\n",
       "</table>\n",
       "</div>"
      ],
      "text/plain": [
       "          ann       bob       dan\n",
       "age -0.704361 -0.440225  1.144586\n",
       "wt  -1.147708  0.683741  0.463967\n",
       "ht  -1.000000  0.000000  1.000000"
      ]
     },
     "execution_count": 7,
     "metadata": {},
     "output_type": "execute_result"
    }
   ],
   "source": [
    "(df - df.mean(axis=1)[:, None])/df.std(axis=1)[:, None]"
   ]
  },
  {
   "cell_type": "markdown",
   "metadata": {},
   "source": [
    "**Alternative**"
   ]
  },
  {
   "cell_type": "code",
   "execution_count": 8,
   "metadata": {},
   "outputs": [
    {
     "data": {
      "text/html": [
       "<div>\n",
       "<style scoped>\n",
       "    .dataframe tbody tr th:only-of-type {\n",
       "        vertical-align: middle;\n",
       "    }\n",
       "\n",
       "    .dataframe tbody tr th {\n",
       "        vertical-align: top;\n",
       "    }\n",
       "\n",
       "    .dataframe thead th {\n",
       "        text-align: right;\n",
       "    }\n",
       "</style>\n",
       "<table border=\"1\" class=\"dataframe\">\n",
       "  <thead>\n",
       "    <tr style=\"text-align: right;\">\n",
       "      <th></th>\n",
       "      <th>ann</th>\n",
       "      <th>bob</th>\n",
       "      <th>dan</th>\n",
       "    </tr>\n",
       "  </thead>\n",
       "  <tbody>\n",
       "    <tr>\n",
       "      <td>age</td>\n",
       "      <td>-0.704361</td>\n",
       "      <td>-0.440225</td>\n",
       "      <td>1.144586</td>\n",
       "    </tr>\n",
       "    <tr>\n",
       "      <td>wt</td>\n",
       "      <td>-1.147708</td>\n",
       "      <td>0.683741</td>\n",
       "      <td>0.463967</td>\n",
       "    </tr>\n",
       "    <tr>\n",
       "      <td>ht</td>\n",
       "      <td>-1.000000</td>\n",
       "      <td>0.000000</td>\n",
       "      <td>1.000000</td>\n",
       "    </tr>\n",
       "  </tbody>\n",
       "</table>\n",
       "</div>"
      ],
      "text/plain": [
       "          ann       bob       dan\n",
       "age -0.704361 -0.440225  1.144586\n",
       "wt  -1.147708  0.683741  0.463967\n",
       "ht  -1.000000  0.000000  1.000000"
      ]
     },
     "execution_count": 8,
     "metadata": {},
     "output_type": "execute_result"
    }
   ],
   "source": [
    "df.transform(lambda x: (x - x.mean())/x.std(), axis=1)"
   ]
  },
  {
   "cell_type": "markdown",
   "metadata": {},
   "source": [
    "**4**. 20 points\n",
    "\n",
    "Download the `mtcars` data set as a Dataframe from https://gist.githubusercontent.com/seankross/a412dfbd88b3db70b74b/raw/5f23f993cd87c283ce766e7ac6b329ee7cc2e1d1/mtcars.csv\n",
    "\n",
    "and create the following panel of strip plots\n",
    "\n",
    "![](./mtcars.png)"
   ]
  },
  {
   "cell_type": "code",
   "execution_count": 9,
   "metadata": {},
   "outputs": [],
   "source": [
    "url = 'https://gist.githubusercontent.com/seankross/a412dfbd88b3db70b74b/raw/5f23f993cd87c283ce766e7ac6b329ee7cc2e1d1/mtcars.csv'\n",
    "mtcars = pd.read_csv(url)"
   ]
  },
  {
   "cell_type": "code",
   "execution_count": 10,
   "metadata": {},
   "outputs": [],
   "source": [
    "df = mtcars[['carb', 'mpg', 'hp', 'wt']]"
   ]
  },
  {
   "cell_type": "code",
   "execution_count": 11,
   "metadata": {},
   "outputs": [],
   "source": [
    "df = pd.melt(df, id_vars='carb')"
   ]
  },
  {
   "cell_type": "code",
   "execution_count": 12,
   "metadata": {},
   "outputs": [
    {
     "data": {
      "image/png": "[encoded data removed]",
      "text/plain": [
       "<Figure size 648x432 with 6 Axes>"
      ]
     },
     "metadata": {
      "needs_background": "light"
     },
     "output_type": "display_data"
    }
   ],
   "source": [
    "g = sns.catplot(data = df,\n",
    "            x='variable',\n",
    "            y='value',\n",
    "            col='carb',\n",
    "            col_wrap=3, \n",
    "            kind='strip',\n",
    "            s=5, \n",
    "            height=3)\n",
    "g.savefig('mtcars.png')"
   ]
  },
  {
   "cell_type": "markdown",
   "metadata": {},
   "source": [
    "**5**. 20 points\n",
    "\n",
    "Given \n",
    "\n",
    "```\n",
    "y = [ 1.70222116,  1.95783341, -0.51612387, -2.06639513, -2.41302321,\n",
    "     -0.73439023,  1.84515596,  11.58990399, -1.68093127, -1.31909487]\n",
    "y_pred = [ 1., 0.54030231, -0.41614684, -0.9899925 , -0.65364362,\n",
    "          0.28366219,  0.96017029, 0.75390225, -0.14550003, -0.91113026]\n",
    "```\n",
    "\n",
    "find the residual sum of squares (RSS) - i.e. the sum of squared difference between `y` and `y_pred` , excluding any residual whose absolute value is greater or equal to 3. The residual or error is the difference between `y` and `y_pred`. Use only anonymous functions and the higher order functions map, reduce and filter to do so.\n",
    "\n",
    "Do not use any of the following\n",
    "\n",
    "- for loops\n",
    "- comprehensions or generator expressions\n",
    "- the sum function\n",
    "- numpy"
   ]
  },
  {
   "cell_type": "code",
   "execution_count": 13,
   "metadata": {},
   "outputs": [],
   "source": [
    "y = [ 1.70222116,  1.95783341, -0.51612387, -2.06639513, -2.41302321,\n",
    "     -0.73439023,  1.84515596,  11.58990399, -1.68093127, -1.31909487]\n",
    "y_pred = [ 1., 0.54030231, -0.41614684, -0.9899925 , -0.65364362,\n",
    "          0.28366219,  0.96017029, 0.75390225, -0.14550003, -0.91113026]"
   ]
  },
  {
   "cell_type": "code",
   "execution_count": 14,
   "metadata": {},
   "outputs": [
    {
     "data": {
      "text/plain": [
       "11.110178128879657"
      ]
     },
     "execution_count": 14,
     "metadata": {},
     "output_type": "execute_result"
    }
   ],
   "source": [
    "reduce(lambda x, y: x+y,\n",
    "       map(lambda x: x**2,\n",
    "       filter(lambda x: x < 3, \n",
    "              map(lambda x, y: abs(x - y), y, y_pred))))"
   ]
  }
 ],
 "metadata": {
  "kernelspec": {
   "display_name": "Python 3",
   "language": "python",
   "name": "python3"
  },
  "language_info": {
   "codemirror_mode": {
    "name": "ipython",
    "version": 3
   },
   "file_extension": ".py",
   "mimetype": "text/x-python",
   "name": "python",
   "nbconvert_exporter": "python",
   "pygments_lexer": "ipython3",
   "version": "3.7.4"
  }
 },
 "nbformat": 4,
 "nbformat_minor": 2
}
