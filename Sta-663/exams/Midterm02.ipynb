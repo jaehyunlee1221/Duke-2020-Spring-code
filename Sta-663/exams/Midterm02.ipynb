{
 "cells": [
  {
   "cell_type": "markdown",
   "metadata": {},
   "source": [
    "Instructions\n",
    "\n",
    "**When taking this exam, you agree to follow the Duke Honor Code.**\n",
    "\n",
    "- This is an OPEN book exam.\n",
    "- Import any module you need from the standard Python library, `numpy`, `scipy`, `pandas`, `matplotlib` or `seaborn`. Do not use any other 3rd party packages.\n",
    "- Answer all 5 questions."
   ]
  },
  {
   "cell_type": "code",
   "execution_count": 170,
   "metadata": {},
   "outputs": [],
   "source": [
    "import numpy as np\n",
    "import matplotlib.pyplot as plt\n",
    "from scipy import optimize as opt\n",
    "from scipy import linalg as la"
   ]
  },
  {
   "cell_type": "markdown",
   "metadata": {},
   "source": [
    "**1**. 20 points\n",
    "\n",
    "- Load the matrix stored in `Q1.npy` into `A` and use factorize using SVD (5 points)\n",
    "- Find the condition number of `A` from the SVD (5 points)\n",
    "- Generate the matrix that is the best rank 3 approximation to `A` (5 points)\n",
    "- Determine how many singular vectors would be needed to explain at least 95% of the variance of the original matrix `A` (5 points)"
   ]
  },
  {
   "cell_type": "code",
   "execution_count": 171,
   "metadata": {},
   "outputs": [
    {
     "data": {
      "text/plain": [
       "(array([[-1.18770096e-01, -8.04498557e-02,  7.83904936e-02, ...,\n",
       "          3.11769936e-02,  1.11680756e-01,  9.72523140e-03],\n",
       "        [-6.79403483e-02,  8.03004623e-02,  1.76278895e-03, ...,\n",
       "          1.57751082e-01, -6.06516427e-02, -5.20096453e-02],\n",
       "        [-9.83691583e-03, -2.06680793e-01,  2.33515923e-01, ...,\n",
       "          9.02374975e-02, -1.73208768e-01, -1.94581490e-04],\n",
       "        ...,\n",
       "        [-9.71779254e-02,  1.98550793e-01,  1.44210082e-03, ...,\n",
       "         -1.91180195e-01, -3.15033024e-02, -3.74308108e-02],\n",
       "        [-5.61222824e-02, -5.65422183e-02, -1.11900105e-01, ...,\n",
       "          1.80883702e-01, -1.32706649e-02,  1.19052054e-01],\n",
       "        [-3.13792896e-02, -4.00094522e-02,  2.76878564e-02, ...,\n",
       "         -1.02941218e-01,  3.94082858e-02, -1.54190483e-01]]),\n",
       " array([132.82960948,  22.33176392,  11.34783901,  11.1406807 ,\n",
       "         10.69267062,   9.8301537 ,   9.56838521,   9.17136619,\n",
       "          9.04351491,   8.05265297,   7.8075083 ,   6.69495624]),\n",
       " array([[-0.04368239, -0.15398487, -0.0271821 , -0.19701071, -0.07977588,\n",
       "         -0.1818806 , -0.16287162, -0.42292637, -0.08557903, -0.58634561,\n",
       "         -0.23172247, -0.53401269],\n",
       "        [ 0.04578241,  0.06493353, -0.21716685,  0.10213019,  0.02740132,\n",
       "         -0.0401947 ,  0.04753607,  0.30464698, -0.56576114,  0.35699665,\n",
       "         -0.4955139 , -0.38156702],\n",
       "        [-0.34803533, -0.11900482, -0.0341057 ,  0.22176066,  0.21200625,\n",
       "         -0.63680262,  0.15316493,  0.27247835,  0.01073177, -0.01740316,\n",
       "          0.44026192, -0.26823778],\n",
       "        [ 0.34447165, -0.0942076 ,  0.06538049,  0.85924179, -0.04385585,\n",
       "          0.21842747, -0.050033  , -0.06977654,  0.05132899, -0.14998266,\n",
       "          0.08759371, -0.20021256],\n",
       "        [-0.49596899, -0.05822688, -0.21885189,  0.08450134,  0.37781095,\n",
       "          0.44094864,  0.3335594 , -0.0867664 ,  0.38089132,  0.04225528,\n",
       "         -0.21366012, -0.21703991],\n",
       "        [ 0.30865551, -0.06797188, -0.23117419, -0.17514032,  0.24050608,\n",
       "          0.07575872, -0.33244135,  0.64725739,  0.34499896, -0.29784084,\n",
       "         -0.07506772, -0.09790508],\n",
       "        [ 0.26228669,  0.17557091, -0.34165756,  0.14503088,  0.44419762,\n",
       "         -0.36979714,  0.24965561, -0.23262105, -0.03543911, -0.21806275,\n",
       "         -0.28358824,  0.42765078],\n",
       "        [ 0.24377865,  0.04679802,  0.5417032 , -0.20238786,  0.49837882,\n",
       "          0.22497818,  0.34153045,  0.07845976, -0.31431707, -0.17407329,\n",
       "          0.18205338, -0.14121944],\n",
       "        [-0.00267878,  0.08562869, -0.4269974 , -0.0632155 ,  0.365919  ,\n",
       "          0.22000928, -0.45675701, -0.28377146, -0.29633326,  0.15161711,\n",
       "          0.46856864, -0.06727449],\n",
       "        [-0.13214147, -0.39979532, -0.35405147, -0.00863427, -0.25989972,\n",
       "          0.2546366 ,  0.31147132,  0.20924832, -0.40140035, -0.40091807,\n",
       "          0.17640547,  0.26666835],\n",
       "        [ 0.51695906, -0.33320067, -0.27675897, -0.24061143, -0.11804169,\n",
       "         -0.06762176,  0.4024327 , -0.1766715 ,  0.23315107,  0.33428629,\n",
       "          0.18866825, -0.2717855 ],\n",
       "        [-0.04489425, -0.79361078,  0.22555983,  0.03883219,  0.29044675,\n",
       "         -0.081969  , -0.27732083, -0.08335069, -0.04890846,  0.20527209,\n",
       "         -0.21941914,  0.21948899]]))"
      ]
     },
     "execution_count": 171,
     "metadata": {},
     "output_type": "execute_result"
    }
   ],
   "source": [
    "A = np.load('Q1.npy')\n",
    "U,s,V = la.svd(A,full_matrices=False)\n",
    "U,s,V"
   ]
  },
  {
   "cell_type": "markdown",
   "metadata": {},
   "source": [
    "condition number = s1/sn where sn is largest singular value and s1 is smallest"
   ]
  },
  {
   "cell_type": "code",
   "execution_count": 64,
   "metadata": {},
   "outputs": [
    {
     "data": {
      "text/plain": [
       "0.050402589222131707"
      ]
     },
     "execution_count": 64,
     "metadata": {},
     "output_type": "execute_result"
    }
   ],
   "source": [
    "s[len(s)-1]/s[0]"
   ]
  },
  {
   "cell_type": "code",
   "execution_count": 70,
   "metadata": {},
   "outputs": [],
   "source": [
    "rank = 3\n",
    "Ap = U[:,:rank]@np.diag(s[:rank])@V[:rank,:]"
   ]
  },
  {
   "cell_type": "code",
   "execution_count": 71,
   "metadata": {},
   "outputs": [
    {
     "data": {
      "text/plain": [
       "array([[ 0.29729009,  2.20677283,  0.78864987, ...,  8.59344029,\n",
       "         4.93757121,  8.87158733],\n",
       "       [ 0.46934858,  1.50369645, -0.14481231, ...,  5.93130652,\n",
       "         1.21140329,  4.12958094],\n",
       "       [-1.0764932 , -0.41385293,  0.94748403, ..., -0.92771243,\n",
       "         3.75649444,  1.74809577],\n",
       "       ...,\n",
       "       [ 0.76116011,  2.27362009, -0.61260421, ...,  9.15124582,\n",
       "         0.80119961,  5.1968386 ],\n",
       "       [ 0.709774  ,  1.21703559,  0.52015654, ...,  3.94235488,\n",
       "         1.7940456 ,  4.80331962],\n",
       "       [ 0.03181498,  0.54641622,  0.29661635, ...,  2.11950844,\n",
       "         1.54690385,  2.48246117]])"
      ]
     },
     "execution_count": 71,
     "metadata": {},
     "output_type": "execute_result"
    }
   ],
   "source": [
    "Ap"
   ]
  },
  {
   "cell_type": "code",
   "execution_count": 180,
   "metadata": {},
   "outputs": [
    {
     "data": {
      "text/plain": [
       "array([0.92694054+0.j, 0.02620041+0.j, 0.00235482+0.j, 0.00676532+0.j,\n",
       "       0.00652057+0.j, 0.00600668+0.j, 0.00320248+0.j, 0.00340675+0.j,\n",
       "       0.00507671+0.j, 0.00480994+0.j, 0.00441906+0.j, 0.00429672+0.j])"
      ]
     },
     "execution_count": 180,
     "metadata": {},
     "output_type": "execute_result"
    }
   ],
   "source": [
    "la.eigvals(A.T@A)/sum(la.eigvals(A.T@A))"
   ]
  },
  {
   "cell_type": "markdown",
   "metadata": {},
   "source": [
    "it is much useful to use $A^TA$ to calculate our much variation in original matrix can be approximated by PCA"
   ]
  },
  {
   "cell_type": "markdown",
   "metadata": {},
   "source": [
    "we can find that we need only 2 singular vectors to explain at least 95% of original matrix A"
   ]
  },
  {
   "cell_type": "markdown",
   "metadata": {},
   "source": [
    "**2**. 20 points\n",
    "\n",
    "- Load the matrix in `Q2.npy` - this consists of two columns representing the x and y coordinates of 10 points\n",
    "- Find the equation of the circle that best fits these points (15 points)\n",
    "- Plot the points and fitted circle (5 points)\n",
    "\n",
    "Hint: You need to estimate the center of the circle and its radius."
   ]
  },
  {
   "cell_type": "markdown",
   "metadata": {},
   "source": [
    "$(x-a)^2+(y-b)^2 = r^2$\n",
    "$\\rightarrow 2ax+2by+r^2-a^2-b^2 = x^2+y^2$"
   ]
  },
  {
   "cell_type": "code",
   "execution_count": 2,
   "metadata": {},
   "outputs": [],
   "source": [
    "Q2 = np.load('Q2.npy')"
   ]
  },
  {
   "cell_type": "code",
   "execution_count": 3,
   "metadata": {},
   "outputs": [
    {
     "data": {
      "text/plain": [
       "array([[-2.        ,  0.10611415],\n",
       "       [-1.55555556, -1.37743284],\n",
       "       [-1.11111111, -1.6570774 ],\n",
       "       [-0.66666667,  1.77409394],\n",
       "       [-0.22222222, -2.00366513],\n",
       "       [ 0.22222222,  1.91844924],\n",
       "       [ 0.66666667, -1.93359695],\n",
       "       [ 1.11111111,  1.76322183],\n",
       "       [ 1.55555556,  1.28982612],\n",
       "       [ 2.        , -0.05969788]])"
      ]
     },
     "execution_count": 3,
     "metadata": {},
     "output_type": "execute_result"
    }
   ],
   "source": [
    "Q2"
   ]
  },
  {
   "cell_type": "code",
   "execution_count": 4,
   "metadata": {},
   "outputs": [],
   "source": [
    "xy = (Q2**2).sum(axis=1)"
   ]
  },
  {
   "cell_type": "code",
   "execution_count": 5,
   "metadata": {},
   "outputs": [],
   "source": [
    "A2 = np.c_[2*Q2, np.ones(len(xy))]"
   ]
  },
  {
   "cell_type": "code",
   "execution_count": 6,
   "metadata": {},
   "outputs": [],
   "source": [
    "beta, res, rank, s = la.lstsq(A2,xy)\n",
    "a = beta[0]\n",
    "b = beta[1]\n",
    "r = beta[2]+a**2+b**2"
   ]
  },
  {
   "cell_type": "markdown",
   "metadata": {},
   "source": [
    "$a = 0.023, b = -0.035, r^2 = 4.02 + a^2+b^2$  \n",
    "$\\rightarrow (x-a)^2+(y-b)^2 = r^2$"
   ]
  },
  {
   "cell_type": "code",
   "execution_count": 96,
   "metadata": {},
   "outputs": [
    {
     "data": {
      "text/plain": [
       "<matplotlib.patches.Circle at 0x7fe73a78d828>"
      ]
     },
     "execution_count": 96,
     "metadata": {},
     "output_type": "execute_result"
    },
    {
     "data": {
      "image/png": "[encoded data removed]",
      "text/plain": [
       "<Figure size 432x288 with 1 Axes>"
      ]
     },
     "metadata": {},
     "output_type": "display_data"
    }
   ],
   "source": [
    "fig, ax = plt.subplots()\n",
    "xp = np.linspace(-2,2,100)\n",
    "yp = np.linspace(-2,2,100)\n",
    "ax.scatter(Q2[:,0],Q2[:,1])\n",
    "circle = plt.Circle((a,b),np.sqrt(r),fill = False)\n",
    "ax.add_artist(circle)"
   ]
  },
  {
   "cell_type": "markdown",
   "metadata": {},
   "source": [
    "**3**. 20 points\n",
    "\n",
    "The figure below shows the current population of Durham, Chapel Hill and Raleigh. Arrows show fractions that move between cities each year.\n",
    "\n",
    "- What are the population sizes of the 3 cities after 3 years have passed? (5 points)\n",
    "- Find the steady state population of the 3 cities by solving a linear system. (15 points)\n",
    "\n",
    "Assume no births, deaths or any other fluxes other than those shown.\n",
    "\n",
    "![img](Q3.png)\n"
   ]
  },
  {
   "cell_type": "code",
   "execution_count": 14,
   "metadata": {},
   "outputs": [],
   "source": [
    "pop = np.array([80,300,500]).reshape(-1,1)\n",
    "M = np.array([\n",
    "    [0.5,0.2,0.3],\n",
    "    [0.05,0.9,0.05],\n",
    "    [0.2,0,0.8]\n",
    "])"
   ]
  },
  {
   "cell_type": "code",
   "execution_count": 15,
   "metadata": {},
   "outputs": [
    {
     "data": {
      "text/plain": [
       "array([[186.62],\n",
       "       [295.48],\n",
       "       [397.9 ]])"
      ]
     },
     "execution_count": 15,
     "metadata": {},
     "output_type": "execute_result"
    }
   ],
   "source": [
    "np.linalg.matrix_power(M.T,3)@pop"
   ]
  },
  {
   "cell_type": "markdown",
   "metadata": {},
   "source": [
    "chapel hill: 186.62k, durham: 295.48k, Raleigh = 397.9k"
   ]
  },
  {
   "cell_type": "code",
   "execution_count": 26,
   "metadata": {},
   "outputs": [],
   "source": [
    "A = np.eye(3)-M.T\n",
    "A[-1,:] = [1,1,1]\n",
    "st = la.solve(A,[0,0,1])"
   ]
  },
  {
   "cell_type": "code",
   "execution_count": 32,
   "metadata": {},
   "outputs": [
    {
     "data": {
      "text/plain": [
       "array([[176.],\n",
       "       [352.],\n",
       "       [352.]])"
      ]
     },
     "execution_count": 32,
     "metadata": {},
     "output_type": "execute_result"
    }
   ],
   "source": [
    "np.c_[st,st,st]@pop"
   ]
  },
  {
   "cell_type": "markdown",
   "metadata": {},
   "source": [
    "steady state: chapel hill: 176k, durham: 352k, Raleigh = 352k"
   ]
  },
  {
   "cell_type": "markdown",
   "metadata": {},
   "source": [
    "**4**. 20 points\n",
    "\n",
    "Consider the following matrix\n",
    "\n",
    "```\n",
    "A = np.array([\n",
    "    [5,1,2],\n",
    "    [1,5,3],\n",
    "    [2,3,5]\n",
    "])\n",
    "```\n",
    "\n",
    "- Find the characteristic polynomial of the matrix `A` (5 points)\n",
    "- Find the eigenvalues using the companion matrix method `C` (5 points)\n",
    "- Find a matrix `P` such that $A = P C P^{-1}$ (10 points)"
   ]
  },
  {
   "cell_type": "markdown",
   "metadata": {},
   "source": [
    "characteristic polynomial = $det(A-\\lambda I)$\n",
    "$\\rightarrow polynomial = \\prod (\\lambda - \\lambda_i)$"
   ]
  },
  {
   "cell_type": "code",
   "execution_count": 181,
   "metadata": {},
   "outputs": [],
   "source": [
    "A = np.array([\n",
    "    [5,2],\n",
    "    [2,5]])\n",
    "lam1, vec1 = la.eig(A)"
   ]
  },
  {
   "cell_type": "code",
   "execution_count": 182,
   "metadata": {},
   "outputs": [
    {
     "data": {
      "text/plain": [
       "array([  1., -10.,  21.])"
      ]
     },
     "execution_count": 182,
     "metadata": {},
     "output_type": "execute_result"
    }
   ],
   "source": [
    "lam1\n",
    "np.poly(lam1)"
   ]
  },
  {
   "cell_type": "code",
   "execution_count": 187,
   "metadata": {},
   "outputs": [
    {
     "data": {
      "text/plain": [
       "array([7.+0.j, 3.+0.j])"
      ]
     },
     "execution_count": 187,
     "metadata": {},
     "output_type": "execute_result"
    }
   ],
   "source": [
    "lam1"
   ]
  },
  {
   "cell_type": "markdown",
   "metadata": {},
   "source": [
    "$poly = (\\lambda - 7)(\\lambda - 3)$  \n",
    "$\\rightarrow \\lambda^2 -10\\lambda + 21$"
   ]
  },
  {
   "cell_type": "code",
   "execution_count": 183,
   "metadata": {},
   "outputs": [],
   "source": [
    "C = np.array([\n",
    "    [10,-21],\n",
    "    [1,0]\n",
    "])\n",
    "lam2, vec2 = la.eig(C)"
   ]
  },
  {
   "cell_type": "code",
   "execution_count": 184,
   "metadata": {},
   "outputs": [
    {
     "data": {
      "text/plain": [
       "array([7., 3.])"
      ]
     },
     "execution_count": 184,
     "metadata": {},
     "output_type": "execute_result"
    }
   ],
   "source": [
    "la.eigvals(C).real"
   ]
  },
  {
   "cell_type": "markdown",
   "metadata": {},
   "source": [
    "$A = Q1\\Lambda Q1^{-1}, C = Q2\\Lambda Q2^{-1}$"
   ]
  },
  {
   "cell_type": "code",
   "execution_count": 185,
   "metadata": {},
   "outputs": [],
   "source": [
    "P = vec1@la.inv(vec2)"
   ]
  },
  {
   "cell_type": "code",
   "execution_count": 186,
   "metadata": {},
   "outputs": [
    {
     "data": {
      "text/plain": [
       "array([[5., 2.],\n",
       "       [2., 5.]])"
      ]
     },
     "execution_count": 186,
     "metadata": {},
     "output_type": "execute_result"
    }
   ],
   "source": [
    "P@C@la.inv(P)"
   ]
  },
  {
   "cell_type": "markdown",
   "metadata": {},
   "source": [
    "**5**. 20 points\n",
    "\n",
    "The file `Q5.npy` contains the x and y coordinates in cols 1 and 2 respectively. \n",
    "\n",
    "- Find a cubic polynomial model to fit the data using the normal equations (5 points)\n",
    "- Now solve using mini-batch gradient descent Use a learning rate of 0.0001. Start with a guess of a=1, b=1, c=1, d=1 for the model $ax^3 + bx^2 + cx + d$, and report $(a, b, c, d)$ after 1,000 epochs with a batch size of 5. (15 points)\n",
    "\n",
    "For simplicity, you don't need to randomize the order when choosing data for each batch."
   ]
  },
  {
   "cell_type": "code",
   "execution_count": 99,
   "metadata": {},
   "outputs": [],
   "source": [
    "Q5 = np.load('Q5.npy')\n",
    "x = Q5[:,0]\n",
    "y = Q5[:,1]"
   ]
  },
  {
   "cell_type": "code",
   "execution_count": 103,
   "metadata": {},
   "outputs": [
    {
     "data": {
      "text/plain": [
       "array([-1.99235962, -1.02188927, -0.54438689,  0.99809019])"
      ]
     },
     "execution_count": 103,
     "metadata": {},
     "output_type": "execute_result"
    }
   ],
   "source": [
    "X = np.c_[np.ones(len(x)),x,x**2,x**3]\n",
    "b,res,rank,s = la.lstsq(X,y)\n",
    "b"
   ]
  },
  {
   "cell_type": "markdown",
   "metadata": {},
   "source": [
    "$-1.99-1.02x-0.544x^2+0.99x^3$"
   ]
  },
  {
   "cell_type": "code",
   "execution_count": 105,
   "metadata": {},
   "outputs": [],
   "source": [
    "def f(x,y,b):\n",
    "    return b[0]+b[1]*x+b[2]*x**2+b[3]*x**3 - y\n",
    "def grad_m(X,y,b):\n",
    "    return X.T@X@b - X.T@y"
   ]
  },
  {
   "cell_type": "code",
   "execution_count": 145,
   "metadata": {},
   "outputs": [],
   "source": [
    "b2 = [1,1,1,1]\n",
    "X = np.c_[np.ones(len(x)),x,x**2,x**3]\n",
    "a = 0.0001 #learning rate\n",
    "max_iter = 1000\n",
    "beta = 0.95\n",
    "v = 0"
   ]
  },
  {
   "cell_type": "code",
   "execution_count": 146,
   "metadata": {},
   "outputs": [
    {
     "data": {
      "text/plain": [
       "array([-1.96595293, -1.01073052, -0.54930624,  0.99638091])"
      ]
     },
     "execution_count": 146,
     "metadata": {},
     "output_type": "execute_result"
    }
   ],
   "source": [
    "for i in range(max_iter):\n",
    "    v = beta*v + (1-beta)*grad_m(X,y,b2)\n",
    "    vc = v/(1+beta**(i+1))\n",
    "    b2 = b2 - a*vc\n",
    "b2"
   ]
  }
 ],
 "metadata": {
  "kernelspec": {
   "display_name": "Python 3",
   "language": "python",
   "name": "python3"
  },
  "language_info": {
   "codemirror_mode": {
    "name": "ipython",
    "version": 3
   },
   "file_extension": ".py",
   "mimetype": "text/x-python",
   "name": "python",
   "nbconvert_exporter": "python",
   "pygments_lexer": "ipython3",
   "version": "3.6.10"
  }
 },
 "nbformat": 4,
 "nbformat_minor": 2
}
