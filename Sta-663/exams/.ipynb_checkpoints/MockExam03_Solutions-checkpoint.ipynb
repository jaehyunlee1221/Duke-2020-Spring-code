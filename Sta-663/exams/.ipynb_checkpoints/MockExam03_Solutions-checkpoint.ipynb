{
 "cells": [
  {
   "cell_type": "markdown",
   "metadata": {},
   "source": [
    "### Lab 07\n",
    "\n",
    "Labs in general are for you to solve short programming challenges in class. In contrast, homework assignments will involve more challenging and lengthy problems.\n",
    "\n",
    "Feel free to ask the TAs for help if there is anything you do not understand. The TAs will go through suggested solutions in the last 15 minutes of the lab - typically by solving them in a live demo. **Your midterm exams will be like this, so it is highly beneficial for you to attend these labs**.\n",
    "\n",
    "The second lab is to gain basic familiarity with optimization. \n",
    "\n",
    "- You can import any Python library module you need\n",
    "- Do this lab without using the web to search for solutions"
   ]
  },
  {
   "cell_type": "code",
   "execution_count": 4,
   "metadata": {},
   "outputs": [],
   "source": [
    "%matplotlib inline\n",
    "\n",
    "import matplotlib.pyplot as plt\n",
    "import numpy as np"
   ]
  },
  {
   "cell_type": "markdown",
   "metadata": {},
   "source": [
    "**1**. \n",
    "\n",
    "- Write a function to find where f(x) crosses zero using a bisection algorithm. The bisection algorithm works in the following way - given the left and right boundary, it checks if the crossing is between left and mid-point, or between the right and mid-point. If the former, the mid-point is set as the new right boundary and so on. In other words the interval containing the crossing is halved at each step. Stop when the length of the interval is less than 1e-6, and return the left and right boundaries at that point.\n",
    "    - The function should have the signature `bisect(f, left=0, right=1, tol=1e-6)`\n",
    "    - Use `bisect` to find the left and right intervals containing a zero (root) of the function $x^3 + 4x^2 - 1$ between 0 and 1.\n",
    "    - <font color=red>Hint</font>: If the crossing is between left and right, the function evaluated at left and right must have opposite signs. (20 points)\n",
    "\n",
    "- Plot the function together with a horizontal line for $y=0$ and a red circle at the root whose coordinates are (`left`, 0). The x-limits of the plot should be 0 and 1."
   ]
  },
  {
   "cell_type": "code",
   "execution_count": 5,
   "metadata": {},
   "outputs": [],
   "source": [
    "def bisect(f, left=0, right=1, tol=1e-6):\n",
    "    \"\"\"Docstring\"\"\"\n",
    "    \n",
    "    if f(left) * f(right) > 0:\n",
    "        return None\n",
    "    \n",
    "    mid = (left + right)/2\n",
    "    err = abs(right - left)\n",
    "    \n",
    "    i = 0\n",
    "    \n",
    "    while (err > tol) and (i < 1000):\n",
    "        i += 1\n",
    "        \n",
    "        if f(mid) == 0:\n",
    "            return (mid, mid)\n",
    "        \n",
    "        if f(left) * f(mid) < 0:\n",
    "            right = mid\n",
    "        else:\n",
    "            left = mid\n",
    "        \n",
    "        mid = (left + right)/2\n",
    "        err = abs(right - left)\n",
    "        \n",
    "    return (left, right)"
   ]
  },
  {
   "cell_type": "code",
   "execution_count": 6,
   "metadata": {},
   "outputs": [],
   "source": [
    "f = lambda x: x**3 + 4*x**2 -1"
   ]
  },
  {
   "cell_type": "code",
   "execution_count": 7,
   "metadata": {},
   "outputs": [
    {
     "data": {
      "text/plain": [
       "(0.47283363342285156, 0.47283458709716797)"
      ]
     },
     "execution_count": 7,
     "metadata": {},
     "output_type": "execute_result"
    }
   ],
   "source": [
    "left, right = bisect(f)\n",
    "left, right"
   ]
  },
  {
   "cell_type": "code",
   "execution_count": 8,
   "metadata": {},
   "outputs": [
    {
     "data": {
      "image/png": "[encoded data removed]",
      "text/plain": [
       "<Figure size 432x288 with 1 Axes>"
      ]
     },
     "metadata": {},
     "output_type": "display_data"
    }
   ],
   "source": [
    "xp = np.linspace(0, 1, 100)\n",
    "plt.plot(xp, f(xp))\n",
    "plt.axhline(0)\n",
    "plt.scatter([left], [0], c='red')\n",
    "pass"
   ]
  },
  {
   "cell_type": "markdown",
   "metadata": {},
   "source": [
    "**2**. \n",
    "\n",
    "Implement a Python function to find the minimum using the Newton-Raphson method. Use it to find a minimum of $x^3 + 4x^2 -3 = x$ given the initial location $x_0 = -1$. Do not use any library methods apart from those in `np` - the idea is to develop the algorithm using only basic Python language constructs."
   ]
  },
  {
   "cell_type": "code",
   "execution_count": 9,
   "metadata": {},
   "outputs": [],
   "source": [
    "f = lambda x: x**3 + 4*x**2 - 3\n",
    "f1 = lambda x: 3*x**2 + 8*x\n",
    "f2 = lambda x: 6*x + 8"
   ]
  },
  {
   "cell_type": "code",
   "execution_count": 10,
   "metadata": {},
   "outputs": [],
   "source": [
    "def newton(f, f1, f2, x0, tol=1e-6, max_iter=10):\n",
    "    \"\"\"Newton-Raphson minimization via root of function derivative.\"\"\"\n",
    "    \n",
    "    x = x0\n",
    "    for i in range(max_iter):\n",
    "        fold = f(x)\n",
    "        x = x - f1(x)/f2(x) \n",
    "        fnew = f(x)\n",
    "        if np.abs(fnew - fold) < tol:\n",
    "            return x\n",
    "    return x"
   ]
  },
  {
   "cell_type": "code",
   "execution_count": 12,
   "metadata": {},
   "outputs": [
    {
     "data": {
      "text/plain": [
       "1.6890743081746074e-14"
      ]
     },
     "execution_count": 12,
     "metadata": {},
     "output_type": "execute_result"
    }
   ],
   "source": [
    "x = newton(f, f1, f2, -1)\n",
    "x"
   ]
  },
  {
   "cell_type": "code",
   "execution_count": 9,
   "metadata": {},
   "outputs": [
    {
     "data": {
      "image/png": "[encoded data removed]",
      "text/plain": [
       "<Figure size 432x288 with 1 Axes>"
      ]
     },
     "metadata": {
      "needs_background": "light"
     },
     "output_type": "display_data"
    }
   ],
   "source": [
    "xp = np.linspace(-4, 1, 100)\n",
    "plt.plot(xp, f(xp))\n",
    "plt.plot(xp, f1(xp))\n",
    "plt.plot(xp, f2(xp))\n",
    "plt.axhline(0, c='gray')\n",
    "plt.scatter([x], [f(x)], c='red')\n",
    "pass"
   ]
  },
  {
   "cell_type": "markdown",
   "metadata": {},
   "source": [
    "**3**. \n",
    "\n",
    "We observe some data points $(x_i, y_i)$, and believe that an appropriate model for the data is that\n",
    "\n",
    "$$\n",
    "f(x) = ax^2 + bx^3 + c\\sin{x}\n",
    "$$\n",
    "\n",
    "with some added noise. Find optimal values of the parameters $\\beta = (a, b, c)$ that minimize $\\Vert y - f(x) \\Vert^2$ using gradient descent with RMSprop (no bias correction) and starting with an initial value of $\\beta = \\begin{bmatrix}1 & 1 & 1\\end{bmatrix}$. Use a learning rate of 0.01 and 10,000 iterations. This should take a few seconds to complete. (15 points)\n",
    "\n",
    "Plot the data and fitted curve using `matplotlib`. (5 points)\n",
    "\n",
    "Data\n",
    "```\n",
    "x = array([ 3.4027718 ,  4.29209002,  5.88176277,  6.3465969 ,  7.21397852,\n",
    "        8.26972154, 10.27244608, 10.44703778, 10.79203455, 14.71146298])\n",
    "y = array([ 25.54026428,  29.4558919 ,  58.50315846,  70.24957254,\n",
    "        90.55155435, 100.56372833,  91.83189927,  90.41536733,\n",
    "        90.43103028,  23.0719842 ])\n",
    "```"
   ]
  },
  {
   "cell_type": "code",
   "execution_count": 10,
   "metadata": {},
   "outputs": [],
   "source": [
    "x = np.array([ 3.4027718 ,  4.29209002,  5.88176277,  6.3465969 ,  7.21397852,\n",
    "        8.26972154, 10.27244608, 10.44703778, 10.79203455, 14.71146298])\n",
    "y = np.array([ 25.54026428,  29.4558919 ,  58.50315846,  70.24957254,\n",
    "        90.55155435, 100.56372833,  91.83189927,  90.41536733,\n",
    "        90.43103028,  23.0719842 ])"
   ]
  },
  {
   "cell_type": "code",
   "execution_count": 11,
   "metadata": {},
   "outputs": [],
   "source": [
    "def f(beta, x):\n",
    "    \"\"\"Model function.\"\"\"\n",
    "    \n",
    "    return beta[0]*x**2 + beta[1]*x**3 + beta[2]*np.sin(x)"
   ]
  },
  {
   "cell_type": "code",
   "execution_count": 12,
   "metadata": {},
   "outputs": [],
   "source": [
    "def res(beta, x, y):\n",
    "    \"\"\"Resdiual funciton.\"\"\"\n",
    "    return f(beta, x) - y"
   ]
  },
  {
   "cell_type": "code",
   "execution_count": 13,
   "metadata": {},
   "outputs": [],
   "source": [
    "def gd(beta, x, y, f, grad, alpha=0.01):\n",
    "    \"\"\"Gradient descent.\"\"\"\n",
    "    \n",
    "    v = 0\n",
    "    for i in range(10000):\n",
    "        v = 0.9 * v + 0.1 * grad(beta, x, y)**2 \n",
    "        beta = beta - (alpha * grad(beta, x, y))/(np.sqrt(v) + 1e-8)\n",
    "    return beta"
   ]
  },
  {
   "cell_type": "code",
   "execution_count": 14,
   "metadata": {},
   "outputs": [],
   "source": [
    "def grad1(beta, x, y):\n",
    "    \"\"\"Gradient of function.\"\"\"\n",
    "    \n",
    "    return np.array([\n",
    "        np.sum(x**2 * res(beta, x, y)),\n",
    "        np.sum(x**3 * res(beta, x, y)),\n",
    "        np.sum(np.sin(x) * res(beta, x, y))\n",
    "    ])"
   ]
  },
  {
   "cell_type": "code",
   "execution_count": 15,
   "metadata": {},
   "outputs": [
    {
     "data": {
      "text/plain": [
       "array([ 2.98759014, -0.20383227, 10.19524689])"
      ]
     },
     "execution_count": 15,
     "metadata": {},
     "output_type": "execute_result"
    }
   ],
   "source": [
    "beta = gd(np.array([1,1,1]), x, y, f, grad1)\n",
    "beta"
   ]
  },
  {
   "cell_type": "code",
   "execution_count": 16,
   "metadata": {},
   "outputs": [
    {
     "data": {
      "image/png": "[encoded data removed]",
      "text/plain": [
       "<Figure size 432x288 with 1 Axes>"
      ]
     },
     "metadata": {
      "needs_background": "light"
     },
     "output_type": "display_data"
    }
   ],
   "source": [
    "plt.plot(x, y, 'o')\n",
    "xp = np.linspace(0, 15, 100)\n",
    "plt.plot(xp, f(beta, xp))\n",
    "pass"
   ]
  },
  {
   "cell_type": "markdown",
   "metadata": {},
   "source": [
    "**Alternative gradient function**"
   ]
  },
  {
   "cell_type": "code",
   "execution_count": 17,
   "metadata": {},
   "outputs": [],
   "source": [
    "def grad2(beta, X, y):\n",
    "    \"\"\"Gradient of function.\"\"\"\n",
    "    \n",
    "    return X.T @ X @ beta - X.T @ y"
   ]
  },
  {
   "cell_type": "code",
   "execution_count": 18,
   "metadata": {},
   "outputs": [
    {
     "data": {
      "text/plain": [
       "array([ 2.99759014, -0.19383227, 10.20524689])"
      ]
     },
     "execution_count": 18,
     "metadata": {},
     "output_type": "execute_result"
    }
   ],
   "source": [
    "X = np.c_[x**2, x**3, np.sin(x)]\n",
    "\n",
    "beta = gd(np.array([1,1,1]), X, y, f, grad2)\n",
    "beta"
   ]
  },
  {
   "cell_type": "code",
   "execution_count": 19,
   "metadata": {},
   "outputs": [
    {
     "data": {
      "image/png": "[encoded data removed]",
      "text/plain": [
       "<Figure size 432x288 with 1 Axes>"
      ]
     },
     "metadata": {
      "needs_background": "light"
     },
     "output_type": "display_data"
    }
   ],
   "source": [
    "plt.plot(x, y, 'o')\n",
    "xp = np.linspace(0, 15, 100)\n",
    "plt.plot(xp, f(beta, xp))\n",
    "pass"
   ]
  },
  {
   "cell_type": "markdown",
   "metadata": {},
   "source": [
    "**4**. \n",
    "\n",
    "Given the set of vectors\n",
    "\n",
    "```\n",
    "v1 = np.array([1,2,3])\n",
    "v2 = np.array([2,4,7])\n",
    "v3 = np.array([1,0,1])\n",
    "```\n",
    "\n",
    "1. Calculate the pairwise Euclidean distance matrix  (5 points)\n",
    "2. Find an orthogonal basis for the space spanned by the vectors $v_1, v_2, v_3$ without using any functions from `numpy.linag` or `scipy.linalg` (5 points)\n",
    "3. Use Gram-Schmidt decomposition to  find an orthogonal basis for the space spanned by the vectors $v_1, v_2, v_3$ where one of the basis vectors must be in the direction of $v_3$. (10 points)"
   ]
  },
  {
   "cell_type": "code",
   "execution_count": 20,
   "metadata": {},
   "outputs": [
    {
     "data": {
      "text/plain": [
       "array([[0.        , 4.58257569, 2.82842712],\n",
       "       [4.58257569, 0.        , 7.28010989],\n",
       "       [2.82842712, 7.28010989, 0.        ]])"
      ]
     },
     "execution_count": 20,
     "metadata": {},
     "output_type": "execute_result"
    }
   ],
   "source": [
    "v1 = np.array([1,2,3])\n",
    "v2 = np.array([2,4,7])\n",
    "v3 = np.array([1,0,1])\n",
    "\n",
    "def dist(u, v):\n",
    "    w = u - v\n",
    "    return np.sqrt(np.sum(w**2))\n",
    "\n",
    "D = np.array([[dist(u1, u2) for u1 in [v1, v2, v3]] for u2 in [v1, v2, v3]])\n",
    "D"
   ]
  },
  {
   "cell_type": "markdown",
   "metadata": {},
   "source": [
    "Check rank then use standard basis"
   ]
  },
  {
   "cell_type": "code",
   "execution_count": 21,
   "metadata": {},
   "outputs": [
    {
     "data": {
      "text/plain": [
       "3"
      ]
     },
     "execution_count": 21,
     "metadata": {},
     "output_type": "execute_result"
    }
   ],
   "source": [
    "np.linalg.matrix_rank(D)"
   ]
  },
  {
   "cell_type": "code",
   "execution_count": 22,
   "metadata": {},
   "outputs": [
    {
     "data": {
      "text/plain": [
       "array([[1., 0., 0.],\n",
       "       [0., 1., 0.],\n",
       "       [0., 0., 1.]])"
      ]
     },
     "execution_count": 22,
     "metadata": {},
     "output_type": "execute_result"
    }
   ],
   "source": [
    "np.eye(3)"
   ]
  },
  {
   "cell_type": "code",
   "execution_count": 23,
   "metadata": {},
   "outputs": [],
   "source": [
    "def proj(u, v):\n",
    "    \"\"\"Find projection of u on v.\"\"\"\n",
    "    \n",
    "    return (u.T @ v)/(v.T @ v) * v"
   ]
  },
  {
   "cell_type": "code",
   "execution_count": 24,
   "metadata": {},
   "outputs": [],
   "source": [
    "u1 = v3\n",
    "u2 = v1 - proj(v1, u1)\n",
    "u3 = v2 - proj(v2, u1) - proj(v2, u2)"
   ]
  },
  {
   "cell_type": "code",
   "execution_count": 25,
   "metadata": {},
   "outputs": [],
   "source": [
    "B = np.c_[\n",
    "    u1 / np.linalg.norm(u1),\n",
    "    u2 / np.linalg.norm(u2), \n",
    "    u3 / np.linalg.norm(u3)\n",
    "]"
   ]
  },
  {
   "cell_type": "code",
   "execution_count": 26,
   "metadata": {},
   "outputs": [
    {
     "data": {
      "text/plain": [
       "array([[ 1.00000000e+00, -3.33066907e-16, -3.88578059e-16],\n",
       "       [-3.33066907e-16,  1.00000000e+00,  3.33066907e-16],\n",
       "       [-3.88578059e-16,  3.33066907e-16,  1.00000000e+00]])"
      ]
     },
     "execution_count": 26,
     "metadata": {},
     "output_type": "execute_result"
    }
   ],
   "source": [
    "B @ B.T"
   ]
  },
  {
   "cell_type": "markdown",
   "metadata": {},
   "source": [
    "**5**.\n",
    "\n",
    "A milkmaid is at point A and needs to get to point B. However, she also needs to fill a pail of water from the river en route from A to B. The equation of the river's path is shown in the figure below. What is the minimum distance she has to travel to do this?\n",
    "\n",
    "1. Solve using `scipy.optimize` and constrained minimization (15 points)\n",
    "2. Plot the solution (5 point)\n",
    "\n",
    "![Milkmaid problem](../data/milkmaid.png)\n",
    "\n",
    "Hint: There is a local and a global optimum for this problem, so try different initial conditions."
   ]
  },
  {
   "cell_type": "code",
   "execution_count": 27,
   "metadata": {},
   "outputs": [],
   "source": [
    "import scipy.optimize as opt\n",
    "import scipy.linalg as la"
   ]
  },
  {
   "cell_type": "code",
   "execution_count": 28,
   "metadata": {},
   "outputs": [
    {
     "name": "stdout",
     "output_type": "stream",
     "text": [
      "Shortest distance 9.963398299572699\n"
     ]
    }
   ],
   "source": [
    "def f(x, A, B):\n",
    "    \"\"\"Distance between two points\"\"\"\n",
    "    \n",
    "    return la.norm(x-A) + la.norm(x-B)\n",
    "\n",
    "def g(x):\n",
    "    \"\"\"Equation of stream.\"\"\"\n",
    "\n",
    "    return 10/(1+x)\n",
    "\n",
    "A = np.array([2,8])\n",
    "B = np.array([8,4])\n",
    "cons = {'type': 'eq', 'fun': lambda x: x[1] - g(x[0])}\n",
    "\n",
    "ms = [opt.minimize(f, [x0, g(x0)], args=(A, B), constraints=cons) for x0 in range(0, 11)]\n",
    "m = min(ms, key=lambda res: res.fun)\n",
    "\n",
    "print(\"Shortest distance\", m.fun)"
   ]
  },
  {
   "cell_type": "code",
   "execution_count": 29,
   "metadata": {},
   "outputs": [],
   "source": [
    "%matplotlib inline\n",
    "\n",
    "import matplotlib.pyplot as plt"
   ]
  },
  {
   "cell_type": "code",
   "execution_count": 30,
   "metadata": {},
   "outputs": [
    {
     "data": {
      "image/png": "[encoded data removed]",
      "text/plain": [
       "<Figure size 432x288 with 1 Axes>"
      ]
     },
     "metadata": {
      "needs_background": "light"
     },
     "output_type": "display_data"
    }
   ],
   "source": [
    "xp = np.linspace(0, 10, 100)\n",
    "plt.plot(xp, g(xp))\n",
    "plt.plot([A[0], m.x[0], B[0]], [A[1], m.x[1], B[1]], '-o', c='red')\n",
    "pass"
   ]
  }
 ],
 "metadata": {
  "kernelspec": {
   "display_name": "Python 3",
   "language": "python",
   "name": "python3"
  },
  "language_info": {
   "codemirror_mode": {
    "name": "ipython",
    "version": 3
   },
   "file_extension": ".py",
   "mimetype": "text/x-python",
   "name": "python",
   "nbconvert_exporter": "python",
   "pygments_lexer": "ipython3",
   "version": "3.6.10"
  }
 },
 "nbformat": 4,
 "nbformat_minor": 2
}
