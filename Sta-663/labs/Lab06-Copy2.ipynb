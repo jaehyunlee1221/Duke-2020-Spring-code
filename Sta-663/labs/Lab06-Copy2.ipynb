{
 "cells": [
  {
   "cell_type": "markdown",
   "metadata": {},
   "source": [
    "### Lab 06\n",
    "\n",
    "Labs in general are for you to solve short programming challenges in class. In contrast, homework assignments will involve more challenging and lengthy problems.\n",
    "\n",
    "Feel free to ask the TAs for help if there is anything you do not understand. The TAs will go through suggested solutions in the last 15 minutes of the lab - typically by solving them in a live demo. **Your midterm exams will be like this, so it is highly beneficial for you to attend these labs**.\n",
    "\n",
    "The second lab is to gain basic familiarity with root finding and optimization. \n",
    "\n",
    "- You can import any Python library module you need\n",
    "- Do this lab without using the web to search for solutions"
   ]
  },
  {
   "cell_type": "code",
   "execution_count": 9,
   "metadata": {},
   "outputs": [],
   "source": [
    "import numpy as np\n",
    "import matplotlib.pyplot as plt\n",
    "from scipy import optimize as opt\n",
    "from scipy import linalg as la"
   ]
  },
  {
   "cell_type": "markdown",
   "metadata": {},
   "source": [
    "**1**. Use the secant method to find the solution to $x^2 + 4x - 5 = 0$ starting from the (2,3) and running 5 iterations."
   ]
  },
  {
   "cell_type": "code",
   "execution_count": 4,
   "metadata": {},
   "outputs": [
    {
     "data": {
      "text/plain": [
       "[2,\n",
       " 3,\n",
       " 1.2222222222222223,\n",
       " 1.0540540540540542,\n",
       " 1.001913875598086,\n",
       " 1.0000170827745842,\n",
       " 1.0000000054472977]"
      ]
     },
     "execution_count": 4,
     "metadata": {},
     "output_type": "execute_result"
    }
   ],
   "source": [
    "f = lambda x: x**2 + 4*x - 5\n",
    "x = [2,3]\n",
    "max_iter = 5\n",
    "for i in range(max_iter):\n",
    "    slope = (f(x[i+1])-f(x[i]))/(x[i+1]-x[i])\n",
    "    intercept = -slope*(x[i+1])+f(x[i+1])\n",
    "    newval = -intercept/slope\n",
    "    x.append(newval)\n",
    "x"
   ]
  },
  {
   "cell_type": "markdown",
   "metadata": {},
   "source": [
    "**2**. Construct the companion matrix to find all solutions to $x^3 + 4x + 5 = 0$. "
   ]
  },
  {
   "cell_type": "code",
   "execution_count": 7,
   "metadata": {},
   "outputs": [],
   "source": [
    "A = np.array([\n",
    "    [0,-4,-5],\n",
    "    [1,0,0],\n",
    "    [0,1,0]\n",
    "])"
   ]
  },
  {
   "cell_type": "code",
   "execution_count": 11,
   "metadata": {},
   "outputs": [
    {
     "data": {
      "text/plain": [
       "array([ 0.5+2.17944947j,  0.5-2.17944947j, -1. +0.j        ])"
      ]
     },
     "execution_count": 11,
     "metadata": {},
     "output_type": "execute_result"
    }
   ],
   "source": [
    "la.eig(A)[0]"
   ]
  },
  {
   "cell_type": "markdown",
   "metadata": {},
   "source": [
    "**3**. Use the Newton-Raphson method to find the real cube root of 10 starting with an initial guess of 2.."
   ]
  },
  {
   "cell_type": "code",
   "execution_count": 13,
   "metadata": {},
   "outputs": [
    {
     "data": {
      "text/plain": [
       "True"
      ]
     },
     "execution_count": 13,
     "metadata": {},
     "output_type": "execute_result"
    }
   ],
   "source": [
    "f = lambda x: x**3 - 10\n",
    "fp = lambda x: 3*x**2\n",
    "x = 2\n",
    "max_iter = 100\n",
    "for i in range(max_iter):\n",
    "    x = x - f(x)/fp(x)\n",
    "np.allclose(x**3,10)"
   ]
  },
  {
   "cell_type": "markdown",
   "metadata": {},
   "source": [
    "**4**. The Lagrange basis functions are given by \n",
    "\n",
    "$$\n",
    "l_j(x_j) = \\prod_{0 \\le m \\le k, m \\ne j} \\frac{x - x_m}{x_j - x_m}\n",
    "$$\n",
    "\n",
    "Here, $x$ represents the points at which you want to interpolate, $x_j$ and $x_m$ are indices of the given points.\n",
    "\n",
    "Use this to fit and plot a quadratic to the 3 points (1,1), (3,7) and (4,11)"
   ]
  },
  {
   "cell_type": "code",
   "execution_count": 16,
   "metadata": {},
   "outputs": [],
   "source": [
    "x = np.array([1,3,4])\n",
    "y = np.array([1,7,11])\n",
    "X = np.c_[np.ones(3), x, x**2]\n",
    "b = la.solve(X,y)"
   ]
  },
  {
   "cell_type": "code",
   "execution_count": 18,
   "metadata": {},
   "outputs": [
    {
     "data": {
      "text/plain": [
       "[<matplotlib.lines.Line2D at 0x7f9f58f431d0>]"
      ]
     },
     "execution_count": 18,
     "metadata": {},
     "output_type": "execute_result"
    },
    {
     "data": {
      "image/png": "[encoded data removed]",
      "text/plain": [
       "<Figure size 432x288 with 1 Axes>"
      ]
     },
     "metadata": {},
     "output_type": "display_data"
    }
   ],
   "source": [
    "xp = np.linspace(x.min(),x.max(),100)\n",
    "Xp = np.c_[np.ones(len(xp)),xp,xp**2]\n",
    "yp = Xp@b\n",
    "plt.scatter(x,y)\n",
    "plt.plot(xp,yp)"
   ]
  },
  {
   "cell_type": "code",
   "execution_count": 20,
   "metadata": {},
   "outputs": [
    {
     "data": {
      "text/plain": [
       "[<matplotlib.lines.Line2D at 0x7f9f58e81c88>]"
      ]
     },
     "execution_count": 20,
     "metadata": {},
     "output_type": "execute_result"
    },
    {
     "data": {
      "image/png": "[encoded data removed]",
      "text/plain": [
       "<Figure size 432x288 with 1 Axes>"
      ]
     },
     "metadata": {},
     "output_type": "display_data"
    }
   ],
   "source": [
    "l0 = ((xp-x[1])*(xp-x[2]))/((x[0]-x[1])*(x[0]-x[2]))\n",
    "l1 = ((xp-x[0])*(xp-x[2]))/((x[1]-x[0])*(x[1]-x[2]))\n",
    "l2 = ((xp-x[0])*(xp-x[1]))/((x[2]-x[1])*(x[2]-x[0]))\n",
    "plt.scatter(x,y)\n",
    "plt.plot(xp, l0*y[0]+l1*y[1]+l2*y[2])"
   ]
  }
 ],
 "metadata": {
  "kernelspec": {
   "display_name": "Python 3",
   "language": "python",
   "name": "python3"
  },
  "language_info": {
   "codemirror_mode": {
    "name": "ipython",
    "version": 3
   },
   "file_extension": ".py",
   "mimetype": "text/x-python",
   "name": "python",
   "nbconvert_exporter": "python",
   "pygments_lexer": "ipython3",
   "version": "3.6.10"
  }
 },
 "nbformat": 4,
 "nbformat_minor": 2
}
