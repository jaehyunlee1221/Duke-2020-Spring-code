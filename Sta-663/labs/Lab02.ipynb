{
 "cells": [
  {
   "cell_type": "markdown",
   "metadata": {},
   "source": [
    "**Lab 02**\n",
    "\n",
    "Labs in general are for you to solve short programming challenges in class. In contrast, homework assignments will involve more challenging and lengthy problems.\n",
    "\n",
    "Feel free to ask the TAs for help if there is anything you do not understand. The TAs will go through suggested solutions in the last 15 minutes of the lab - typically by solving them in a live demo. **Your midterm exams will be like this, so it is highly beneficial for you to attend these labs**.\n",
    "\n",
    "The second lab is to gain basic familiarity with handling strings and text. \n",
    "\n",
    "- You can import any Python standard library module you need\n",
    "- Do this lab without using the web to search for solutions"
   ]
  },
  {
   "cell_type": "markdown",
   "metadata": {},
   "source": [
    "**1**. Basic text file handling\n",
    "\n",
    "- Write the following into a text file called `snark.txt` using Python code and a context manager\n",
    "\n",
    "```text\n",
    "Just the place for a Snark! I have said it twice:\n",
    "   That alone should encourage the crew.\n",
    "Just the place for a Snark! I have said it thrice:\n",
    "   What I tell you three times is true.\n",
    "```\n",
    "\n",
    "- Now read in the file and change all occurrences of `Snark` to `Snack` and save to a new file call `snack.txt`\n",
    "- Read and print the contents of `snack.txt`\n",
    "- Using Python, write code to delete both these files\n",
    "\n",
    "Hint: See what the `os` module provides using TAB completion to delete a file."
   ]
  },
  {
   "cell_type": "code",
   "execution_count": 1,
   "metadata": {},
   "outputs": [],
   "source": [
    "txt = \"\"\"Just the place for a Snark! I have said it twice:\n",
    "   That alone should encourage the crew.\n",
    "Just the place for a Snark! I have said it thrice:\n",
    "   What I tell you three times is true.\"\"\"\n",
    "with open(\"snark.txt\",\"w\") as f:\n",
    "    f.write(txt)"
   ]
  },
  {
   "cell_type": "code",
   "execution_count": 3,
   "metadata": {},
   "outputs": [],
   "source": [
    "import re\n",
    "with open(\"snark.txt\") as intxt:\n",
    "    with open(\"snack.txt\",\"w\") as outtxt:\n",
    "        outtxt.write(re.sub(\"Snark\",\"Snack\",intxt.read()))"
   ]
  },
  {
   "cell_type": "code",
   "execution_count": 5,
   "metadata": {},
   "outputs": [
    {
     "name": "stdout",
     "output_type": "stream",
     "text": [
      "Just the place for a Snack! I have said it twice:\n",
      "   That alone should encourage the crew.\n",
      "Just the place for a Snack! I have said it thrice:\n",
      "   What I tell you three times is true.\n"
     ]
    }
   ],
   "source": [
    "with open(\"snack.txt\") as f:\n",
    "    print(f.read())"
   ]
  },
  {
   "cell_type": "code",
   "execution_count": 6,
   "metadata": {},
   "outputs": [],
   "source": [
    "import os\n",
    "os.remove(\"snark.txt\")\n",
    "os.remove(\"snack.txt\")"
   ]
  },
  {
   "cell_type": "markdown",
   "metadata": {},
   "source": [
    "**2**. Download the following file `https://molb7621.github.io/workshop/_downloads/sample.fa` using the `get` mthod of the `requests` module, and save the `text` attribute of the resulting object as a string. \n",
    "\n",
    "- Convert to a list of strings by splitting on line breaks\n",
    "- Delete all comment lines that start with `>`\n",
    "- Combine the remaining 4 DNA sequences into a single sequence\n",
    "- Perform reverse complementation by\n",
    "    - replacing A with T, C with G, G with C and T with A\n",
    "    - reversing the order of the sequence\n",
    "- Print the reverse complement sequence"
   ]
  },
  {
   "cell_type": "code",
   "execution_count": 8,
   "metadata": {},
   "outputs": [
    {
     "data": {
      "text/plain": [
       "'>derice\\r\\nACTGACTAGCTAGCTAACTG\\r\\n>sanka\\r\\nGCATCGTAGCTAGCTACGAT\\r\\n>junior\\r\\nCATCGATCGTACGTACGTAG\\r\\n>yul\\r\\nATCGATCGATCGTACGATCG'"
      ]
     },
     "execution_count": 8,
     "metadata": {},
     "output_type": "execute_result"
    }
   ],
   "source": [
    "import requests\n",
    "url = \"https://molb7621.github.io/workshop/_downloads/sample.fa\"\n",
    "txt = requests.get(url).text\n",
    "txt"
   ]
  },
  {
   "cell_type": "code",
   "execution_count": 11,
   "metadata": {},
   "outputs": [
    {
     "data": {
      "text/plain": [
       "'CGATCGTACGATCGATCGATCTACGTACGTACGATCGATGATCGTAGCTAGCTACGATGCCAGTTAGCTAGCTAGTCAGT'"
      ]
     },
     "execution_count": 11,
     "metadata": {},
     "output_type": "execute_result"
    }
   ],
   "source": [
    "\"\".join([i for i in txt.split() if not i.startswith(\">\")]).translate(str.maketrans(\"ACGT\",\"TGCA\"))[::-1]"
   ]
  },
  {
   "cell_type": "markdown",
   "metadata": {},
   "source": [
    "**3**. Starting with the sequence `CGATCGTACGATCGATCGATCTACGTACGTACGATCGATGATCGTAGCTAGCTACGATGCCAGTTAGCTAGCTAGTCAGT`, find the top 3 most common subsequences of length 3. We want to consider all possible subsequences that are generated by a shifting window of size 3.\n",
    "\n",
    "Hint: \n",
    "\n",
    "- Consider using `zip` to generate shifting windows\n",
    "- Use `collections.Counter` or a dictionary to count"
   ]
  },
  {
   "cell_type": "code",
   "execution_count": 61,
   "metadata": {},
   "outputs": [],
   "source": [
    "import collections\n",
    "import pandas as pd\n",
    "seq = \"CGATCGTACGATCGATCGATCTACGTACGTACGATCGATGATCGTAGCTAGCTACGATGCCAGTTAGCTAGCTAGTCAGT\"\n",
    "seq3 = [\"\".join((i,j,k)) for i,j,k in zip(seq[:-2], seq[1:-1], seq[2:])]\n",
    "unqseq = set(seq3)\n",
    "count = [(i,seq3.count(i)) for i in unqseq]"
   ]
  },
  {
   "cell_type": "code",
   "execution_count": 62,
   "metadata": {},
   "outputs": [],
   "source": [
    "count = pd.DataFrame(count, columns= [\"seq\",\"num\"])"
   ]
  },
  {
   "cell_type": "code",
   "execution_count": 66,
   "metadata": {},
   "outputs": [
    {
     "data": {
      "text/html": [
       "<div>\n",
       "<style scoped>\n",
       "    .dataframe tbody tr th:only-of-type {\n",
       "        vertical-align: middle;\n",
       "    }\n",
       "\n",
       "    .dataframe tbody tr th {\n",
       "        vertical-align: top;\n",
       "    }\n",
       "\n",
       "    .dataframe thead th {\n",
       "        text-align: right;\n",
       "    }\n",
       "</style>\n",
       "<table border=\"1\" class=\"dataframe\">\n",
       "  <thead>\n",
       "    <tr style=\"text-align: right;\">\n",
       "      <th></th>\n",
       "      <th>seq</th>\n",
       "      <th>num</th>\n",
       "    </tr>\n",
       "  </thead>\n",
       "  <tbody>\n",
       "    <tr>\n",
       "      <th>3</th>\n",
       "      <td>GAT</td>\n",
       "      <td>8</td>\n",
       "    </tr>\n",
       "    <tr>\n",
       "      <th>8</th>\n",
       "      <td>CGA</td>\n",
       "      <td>7</td>\n",
       "    </tr>\n",
       "    <tr>\n",
       "      <th>2</th>\n",
       "      <td>ATC</td>\n",
       "      <td>6</td>\n",
       "    </tr>\n",
       "  </tbody>\n",
       "</table>\n",
       "</div>"
      ],
      "text/plain": [
       "   seq  num\n",
       "3  GAT    8\n",
       "8  CGA    7\n",
       "2  ATC    6"
      ]
     },
     "execution_count": 66,
     "metadata": {},
     "output_type": "execute_result"
    }
   ],
   "source": [
    "count.sort_values(\"num\",ascending=False).head(3)"
   ]
  },
  {
   "cell_type": "markdown",
   "metadata": {},
   "source": [
    "**4**. Use Python regular expressions to find the longest contiguous purine (the letters A and G) subsequences in \n",
    "\n",
    "`CGATCGTACGATCGATCGATCTACGTACAAGGAGGAGAGGTACGATCGATGATCGTAGCTAGCTACGATGCCAGTTAGCTAGCTAGTCAGT`"
   ]
  },
  {
   "cell_type": "code",
   "execution_count": 73,
   "metadata": {},
   "outputs": [
    {
     "data": {
      "text/plain": [
       "['GA',\n",
       " 'G',\n",
       " 'A',\n",
       " 'GA',\n",
       " 'GA',\n",
       " 'GA',\n",
       " 'A',\n",
       " 'G',\n",
       " 'A',\n",
       " 'AAGGAGGAGAGG',\n",
       " 'A',\n",
       " 'GA',\n",
       " 'GA',\n",
       " 'GA',\n",
       " 'G',\n",
       " 'AG',\n",
       " 'AG',\n",
       " 'A',\n",
       " 'GA',\n",
       " 'G',\n",
       " 'AG',\n",
       " 'AG',\n",
       " 'AG',\n",
       " 'AG',\n",
       " 'AG']"
      ]
     },
     "execution_count": 73,
     "metadata": {},
     "output_type": "execute_result"
    }
   ],
   "source": [
    "import re\n",
    "seq = \"CGATCGTACGATCGATCGATCTACGTACAAGGAGGAGAGGTACGATCGATGATCGTAGCTAGCTACGATGCCAGTTAGCTAGCTAGTCAGT\"\n",
    "re.findall(r'[A|G]+',seq)"
   ]
  }
 ],
 "metadata": {
  "kernelspec": {
   "display_name": "Python 3",
   "language": "python",
   "name": "python3"
  },
  "language_info": {
   "codemirror_mode": {
    "name": "ipython",
    "version": 3
   },
   "file_extension": ".py",
   "mimetype": "text/x-python",
   "name": "python",
   "nbconvert_exporter": "python",
   "pygments_lexer": "ipython3",
   "version": "3.6.10"
  }
 },
 "nbformat": 4,
 "nbformat_minor": 2
}
