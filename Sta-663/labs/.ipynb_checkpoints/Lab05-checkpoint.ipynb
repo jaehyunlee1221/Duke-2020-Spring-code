{
 "cells": [
  {
   "cell_type": "markdown",
   "metadata": {},
   "source": [
    "### Lab 05\n",
    "\n",
    "Labs in general are for you to solve short programming challenges in class. In contrast, homework assignments will involve more challenging and lengthy problems.\n",
    "\n",
    "Feel free to ask the TAs for help if there is anything you do not understand. The TAs will go through suggested solutions in the last 15 minutes of the lab - typically by solving them in a live demo. **Your midterm exams will be like this, so it is highly beneficial for you to attend these labs**.\n",
    "\n",
    "The second lab is to gain basic familiarity with using linear algebra to solve problems. \n",
    "\n",
    "- You can import any Python library module you need\n",
    "- Do this lab without using the web to search for solutions"
   ]
  },
  {
   "cell_type": "code",
   "execution_count": null,
   "metadata": {},
   "outputs": [],
   "source": [
    "%matplotlib inline\n",
    "\n",
    "import os\n",
    "import glob\n",
    "from pathlib import Path\n",
    "import numpy as np\n",
    "import pandas as pd\n",
    "import matplotlib as mpl\n",
    "import matplotlib.pyplot as plt\n",
    "import seaborn as sns\n",
    "from scipy import linalg as la\n",
    "\n",
    "sns.set_context('notebook', font_scale=1.5)"
   ]
  },
  {
   "cell_type": "markdown",
   "metadata": {},
   "source": [
    "**1**.\n",
    "\n",
    "- Check that the 3 points (1,1,0), (2,0,-1), (2,9,2) are not collinear\n",
    "- Find the equation of the plane that passes through these 3 points"
   ]
  },
  {
   "cell_type": "code",
   "execution_count": null,
   "metadata": {},
   "outputs": [],
   "source": []
  },
  {
   "cell_type": "markdown",
   "metadata": {},
   "source": [
    "**2**.\n",
    "\n",
    "Find the center of the sphere that passes through the points (0,3,2), (1,-1,1), (2,1,0), (5,1,3)."
   ]
  },
  {
   "cell_type": "code",
   "execution_count": null,
   "metadata": {},
   "outputs": [],
   "source": []
  },
  {
   "cell_type": "markdown",
   "metadata": {},
   "source": [
    "**3**. \n",
    "\n",
    "We are given (x, y) observations and believe that an appropriate model is $y = b_0 + b_1 x + b_2 x^2 + b_3 \\sin(x)$ with some measurement noise. Find the coefficients $b_0, b_1, b_2, b_3$. Plot the data and fitted curve,"
   ]
  },
  {
   "cell_type": "code",
   "execution_count": null,
   "metadata": {},
   "outputs": [],
   "source": [
    "x = np.array([0, 1, 2, 3, 4, 5, 6, 7, 8, 9])\n",
    "y = np.array([ 2.80472383, 10.96184197, 11.79499471,  7.72517373,  2.2119748 ,\n",
    "       -2.74622086, -0.10312465,  2.78538419,  0.70236037, -8.85784432])"
   ]
  },
  {
   "cell_type": "code",
   "execution_count": null,
   "metadata": {},
   "outputs": [],
   "source": []
  },
  {
   "cell_type": "markdown",
   "metadata": {},
   "source": [
    "**4**. \n",
    "\n",
    "Find the steady state probability vector for the Markov chain shown\n",
    "\n",
    "- By solving a linear equation\n",
    "- By Jacobi iteration starting from a random probability vector\n",
    "- By eigen-decomposition\n",
    "\n",
    "![img](../data/q4.png)"
   ]
  },
  {
   "cell_type": "code",
   "execution_count": null,
   "metadata": {},
   "outputs": [],
   "source": []
  },
  {
   "cell_type": "markdown",
   "metadata": {},
   "source": [
    "**5**. \n",
    "\n",
    "- Find the nodes that belong to a clique in this graph.\n",
    "- Express the following graph as a sparse matrix in `coo` format\n",
    "\n",
    "![img](../data/q5.png)"
   ]
  },
  {
   "cell_type": "code",
   "execution_count": null,
   "metadata": {},
   "outputs": [],
   "source": []
  }
 ],
 "metadata": {
  "kernelspec": {
   "display_name": "Python 3",
   "language": "python",
   "name": "python3"
  },
  "language_info": {
   "codemirror_mode": {
    "name": "ipython",
    "version": 3
   },
   "file_extension": ".py",
   "mimetype": "text/x-python",
   "name": "python",
   "nbconvert_exporter": "python",
   "pygments_lexer": "ipython3",
   "version": "3.6.10"
  }
 },
 "nbformat": 4,
 "nbformat_minor": 2
}
