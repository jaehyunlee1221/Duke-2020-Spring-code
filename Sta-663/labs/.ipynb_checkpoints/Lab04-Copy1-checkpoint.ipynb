{
 "cells": [
  {
   "cell_type": "markdown",
   "metadata": {},
   "source": [
    "### Lab 04\n",
    "\n",
    "Labs in general are for you to solve short programming challenges in class. In contrast, homework assignments will involve more challenging and lengthy problems.\n",
    "\n",
    "Feel free to ask the TAs for help if there is anything you do not understand. The TAs will go through suggested solutions in the last 15 minutes of the lab - typically by solving them in a live demo. **Your midterm exams will be like this, so it is highly beneficial for you to attend these labs**.\n",
    "\n",
    "The second lab is to gain basic familiarity with handling vectors, matrices and basic linear algebra. \n",
    "\n",
    "- You can import any Python standard library module you need\n",
    "- Do this lab without using the web to search for solutions"
   ]
  },
  {
   "cell_type": "code",
   "execution_count": 30,
   "metadata": {},
   "outputs": [],
   "source": [
    "import numpy as np\n",
    "import scipy.linalg as la"
   ]
  },
  {
   "cell_type": "code",
   "execution_count": 31,
   "metadata": {},
   "outputs": [],
   "source": [
    "np.random.seed(123)\n",
    "m = 10\n",
    "n = 10\n",
    "A = np.random.normal(0, 1, (m, n))\n",
    "b = np.random.normal(0, 1,(n, 1))"
   ]
  },
  {
   "cell_type": "markdown",
   "metadata": {},
   "source": [
    "**1**.\n",
    "\n",
    "Perform an LU decomposition to solve $Ax = b$\n",
    "\n",
    "- Using `lu_factor` and `solve_triangular`\n",
    "- Using `lu` and `solve_triangular`\n",
    "- Check that your answer is correct using `np.allclose` in each case"
   ]
  },
  {
   "cell_type": "code",
   "execution_count": 53,
   "metadata": {},
   "outputs": [],
   "source": [
    "ans = la.solve(A,b)"
   ]
  },
  {
   "cell_type": "code",
   "execution_count": 54,
   "metadata": {},
   "outputs": [],
   "source": [
    "LU, piv = la.lu_factor(A)"
   ]
  },
  {
   "cell_type": "code",
   "execution_count": 56,
   "metadata": {},
   "outputs": [],
   "source": [
    "x = la.lu_solve((LU,piv),b)"
   ]
  },
  {
   "cell_type": "code",
   "execution_count": 50,
   "metadata": {},
   "outputs": [],
   "source": [
    "p, l, u = la.lu(A) #P.T @ A = L @ U"
   ]
  },
  {
   "cell_type": "code",
   "execution_count": 51,
   "metadata": {},
   "outputs": [],
   "source": [
    "y = la.solve_triangular(l, p.T@b, lower = True)\n",
    "x2 = la.solve_triangular(u, y)"
   ]
  },
  {
   "cell_type": "code",
   "execution_count": 59,
   "metadata": {},
   "outputs": [
    {
     "data": {
      "text/plain": [
       "(True, True)"
      ]
     },
     "execution_count": 59,
     "metadata": {},
     "output_type": "execute_result"
    }
   ],
   "source": [
    "np.allclose(ans,x), np.allclose(ans,x2)"
   ]
  },
  {
   "cell_type": "markdown",
   "metadata": {},
   "source": [
    "**2**.\n",
    "\n",
    "Calculate the Gram matrix $S = A^TA$. Use the same $A$ and $b$ from the previous question. \n",
    "\n",
    "- Solve $Sx = b$ using Cholesky decomposition\n",
    "- Check that your answer is correct using `np.allclose`"
   ]
  },
  {
   "cell_type": "code",
   "execution_count": 60,
   "metadata": {},
   "outputs": [],
   "source": [
    "S = A.T @ A"
   ]
  },
  {
   "cell_type": "code",
   "execution_count": 61,
   "metadata": {},
   "outputs": [],
   "source": [
    "C = la.cholesky(S)"
   ]
  },
  {
   "cell_type": "code",
   "execution_count": 81,
   "metadata": {},
   "outputs": [],
   "source": [
    "y = la.solve_triangular(C,b)\n",
    "x = la.solve_triangular(C.T,y,lower=True)"
   ]
  },
  {
   "cell_type": "code",
   "execution_count": 86,
   "metadata": {},
   "outputs": [],
   "source": [
    "C1 = la.cho_factor(S)\n",
    "x2 = la.cho_solve(C1,b)"
   ]
  },
  {
   "cell_type": "code",
   "execution_count": 87,
   "metadata": {},
   "outputs": [
    {
     "data": {
      "text/plain": [
       "(array([[  -4.01164915],\n",
       "        [  -0.69951551],\n",
       "        [   0.64650904],\n",
       "        [   7.05064696],\n",
       "        [  -2.31992148],\n",
       "        [  -1.22333313],\n",
       "        [ -10.08021658],\n",
       "        [  -8.2601869 ],\n",
       "        [ -45.04391168],\n",
       "        [-153.30829081]]), array([[-136.71894832],\n",
       "        [ -33.85176812],\n",
       "        [  41.84149034],\n",
       "        [  73.42723076],\n",
       "        [  12.50311233],\n",
       "        [ -41.91028953],\n",
       "        [  -6.01395804],\n",
       "        [ -30.7294723 ],\n",
       "        [ -24.21718752],\n",
       "        [ -68.80957079]]))"
      ]
     },
     "execution_count": 87,
     "metadata": {},
     "output_type": "execute_result"
    }
   ],
   "source": [
    "x,x2"
   ]
  },
  {
   "cell_type": "markdown",
   "metadata": {},
   "source": [
    "**3**. \n",
    "\n",
    "- Diagonalize the matrix $S$ by finding its eigenvalues and eigenvectors\n",
    "- Check that your answer is correct using `np.allclose`"
   ]
  },
  {
   "cell_type": "code",
   "execution_count": 89,
   "metadata": {},
   "outputs": [],
   "source": [
    "egval, egvec = la.eig(S)"
   ]
  },
  {
   "cell_type": "code",
   "execution_count": 92,
   "metadata": {},
   "outputs": [
    {
     "data": {
      "text/plain": [
       "True"
      ]
     },
     "execution_count": 92,
     "metadata": {},
     "output_type": "execute_result"
    }
   ],
   "source": [
    "np.allclose(egvec @ np.diag(egval) @ egvec.T, S)"
   ]
  },
  {
   "cell_type": "markdown",
   "metadata": {},
   "source": [
    "**4**. \n",
    "\n",
    "- Perform a singular value decomposition (SVD) of the matrix $A$.\n",
    "- Use the singular values to calculate the $L_\\text{Frobenius}$ and $L_2$ norms of $A$\n",
    "- Check your answers using `la.norm` and `np.allclose`\n",
    "- Express the eigenvalues of $S$ in terms of the singular values $\\sigma$\n",
    "- Check your answers using `np.allclose`\n",
    "\n"
   ]
  },
  {
   "cell_type": "code",
   "execution_count": 95,
   "metadata": {},
   "outputs": [],
   "source": [
    "u,d,v = la.svd(A)"
   ]
  },
  {
   "cell_type": "code",
   "execution_count": 105,
   "metadata": {},
   "outputs": [
    {
     "data": {
      "text/plain": [
       "True"
      ]
     },
     "execution_count": 105,
     "metadata": {},
     "output_type": "execute_result"
    }
   ],
   "source": [
    "la.norm(A), np.sqrt(sum(d**2))\n",
    "np.allclose(la.norm(A), np.sqrt(sum(d**2)))"
   ]
  },
  {
   "cell_type": "code",
   "execution_count": 113,
   "metadata": {},
   "outputs": [
    {
     "data": {
      "text/plain": [
       "False"
      ]
     },
     "execution_count": 113,
     "metadata": {},
     "output_type": "execute_result"
    }
   ],
   "source": [
    "np.sqrt(egval), d\n",
    "np.allclose(abs(np.sqrt(egval)), d)"
   ]
  },
  {
   "cell_type": "code",
   "execution_count": 112,
   "metadata": {},
   "outputs": [
    {
     "data": {
      "text/plain": [
       "array([4.12870004e+01, 2.58229716e+01, 2.18217022e+01, 1.67873020e+01,\n",
       "       1.10927941e+01, 4.96165622e+00, 3.79464420e+00, 1.45612444e+00,\n",
       "       9.89968572e-03, 3.32051116e-01])"
      ]
     },
     "execution_count": 112,
     "metadata": {},
     "output_type": "execute_result"
    }
   ],
   "source": [
    "abs(egval)"
   ]
  },
  {
   "cell_type": "code",
   "execution_count": 114,
   "metadata": {},
   "outputs": [
    {
     "data": {
      "text/plain": [
       "(array([6.42549612, 5.0816308 , 4.67137049, 4.09723102, 3.33058465,\n",
       "        2.22747755, 1.94798465, 1.20669981, 0.09949716, 0.57623877]),\n",
       " array([6.42549612, 5.0816308 , 4.67137049, 4.09723102, 3.33058465,\n",
       "        2.22747755, 1.94798465, 1.20669981, 0.57623877, 0.09949716]))"
      ]
     },
     "execution_count": 114,
     "metadata": {},
     "output_type": "execute_result"
    }
   ],
   "source": [
    "abs(np.sqrt(egval)), d"
   ]
  },
  {
   "cell_type": "markdown",
   "metadata": {},
   "source": [
    "**5**.\n",
    "\n",
    "Suppose a vector $v$ has coordinates $b$ when expressed as a linear combination of the columns of $A$. What are the new coordinates of $v$ when expressed as a linear combination of the (normalized) eigenvectors of $A$?"
   ]
  },
  {
   "cell_type": "code",
   "execution_count": null,
   "metadata": {},
   "outputs": [],
   "source": []
  }
 ],
 "metadata": {
  "kernelspec": {
   "display_name": "Python 3",
   "language": "python",
   "name": "python3"
  },
  "language_info": {
   "codemirror_mode": {
    "name": "ipython",
    "version": 3
   },
   "file_extension": ".py",
   "mimetype": "text/x-python",
   "name": "python",
   "nbconvert_exporter": "python",
   "pygments_lexer": "ipython3",
   "version": "3.6.10"
  }
 },
 "nbformat": 4,
 "nbformat_minor": 2
}
