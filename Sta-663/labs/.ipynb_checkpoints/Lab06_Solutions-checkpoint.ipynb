{
 "cells": [
  {
   "cell_type": "markdown",
   "metadata": {},
   "source": [
    "### Lab 06\n",
    "\n",
    "Labs in general are for you to solve short programming challenges in class. In contrast, homework assignments will involve more challenging and lengthy problems.\n",
    "\n",
    "Feel free to ask the TAs for help if there is anything you do not understand. The TAs will go through suggested solutions in the last 15 minutes of the lab - typically by solving them in a live demo. **Your midterm exams will be like this, so it is highly beneficial for you to attend these labs**.\n",
    "\n",
    "The second lab is to gain basic familiarity with root finding and optimization. \n",
    "\n",
    "- You can import any Python library module you need\n",
    "- Do this lab without using the web to search for solutions"
   ]
  },
  {
   "cell_type": "markdown",
   "metadata": {},
   "source": [
    "**1**. Use the secant method to find the solution to $x^2 + 4x - 5 = 0$ starting from the (2,3) and running 5 iterations."
   ]
  },
  {
   "cell_type": "code",
   "execution_count": 1,
   "metadata": {},
   "outputs": [],
   "source": [
    "%matplotlib inline\n",
    "\n",
    "import numpy as np\n",
    "import matplotlib.pyplot as plt"
   ]
  },
  {
   "cell_type": "code",
   "execution_count": 2,
   "metadata": {},
   "outputs": [
    {
     "name": "stdout",
     "output_type": "stream",
     "text": [
      "1.0000000054472977\n"
     ]
    },
    {
     "data": {
      "image/png": "[encoded data removed]",
      "text/plain": [
       "<Figure size 432x288 with 1 Axes>"
      ]
     },
     "metadata": {
      "needs_background": "light"
     },
     "output_type": "display_data"
    }
   ],
   "source": [
    "f = lambda x: x**2 + 4*x - 5\n",
    "\n",
    "def secant(x0, x1, f):\n",
    "    \"\"\"Secant update.\"\"\"\n",
    "    \n",
    "    y0 = f(x0)\n",
    "    y1 = f(x1)\n",
    "    m = (y1 - y0)/(x1 - x0)\n",
    "    b = y1 - m*x1\n",
    "    return -b/m\n",
    "\n",
    "x0 = 2\n",
    "x1 = 3\n",
    "\n",
    "x = [x0, x1]\n",
    "for i in range(5):\n",
    "    x0, x1 = x1, secant(x0, x1, f)\n",
    "    x.append(x1)\n",
    "    \n",
    "print(x[-1])\n",
    "    \n",
    "x = np.array(x)\n",
    "y = f(x)\n",
    "xp = np.linspace(-5, 5, 100)\n",
    "plt.plot(xp, f(xp))\n",
    "plt.scatter(x, y)\n",
    "plt.scatter(x, np.zeros_like(x))\n",
    "plt.axhline(0)\n",
    "pass"
   ]
  },
  {
   "cell_type": "markdown",
   "metadata": {},
   "source": [
    "**2**. Construct the companion matrix to find all solutions to $x^3 + 4x + 5 = 0$. "
   ]
  },
  {
   "cell_type": "code",
   "execution_count": 3,
   "metadata": {},
   "outputs": [],
   "source": [
    "A = np.array([\n",
    "    [0,-4,-5],\n",
    "    [1,0,0],\n",
    "    [0,1,0]\n",
    "])"
   ]
  },
  {
   "cell_type": "code",
   "execution_count": 4,
   "metadata": {},
   "outputs": [
    {
     "data": {
      "text/plain": [
       "array([ 0.5+2.17944947j,  0.5-2.17944947j, -1. +0.j        ])"
      ]
     },
     "execution_count": 4,
     "metadata": {},
     "output_type": "execute_result"
    }
   ],
   "source": [
    "x = np.linalg.eigvals(A)\n",
    "x"
   ]
  },
  {
   "cell_type": "code",
   "execution_count": 5,
   "metadata": {},
   "outputs": [
    {
     "data": {
      "text/plain": [
       "True"
      ]
     },
     "execution_count": 5,
     "metadata": {},
     "output_type": "execute_result"
    }
   ],
   "source": [
    "f = lambda x: x**3 + 4*x + 5\n",
    "\n",
    "np.allclose(f(x), np.zeros_like(x))"
   ]
  },
  {
   "cell_type": "markdown",
   "metadata": {},
   "source": [
    "**3**. Use the Newton-Raphson method to find the real cube root of 10 starting with an initial guess of 2.."
   ]
  },
  {
   "cell_type": "code",
   "execution_count": 6,
   "metadata": {},
   "outputs": [],
   "source": [
    "def newton(x, f, fp, max_iter=5):\n",
    "    \"Newton-Raphson method\"\n",
    "    for i in range(max_iter):\n",
    "        x = x - f(x)/fp(x)\n",
    "    return x"
   ]
  },
  {
   "cell_type": "code",
   "execution_count": 7,
   "metadata": {},
   "outputs": [
    {
     "data": {
      "text/plain": [
       "2.154434690031884"
      ]
     },
     "execution_count": 7,
     "metadata": {},
     "output_type": "execute_result"
    }
   ],
   "source": [
    "f = lambda x: x**3 - 10\n",
    "fp = lambda x: 3*x**2\n",
    "\n",
    "x0 = 2\n",
    "x = newton(x0, f, fp)\n",
    "x"
   ]
  },
  {
   "cell_type": "code",
   "execution_count": 8,
   "metadata": {},
   "outputs": [
    {
     "data": {
      "text/plain": [
       "10.000000000000002"
      ]
     },
     "execution_count": 8,
     "metadata": {},
     "output_type": "execute_result"
    }
   ],
   "source": [
    "x**3"
   ]
  },
  {
   "cell_type": "markdown",
   "metadata": {},
   "source": [
    "**4**. The Lagrange basis functions are given by \n",
    "\n",
    "$$\n",
    "l_j(x_j) = \\prod_{0 \\le m \\le k, m \\ne j} \\frac{x - x_m}{x_j - x_m}\n",
    "$$\n",
    "\n",
    "Here, $x$ represents the points at which you want to interpolate, $x_j$ and $x_m$ are indices of the given points.\n",
    "\n",
    "Use this to fit and plot a quadratic to the 3 points (1,1), (3,7) and (4,11)"
   ]
  },
  {
   "cell_type": "code",
   "execution_count": 9,
   "metadata": {},
   "outputs": [],
   "source": [
    "x = np.array([1,3,4])\n",
    "y = np.array([1,7,11])"
   ]
  },
  {
   "cell_type": "code",
   "execution_count": 10,
   "metadata": {},
   "outputs": [
    {
     "data": {
      "image/png": "[encoded data removed]",
      "text/plain": [
       "<Figure size 432x288 with 1 Axes>"
      ]
     },
     "metadata": {
      "needs_background": "light"
     },
     "output_type": "display_data"
    }
   ],
   "source": [
    "xp = np.linspace(0, 5, 50)\n",
    "L0 = ((xp-x[1])*(xp-x[2])) / ((x[0]-x[1])*(x[0]-x[2]))\n",
    "L1 = ((xp-x[0])*(xp-x[2])) / ((x[1]-x[0])*(x[1]-x[2]))\n",
    "L2 = ((xp-x[0])*(xp-x[1])) / ((x[2]-x[0])*(x[2]-x[1]))\n",
    "yp = y[0]*L0 + y[1]*L1 + y[2]*L2\n",
    "\n",
    "plt.scatter(x, y)\n",
    "plt.plot(xp, yp)\n",
    "pass"
   ]
  },
  {
   "cell_type": "code",
   "execution_count": null,
   "metadata": {},
   "outputs": [],
   "source": []
  }
 ],
 "metadata": {
  "kernelspec": {
   "display_name": "Python 3",
   "language": "python",
   "name": "python3"
  },
  "language_info": {
   "codemirror_mode": {
    "name": "ipython",
    "version": 3
   },
   "file_extension": ".py",
   "mimetype": "text/x-python",
   "name": "python",
   "nbconvert_exporter": "python",
   "pygments_lexer": "ipython3",
   "version": "3.6.10"
  }
 },
 "nbformat": 4,
 "nbformat_minor": 2
}
