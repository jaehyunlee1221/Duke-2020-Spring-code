{
 "cells": [
  {
   "cell_type": "markdown",
   "metadata": {},
   "source": [
    "### Lab 04\n",
    "\n",
    "Labs in general are for you to solve short programming challenges in class. In contrast, homework assignments will involve more challenging and lengthy problems.\n",
    "\n",
    "Feel free to ask the TAs for help if there is anything you do not understand. The TAs will go through suggested solutions in the last 15 minutes of the lab - typically by solving them in a live demo. **Your midterm exams will be like this, so it is highly beneficial for you to attend these labs**.\n",
    "\n",
    "The second lab is to gain basic familiarity with handling vectors, matrices and basic linear algebra. \n",
    "\n",
    "- You can import any Python standard library module you need\n",
    "- Do this lab without using the web to search for solutions"
   ]
  },
  {
   "cell_type": "code",
   "execution_count": 1,
   "metadata": {},
   "outputs": [],
   "source": [
    "import numpy as np\n",
    "import scipy.linalg as la"
   ]
  },
  {
   "cell_type": "code",
   "execution_count": 2,
   "metadata": {},
   "outputs": [],
   "source": [
    "np.random.seed(123)\n",
    "m = 10\n",
    "n = 10\n",
    "A = np.random.normal(0, 1, (m, n))\n",
    "b = np.random.normal(0, 1,(n, 1))"
   ]
  },
  {
   "cell_type": "markdown",
   "metadata": {},
   "source": [
    "**1**.\n",
    "\n",
    "Perform an LU decomposition to solve $Ax = b$\n",
    "\n",
    "- Using `lu_factor` and `solve_triangular`\n",
    "- Using `lu` and `solve_triangular`\n",
    "- Check that your answer is correct using `np.allclose` in each case"
   ]
  },
  {
   "cell_type": "code",
   "execution_count": 3,
   "metadata": {},
   "outputs": [
    {
     "data": {
      "text/plain": [
       "array([[-14.364331  ],\n",
       "       [ -3.61578614],\n",
       "       [  3.44012072],\n",
       "       [  6.61238896],\n",
       "       [  1.3593646 ],\n",
       "       [ -5.20062081],\n",
       "       [ -0.89588219],\n",
       "       [ -3.65151504],\n",
       "       [ -2.04870667],\n",
       "       [ -6.77130993]])"
      ]
     },
     "execution_count": 3,
     "metadata": {},
     "output_type": "execute_result"
    }
   ],
   "source": [
    "x1 = la.lu_solve(la.lu_factor(A),b)\n",
    "x1"
   ]
  },
  {
   "cell_type": "code",
   "execution_count": 4,
   "metadata": {},
   "outputs": [
    {
     "data": {
      "text/plain": [
       "array([[-14.364331  ],\n",
       "       [ -3.61578614],\n",
       "       [  3.44012072],\n",
       "       [  6.61238896],\n",
       "       [  1.3593646 ],\n",
       "       [ -5.20062081],\n",
       "       [ -0.89588219],\n",
       "       [ -3.65151504],\n",
       "       [ -2.04870667],\n",
       "       [ -6.77130993]])"
      ]
     },
     "execution_count": 4,
     "metadata": {},
     "output_type": "execute_result"
    }
   ],
   "source": [
    "P,L,U = la.lu(A)\n",
    "y = la.solve_triangular(L,P.T@b,lower = True)\n",
    "x2 = la.solve_triangular(U,y)\n",
    "x2"
   ]
  },
  {
   "cell_type": "code",
   "execution_count": 5,
   "metadata": {},
   "outputs": [
    {
     "data": {
      "text/plain": [
       "True"
      ]
     },
     "execution_count": 5,
     "metadata": {},
     "output_type": "execute_result"
    }
   ],
   "source": [
    "np.allclose(x1,x2)"
   ]
  },
  {
   "cell_type": "markdown",
   "metadata": {},
   "source": [
    "**2**.\n",
    "\n",
    "Calculate the Gram matrix $S = A^TA$. Use the same $A$ and $b$ from the previous question. \n",
    "\n",
    "- Solve $Sx = b$ using Cholesky decomposition\n",
    "- Check that your answer is correct using `np.allclose`"
   ]
  },
  {
   "cell_type": "code",
   "execution_count": 6,
   "metadata": {},
   "outputs": [
    {
     "data": {
      "text/plain": [
       "array([[-136.71894832],\n",
       "       [ -33.85176812],\n",
       "       [  41.84149034],\n",
       "       [  73.42723076],\n",
       "       [  12.50311233],\n",
       "       [ -41.91028953],\n",
       "       [  -6.01395804],\n",
       "       [ -30.7294723 ],\n",
       "       [ -24.21718752],\n",
       "       [ -68.80957079]])"
      ]
     },
     "execution_count": 6,
     "metadata": {},
     "output_type": "execute_result"
    }
   ],
   "source": [
    "S = A.T@A\n",
    "Q = la.cholesky(S)\n",
    "y = la.solve_triangular(Q.T,b,lower=True)\n",
    "x = la.solve(Q,y)\n",
    "x"
   ]
  },
  {
   "cell_type": "code",
   "execution_count": 7,
   "metadata": {},
   "outputs": [
    {
     "data": {
      "text/plain": [
       "True"
      ]
     },
     "execution_count": 7,
     "metadata": {},
     "output_type": "execute_result"
    }
   ],
   "source": [
    "np.allclose(Q.T@Q@x,b)"
   ]
  },
  {
   "cell_type": "markdown",
   "metadata": {},
   "source": [
    "**3**. \n",
    "\n",
    "- Diagonalize the matrix $S$ by finding its eigenvalues and eigenvectors\n",
    "- Check that your answer is correct using `np.allclose`"
   ]
  },
  {
   "cell_type": "code",
   "execution_count": 8,
   "metadata": {},
   "outputs": [
    {
     "data": {
      "text/plain": [
       "True"
      ]
     },
     "execution_count": 8,
     "metadata": {},
     "output_type": "execute_result"
    }
   ],
   "source": [
    "lam, vec = la.eig(S)\n",
    "np.allclose(vec@np.diag(lam)@vec.T,S)"
   ]
  },
  {
   "cell_type": "markdown",
   "metadata": {},
   "source": [
    "**4**. \n",
    "\n",
    "- Perform a singular value decomposition (SVD) of the matrix $A$.\n",
    "- Use the singular values to calculate the $L_\\text{Frobenius}$ and $L_2$ norms of $A$\n",
    "- Check your answers using `la.norm` and `np.allclose`\n",
    "- Express the eigenvalues of $S$ in terms of the singular values $\\sigma$\n",
    "- Check your answers using `np.allclose`\n",
    "\n"
   ]
  },
  {
   "cell_type": "code",
   "execution_count": 9,
   "metadata": {},
   "outputs": [],
   "source": [
    "U,s,V = la.svd(A)"
   ]
  },
  {
   "cell_type": "code",
   "execution_count": 11,
   "metadata": {},
   "outputs": [
    {
     "data": {
      "text/plain": [
       "True"
      ]
     },
     "execution_count": 11,
     "metadata": {},
     "output_type": "execute_result"
    }
   ],
   "source": [
    "np.allclose(la.norm(A,ord = \"fro\"),np.sqrt(np.sum(s**2)))"
   ]
  },
  {
   "cell_type": "code",
   "execution_count": 12,
   "metadata": {},
   "outputs": [
    {
     "data": {
      "text/plain": [
       "True"
      ]
     },
     "execution_count": 12,
     "metadata": {},
     "output_type": "execute_result"
    }
   ],
   "source": [
    "np.allclose(la.norm(A,ord = 2),s.max())"
   ]
  },
  {
   "cell_type": "code",
   "execution_count": 30,
   "metadata": {},
   "outputs": [
    {
     "data": {
      "text/plain": [
       "True"
      ]
     },
     "execution_count": 30,
     "metadata": {},
     "output_type": "execute_result"
    }
   ],
   "source": [
    "np.allclose(s**2,lam[::-1].real)"
   ]
  },
  {
   "cell_type": "markdown",
   "metadata": {},
   "source": [
    "**5**.\n",
    "\n",
    "Suppose a vector $v$ has coordinates $b$ when expressed as a linear combination of the columns of $A$. What are the new coordinates of $v$ when expressed as a linear combination of the (normalized) eigenvectors of $A$?"
   ]
  },
  {
   "cell_type": "markdown",
   "metadata": {},
   "source": [
    "$Av = b$  \n",
    "$Q\\Lambda Q^{-1}v = b$  \n",
    "$\\rightarrow \\Lambda Q^{-1}v = Q^{-1}b$"
   ]
  }
 ],
 "metadata": {
  "kernelspec": {
   "display_name": "Python 3",
   "language": "python",
   "name": "python3"
  },
  "language_info": {
   "codemirror_mode": {
    "name": "ipython",
    "version": 3
   },
   "file_extension": ".py",
   "mimetype": "text/x-python",
   "name": "python",
   "nbconvert_exporter": "python",
   "pygments_lexer": "ipython3",
   "version": "3.6.10"
  }
 },
 "nbformat": 4,
 "nbformat_minor": 2
}
